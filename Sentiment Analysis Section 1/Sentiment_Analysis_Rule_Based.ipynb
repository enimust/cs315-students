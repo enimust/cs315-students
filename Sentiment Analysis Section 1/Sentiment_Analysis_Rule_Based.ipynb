{
  "nbformat": 4,
  "nbformat_minor": 0,
  "metadata": {
    "colab": {
      "provenance": []
    },
    "kernelspec": {
      "name": "python3",
      "display_name": "Python 3"
    },
    "language_info": {
      "name": "python"
    }
  },
  "cells": [
    {
      "cell_type": "markdown",
      "source": [
        "\n",
        "\n",
        "---\n",
        "\n",
        "\n",
        "**----------- ACTUAL CODES STARTS FROM HERE -----------**\n",
        "\n",
        "---\n",
        "\n"
      ],
      "metadata": {
        "id": "WL1jNylBoW8z"
      }
    },
    {
      "cell_type": "code",
      "source": [
        "#text1"
      ],
      "metadata": {
        "id": "731U7oNhiHKE"
      },
      "execution_count": null,
      "outputs": []
    },
    {
      "cell_type": "code",
      "source": [
        "import json"
      ],
      "metadata": {
        "id": "fuggnbfldFa2"
      },
      "execution_count": null,
      "outputs": []
    },
    {
      "cell_type": "markdown",
      "source": [
        "User 1"
      ],
      "metadata": {
        "id": "BlyhzyhGwDKO"
      }
    },
    {
      "cell_type": "code",
      "source": [
        "# Opening JSON file\n",
        "f = open('user_data.json')\n",
        "\n",
        "# returns JSON object as\n",
        "# a dictionary\n",
        "data = json.load(f)\n",
        "\n",
        "comList = data['Comment']['Comments']['CommentsList']\n",
        "text1 = []\n",
        "for c in comList:\n",
        "  text1.append(str(c['Comment']))\n",
        "\n",
        "text1"
      ],
      "metadata": {
        "colab": {
          "base_uri": "https://localhost:8080/"
        },
        "id": "IL5OYGAUv964",
        "outputId": "aca7962a-c128-4c0b-a52a-6e63619aeba9"
      },
      "execution_count": null,
      "outputs": [
        {
          "output_type": "execute_result",
          "data": {
            "text/plain": [
              "['Woahhhhh sabbbbb',\n",
              " 'I JUST WANNA ATTRACT U 🥰',\n",
              " 'DAMNNN UR ON MY FYP',\n",
              " 'Application submitted 🥺 nervously waits for a “view decision” button',\n",
              " 'YOU BLINKED TOO HARD',\n",
              " 'Teach me how to highlight😭',\n",
              " \"I'd be highlighting the entire hook\",\n",
              " 'HE NEEDS TO START DOING ASMR',\n",
              " 'The most I can guarantee is that they won’t look homeless',\n",
              " '😉😉',\n",
              " 'Put your head on my shoulder is my favorite!!']"
            ]
          },
          "metadata": {},
          "execution_count": 3
        }
      ]
    },
    {
      "cell_type": "code",
      "source": [
        "chatList = data['Direct Messages']['Chat History']['ChatHistory'][\"Chat History with periyudt:\"]\n",
        "for c in chatList:\n",
        "  item = c['Content']\n",
        "  #print(item)\n",
        "  if \"https://www\" not in item:\n",
        "    text1.append(str(item))\n"
      ],
      "metadata": {
        "id": "-2EivsCDeiGo"
      },
      "execution_count": null,
      "outputs": []
    },
    {
      "cell_type": "code",
      "source": [
        "chatList = data['Direct Messages']['Chat History']['ChatHistory'][\"Chat History with sabsabsab517:\"]\n",
        "for c in chatList:\n",
        "  item = c['Content']\n",
        "  #print(item)\n",
        "  if \"https://www\" not in item:\n",
        "    text1.append(str(item))"
      ],
      "metadata": {
        "id": "sxWxlIYChQph"
      },
      "execution_count": null,
      "outputs": []
    },
    {
      "cell_type": "code",
      "source": [
        "chatList = data['Direct Messages']['Chat History']['ChatHistory'][\"Chat History with sooahn_lee:\"]\n",
        "for c in chatList:\n",
        "  item = c['Content']\n",
        "  #print(item)\n",
        "  if \"https://www\" not in item:\n",
        "    text1.append(str(item))"
      ],
      "metadata": {
        "id": "AOX38OmKhTn5"
      },
      "execution_count": null,
      "outputs": []
    },
    {
      "cell_type": "code",
      "source": [
        "len(text1)"
      ],
      "metadata": {
        "colab": {
          "base_uri": "https://localhost:8080/"
        },
        "id": "I1Kstt8vvVF2",
        "outputId": "77f52f2f-c6a8-4549-b8f8-67fc27e227f8"
      },
      "execution_count": null,
      "outputs": [
        {
          "output_type": "execute_result",
          "data": {
            "text/plain": [
              "64"
            ]
          },
          "metadata": {},
          "execution_count": 7
        }
      ]
    },
    {
      "cell_type": "markdown",
      "source": [
        "User 2"
      ],
      "metadata": {
        "id": "UWuC-6g0web5"
      }
    },
    {
      "cell_type": "code",
      "source": [
        "# Opening JSON file\n",
        "f = open('user_data1.json')\n",
        "\n",
        "# returns JSON object as\n",
        "# a dictionary\n",
        "data = json.load(f)\n",
        "\n",
        "comList = data['Comment']['Comments']['CommentsList']\n",
        "text2 = []\n",
        "for c in comList:\n",
        "  text2.append(str(c['Comment']))\n",
        "\n",
        "text2"
      ],
      "metadata": {
        "colab": {
          "base_uri": "https://localhost:8080/"
        },
        "outputId": "264245e9-ecab-4ac1-cd69-89a299e71d4d",
        "id": "frwsvY8iwc84"
      },
      "execution_count": null,
      "outputs": [
        {
          "output_type": "execute_result",
          "data": {
            "text/plain": [
              "['First thing I see after redownloading tt',\n",
              " 'I feel like we’re not talking about how many of these are actually at Wellesley',\n",
              " 'Bro last slide is why ur losing weight',\n",
              " 'When do u suggest starting to reach out for the summer?',\n",
              " 'Hahaha look where u are now',\n",
              " 'Was looking for watched videos and clicked on comments and saw I commented here',\n",
              " 'Giving Hal energy from Malcolm in the middle',\n",
              " 'Claimmm',\n",
              " 'Lmao this just popped up on my fyp',\n",
              " 'I watched this and I was like that looks like —-. And it looks like ur house. And then I realized it was u guys 😭',\n",
              " 'Girl aho',\n",
              " 'Girl…faker',\n",
              " 'I feel like that eye roll was unnecessary',\n",
              " 'Where did u find the fishnet yours with pearls??? I couldn’t find it on calzedonia',\n",
              " 'Not co**er 😭',\n",
              " 'EEEE',\n",
              " 'This is so funny lololol',\n",
              " 'BRUH',\n",
              " '😳😳 my girl getting busyyy',\n",
              " 'NAURRR NO I LOST A PUNCH PASS THAT I HAD NOT USED EVEN ONCE',\n",
              " 'Wait is this real',\n",
              " '😂😂😂',\n",
              " '💀💀💀 uhhh I swiped right once and saw myself',\n",
              " 'I didn’t realize I replied to another comment. But thank you!!!!',\n",
              " 'Where is the 90s one from??',\n",
              " 'Ooos mine is Romanovs 😬',\n",
              " 'Omg I’m so glad I’m not alone I thought I was weird',\n",
              " 'Yeah that makes sense. Ready to ship def should majority of the time be same price all sizes',\n",
              " 'So rather than thinking about it in terms of different sizes, it usually just means the material and hours spent are different.',\n",
              " 'Usually made to order items, customers pay for the material and the wage the seller sets for each hour of work. They combine this all into one price.',\n",
              " 'because there just weren’t enough sales.',\n",
              " 'There’s no easy solution. Truly. This seems like the ideal answer but I have seen quite a few small businesses stop selling larger sizes all together',\n",
              " 'One word: fast fashion',\n",
              " 'I think if it’s handmade and the price increases with each size it’s alright because just like with rings, material-the fabric-gets really expensive',\n",
              " 'Girl why is the shipping so expensive though like price of a full pay item every time u add something',\n",
              " 'Brookiecookie',\n",
              " 'brookiecookie!',\n",
              " 'what everyone else is doing! 😄',\n",
              " 'Honestly any is fine! I think the aesthetic ones that are shorter sometimes get more attention but since I’m an incoming freshmen I just like seeing',\n",
              " 'Vlogs!',\n",
              " '😭😭 wellesley freshmen in the fall. Already had three people say “oh yeah! Wesleyan?”',\n",
              " 'NO NOT THE TRAUMITIZING CHINESE SCHOOL BOOKS',\n",
              " 'Ty!!!! It’s always so busy with fireworks and It’s great to have some more options!!',\n",
              " 'Hey! I returned to Flo for a while because of the ability to track sexual activity. Any way you guys could add this feature??!',\n",
              " 'NO THE NAVY IS SO CLASSY',\n",
              " 'Please love me for who i am. Please don’t leave me out. I want to be held and stroked and laughed with. Always.',\n",
              " 'Omg thx will try',\n",
              " 'Girl ok. So this was me. But like today I let a boy in. We’ve been “dating” (more like fwb?) two days 💀',\n",
              " 'What glue do u use???',\n",
              " 'It used to be us to be us that snapped the whole day about our silly little lives and our silly little thoughts',\n",
              " 'No because I am about to leave for college. And we’re still no 1 bff on Snapchat. But he hasn’t snapped me in 2 days and his snap score still goes up',\n",
              " 'YES lmao',\n",
              " 'Me a senior starting a situationship with a senior who is leaving soon as graduation ends 😞',\n",
              " 'When I met him I told myself I wouldn’t fall for another boy again. That I wouldn’t fall for him. Yet here we are 😅',\n",
              " 'Thanks!!!',\n",
              " 'Dress?',\n",
              " 'Thank you 🥺 going to college next year and I’m scared',\n",
              " 'Omg 🥺 thank you. I am going to college next year and this came in at exactly the right time',\n",
              " 'Heyyyy so I am seriously considering Wellesley-could I also ask u some q? Like genuine student life stuff',\n",
              " 'BOBAAA OMGGG GIRL SO HAPPY FOR U',\n",
              " '*i asked the guy over text first',\n",
              " 'Omgggg that’s so cute. I asked my guy and he said it’s embarrassing and I said I agreed but seeing this im a little crushed I won’t get a movie ask 🥺',\n",
              " 'I feel bad 😭 but also the videos where they show off get me irrationally pissy 😭😭',\n",
              " 'BYEE. Girl yesterday the drain finally started clogging again and my mom woke me up at like 1. I SWEAR I try to be so diligent',\n",
              " 'Stuck between Wellesley, umich, and potentially uchicago. Any thoughts?',\n",
              " 'OMGGGG I DO THIS TOO',\n",
              " 'Man it’s ok me too',\n",
              " 'Marchesa',\n",
              " 'Twinsies 😭😐💀',\n",
              " 'Rejected 😑 thanks for showing up on my page 🤪 love ya northwestern',\n",
              " 'Where did u get the green swimsuit from??',\n",
              " 'Dunno where she got here’s but I saw a similar one browsing chi chi london',\n",
              " 'Purple',\n",
              " 'NOT THE FENG YOU JING',\n",
              " 'They could’ve given the actual percents of Asians at the rink and let the reader decide',\n",
              " 'The tweet is problematic not the article. The word “overrepresented” has a negative connotation and implies that they should be less represented',\n",
              " '💀',\n",
              " 'You want to start an argument. They did not state whether they believed that women would act differently. They want to know if they would.',\n",
              " 'Not the piano in the background…',\n",
              " 'I found my people',\n",
              " 'Gurlllll thank you for this. Gonna save me later no matter how I say I won’t procrastinate',\n",
              " 'Last time I checked…I’m not white or black and there were more places in he world than Africa and America',\n",
              " 'Lara Jean vibes',\n",
              " 'I mean class of 20 is kinda class of 24 too',\n",
              " 'Class of 2020 is also class of 2024 though (for college). So if hs 24 might not get a normal hs experience, college 24 might not either+no senior yr',\n",
              " 'CLAIM',\n",
              " 'Girl I was just rejected 😶\\u200d🌫️',\n",
              " 'The problem is we aren’t choosing one. If people can afford it, they apply to like 20. Imagine 20 why us essays…😭',\n",
              " 'WHAT IS THIS',\n",
              " 'Claimmmm',\n",
              " 'What song is this?',\n",
              " 'I JUST WANT TO GO SKIING DAMN IT',\n",
              " 'Thank you for this. I was feeling really alone. I hope you don’t feel alone either - I also did not get in',\n",
              " 'Rejected form Yale gangggg',\n",
              " 'Don’t forget waking up to blood on the sheets at 3 am',\n",
              " 'HAMILTON AND UMICH IN ONE VIDEO?!?! ❤️❤️',\n",
              " 'NOT LIGHTLY ROW',\n",
              " 'I knew I wasn’t weird for doing this',\n",
              " 'Crazy unrelated thing…we have the same dresserrrrr',\n",
              " 'Manifestingggg',\n",
              " 'Hi! Thank you for the response. I don’t understand…what is the song’s name?',\n",
              " '😭😭😭 I remember this',\n",
              " 'Omg this is like my dream style',\n",
              " 'It’s ok but when it goes slightly off tune it bothers me so much even though Ik it’s prob intentional',\n",
              " 'Ooh ok I’ve never heard of that one! Maybe I’ll check it out. And that book is awesome!',\n",
              " 'Guys read how to be a straight a student by Cal Newport! He talks about this and other study strategies too',\n",
              " 'You like described why we feel bad for stormi',\n",
              " 'Tyyy gonna try this',\n",
              " 'What song is this?',\n",
              " 'Omg hi',\n",
              " 'Read Marie Kondo’s book. Toss/donate everything that you don’t like',\n",
              " 'Weren’t you just talking about “tolerance”?',\n",
              " 'This literally just happened to me 😭',\n",
              " 'Catherine the great anyone? She was my fav',\n",
              " 'Lmaoooo autocorrect. I just have butchered the spelling',\n",
              " 'Wait would this be gift giving or words of confirmation?',\n",
              " 'Don’t test any new skin products like face masks, etc. within 2 days of the start of school',\n",
              " 'Yess',\n",
              " 'Anyone know what song this is?',\n",
              " 'Girl…I’m not ready for this',\n",
              " 'I KNOW A LEUCHTTERUM WHEN I SEE ONE',\n",
              " 'I’m curious (I’m a women so I totally get the female gaze explanation) - does anyone know if I’m general men look more at appearance then personality?',\n",
              " 'IM CANCELLING THIS SOUND WE GOTTA MOVE ON',\n",
              " 'GIRL I CANT WITH THIS SOUND ANYMORE',\n",
              " 'weren’t nice either. *$200-400',\n",
              " 'The tea and various other foods are expensive and very hard to find in foreign countries. She shouldn’t have thrown such a fit but the employees',\n",
              " 'I can understand both sides. On one hand, the employees have to follow the policy. On the other hand, it looks like she lost $2-400 American dollars',\n",
              " 'Yes some rando started following me and I’ve resorted to reporting them every few months',\n",
              " 'THSI IS WHAT I NEEDED 9 HOURS BEFORE SCORE RELEASE',\n",
              " 'GIRL SAME. HE’S ON A NO CONNECTION CANOE TRIP AND I CAN’T EVEN POST A STORY TO STALK WHEN HE LOOKS AT IT',\n",
              " 'Heyyyy I play league too!',\n",
              " 'Only speaking the truth 👀',\n",
              " 'Is she even famous enough to be canceled…',\n",
              " 'Word is used the majority of the time with an inoffensive def',\n",
              " 'Mental disabilities. But in this case the word used is “veggie” and the meaning is totally different. In addition unlike the r or n word, the',\n",
              " 'Ok but calling people “vegetable” is a slur 1) they intend for it to have the offensive def 2) that is the actual word people use to degrade those wit',\n",
              " 'SHES AT 130k now omgggg',\n",
              " '#intelligence #sosmart 😌',\n",
              " 'Where did you get the clips?',\n",
              " 'And soyunara. I can’t attest to the quality but the overall aesthetic is pretty similar and the shipping takes some time. 2/2',\n",
              " 'You can de find similar clothes in lots of popular stores but you have to really look. There are stores with this aesthetic like chuu, mixxmixx, 1/2',\n",
              " 'It’s a duck girl face now',\n",
              " 'Firsttttt',\n",
              " 'With the master of none added a bit later and the last part added most recently',\n",
              " 'The last part was added during the twenty first century - no record of it before that. The original phrase was just jack of all trades',\n",
              " 'Does anyone know which recording this is from (it seems to be in another key)',\n",
              " 'Where did you get those mint green shorts from?!? So cuteeeee',\n",
              " 'I thought this was one of the random ass TikToks that just exist and then I realized it was u…',\n",
              " 'Can none tell ,w the song playing in the background?',\n",
              " 'And some boomers and millennials don’t? There are going to be people everywhere, every age who act like they are above criticism.',\n",
              " 'We should be targeting the source of misinformation and teaching everyone HOW to use critical thinking not throwing blame',\n",
              " 'And being active by posting infographics on stories. There are people of all generations criticizing each other but they are mostly in the minority.',\n",
              " 'I don’t think we should be isolating any generations: not generalizing all boomers as being outdated and gullible and not generalizing genz as shallow',\n",
              " 'Yeah....dunno why. Almost as if not all the genz generalize boomers and millennials and not all millennials and boomers generalize genz',\n",
              " 'Like when I’m on my period the HIGHLIGHT of my day is showering',\n",
              " 'Henry VII starting his own church so he can divorce and remarry five times 👀',\n",
              " 'Yes definitely the more radical you go on either side of the spectrum. However, I have rarely heard of it being parsed into generations',\n",
              " 'I don’t know if it’s just the media you see but for me mentions of people consuming misinformation are about deluded trump supporters not specific gen',\n",
              " 'I mean.....this shouldn’t be targeted at gen z when it’s clear every generation is having this problem',\n",
              " 'Yeah...most of the time I hear about true stories and many times people DO do their research. That’s how we get videos of people exposing things',\n",
              " 'Hmmm maybe it should be less “gen z needs to be a little more critical of the information they are receiving” and “everyone needs to....”',\n",
              " 'instead of Korean)',\n",
              " 'Also I’m just curious why do you find it offensive that the actress for mc isn’t half white like in the books? (I do get why for the actor being viet',\n",
              " 'Overall, I did not find nothing too offensive about the movie but I did not watch the second or third one becuz the books were just so much better',\n",
              " 'Book. However, I do think there could have been more diversity in the side characters - why is the gay character the only black one?',\n",
              " 'Movies with white siblings all the time. And about all the main cast being white, there’s nothing we can really do becuz that’s how it was in the',\n",
              " 'And think it’s quite silly. However, I do think that we shouldn’t nitpick at the siblings not looking alike cuz honestly we see the same thing in',\n",
              " 'Well about the Ireland point it’s because after the third book, Lara Jean was going to visit Korea. I have no idea why they moved it forward',\n",
              " 'Honestly. They were really cute and you actually really wanted them to stay together',\n",
              " 'In fact if you really saved up you could get an iPad on sale and that would also work as a monitor',\n",
              " 'Thanks!',\n",
              " 'Thought you finally got a girlfriend',\n",
              " 'Wow!! Do you remember where you bought them from?',\n",
              " 'But really it was just with him. So hmmmm (he also happened to oppose abortion but that’s irrelavent lol)',\n",
              " 'Thought I was. Buts really I was just bad at conversing with him and his words slowly made me feel I like that in all conversations',\n",
              " 'I’m Chinese and i think I’ll start wearing these lol /j',\n",
              " 'Uh like women can just have ✨big ass and big tits✨. Please let me know where I can just magically obtain them....',\n",
              " 'Besides they both look beautiful - and no I’m not just saying that to be nice.',\n",
              " 'Guys...this was supposed to show how your words may impact other people. “just telling the truth” really? She is quite literally a kid.',\n",
              " 'What the boy assumed is also racism. However, the important thing s that they acknowledge that these ideas are not correct.',\n",
              " 'People here are only pressed about the first girl - just like how the model minority myth is harmful to Asians despite the “positive” connotations,',\n",
              " 'Racism and prejudice in the world is to make sure people acknowledge that they have them and identify where they are from.',\n",
              " 'The first girl is saying the same thing as the fourth person - except she is stating negative prejudices not positive. The first step to overcoming ra',\n",
              " 'Lmaooo',\n",
              " 'Hello! Do you have any tips for how to start something like this in our city? My city has gone through a lot lately too',\n",
              " 'My eyes always give me away',\n",
              " 'Undersized t shirts anyone?',\n",
              " 'Depends on the tofu you try for the texture. I liked the explanation that it is like rice - how good it is depends on how you cook it.',\n",
              " 'Yeah the comment shouldn’t be justifying this. I also feel though that op shouldn’t be putting down women who actually enjoy it',\n",
              " 'Well I don’t think it’s fair to say that it’s depressing. Maybe not the best overarching assumption but some people actually like grocery shopping',\n",
              " '....koala? People see me as a koala?',\n",
              " 'What omg omg I love this song!!!! I thought I was the only one who knew about it. You sound so good!!!',\n",
              " 'Ariana grande vibes',\n",
              " 'Why did no one tell me bridgerton would be so uhhh explicit. I WATCHED THOSE PARTS ON MY SCHOOL COMPUTER',\n",
              " 'Yes everyone should read little girls in pretty boxes. It’s pretty horrifying what many competitive gymnastics and figure skating kids go through',\n",
              " 'This is so true. When ur three and you don’t have a choice, no matter how good you get you learn to hate it',\n",
              " 'Yesssss I love that series but no one ever seems to read it',\n",
              " 'These re all finished series btw',\n",
              " 'Depends on what you read. Luff, freaking romance, Yummi’s cells, good day to be a dog and the stories of those around me are all really good.',\n",
              " 'Me watching at 2 am 👀 I see I see',\n",
              " 'Nonono it’s too late in the night to start simping',\n",
              " 'Sounds like my mother’s WeChat group is acting up',\n",
              " 'I mean so many us classes are centere around the ap curriculum and that’s just not in it. Everyone knows about cellular respiration though',\n",
              " 'That smile reminded me weirdly of abed from community',\n",
              " 'Some of these comments are really insensitive...',\n",
              " 'The problem is if nobody replied to me I would forget I ever entered',\n",
              " 'How do we use the butter plate? Do we eat from it when it’s on the side or do we move it?',\n",
              " 'Someone’s finally convinced to get off tik tok and do my hw',\n",
              " 'We’re gonna need an update!!!',\n",
              " 'I am not commenting on the nature of the relationship. Only pointing out that many of the comments are very hypocritical.',\n",
              " 'Wouldn’t the better response be to find out more about there relationship and send her to therapy?',\n",
              " 'Relationship. Let’s assume these things were all true of the relationship. Then doesn’t this mean the girl needs help not punishment?',\n",
              " 'The people defending the parents are crazy. The reasoning I hear for it is because of the law, the inappropriate age gap, and the potential predatory',\n",
              " '*people would argue the law is there because it would be an inappropriate relationship with a power dynamic. So should the girl be blamed for that?',\n",
              " '*”preyed on”by the 18 year old? Your comments suggest that you think the relationship was wrong. Why? Because of the age difference. But do we blame t',\n",
              " 'Is it love when they don’t support you emotionally? You say the girl must experience consequences for her actions but isn’t she the one being preyed',\n",
              " 'Oh gosh I didn’t even notice 😂',\n",
              " 'I keep on thinking I’m not washing all the conditioner off but who knows!',\n",
              " 'Low key fire though',\n",
              " 'Guys I have eczema and use this when it flares. Just a warning to not use it too often cuz it’s bad for your skin long term.',\n",
              " 'These outfits are actually so cute',\n",
              " 'Yesssss!!!',\n",
              " 'Yuumi’s cells? Anyone anyone??',\n",
              " 'WHAT PEOPLE ARE ACTUALLY BEHAVING??!',\n",
              " 'Stealing this (for personal use only)',\n",
              " 'I think this would also work in a regular Uber 😂',\n",
              " 'Ah nice you go do lucky! I went with my family a few years ago and it was cloudy the whole time (it’s own type of pretty but not the same)',\n",
              " 'I think I’ve just found my research paper topic. Thank you for creating this! I know about the Chinese EA but it’s not very widely taught!',\n",
              " 'WE HAVE THE PLATES TOO. Is it just an Asian family thing?',\n",
              " 'Nah my mother forced me to wear the same backpack',\n",
              " 'Thank youuuuu. I always look like a clown when I try eyeshadow on my very Asian eyes',\n",
              " 'These quotes/comments sound like something straight out of to all the boys',\n",
              " 'Yay I’m not the only person to save wrapping paper! I do it cuz I’m cheap though lol',\n",
              " 'Looks like I’m going to be own significant other! So cute',\n",
              " 'Literally what I look up on Pinterest every time because I have no idea what it’s called lol',\n",
              " 'You all have no life. I’m just going to sit here and wait for the replies to roll in.',\n",
              " 'You already have a ton of replies so I’ll just comment exactly. It’s not even like there’s a limited number! They literally said anyone',\n",
              " 'Right on time I was just wrapping presents',\n",
              " 'Bringing up forgotten memories lol',\n",
              " 'I stopped chewing my cereal',\n",
              " 'Sometimes I even get the different brands confused',\n",
              " 'Fugitive slave act really emphasized state rights huh /s',\n",
              " 'Y’all sleeping on one',\n",
              " 'THANK YOU THANK YOU. My secret snowflake is a boy. Wth do I get him?',\n",
              " 'I would also recommend house of mirth thought it’s a bit depressing',\n",
              " 'I didn’t even notice that 😂',\n",
              " 'Tommyinnit is very jealous right now',\n",
              " 'If this isn’t the truest statement I’ve ever seen',\n",
              " 'Lmao I missed someone’s order on Etsy cuz no one would buy and I stopped checking',\n",
              " 'Daca, taxes, social media companies. There’s more if you want to hear. And I’m sure original poster agrees with at least some of these.',\n",
              " 'His stance on climate change, abortion, student debt (which btw I like that he’s not saying cancel them just helping expand/fix debt relief Programs),',\n",
              " 'I personally think I would wait a bit with the COVID vaccine but you can’t really use the my body my choice argument only when it suits you.',\n",
              " 'But seriously, I think I could learn so much more in an environment like this',\n",
              " '!!!!!!!!!!!!!!!!!!!!!!!!!!',\n",
              " 'First like. Lmao I snorted',\n",
              " 'Right??? All the mystery ones that I keep on seeing are 100% from douyin.',\n",
              " 'Wth I’ve never noticed that',\n",
              " 'Lmaoooo',\n",
              " 'Ah I used to have dance recitals every year. Wish I didn’t quit now :(',\n",
              " 'You forgot the unflushed toilet 🥴',\n",
              " 'Those pleated skirts? Yeah I’ve been wearing mine since 2 years ago when people would ask me if I was wearing a uniform.',\n",
              " 'Finally someone who didn’t say 3 things and say like for part two',\n",
              " 'Rule of thumb: if you haven’t talked about your future and life goals with your SO you probably shouldn’t ask them to marry you',\n",
              " 'You guys should read house of mirth',\n",
              " 'No matter how many times I see your videos pop up on my fyp I crack up',\n",
              " 'The problem is every time I think about living in the past I think about the chamber pots',\n",
              " 'What kind of mother let’s that happen to her daughter? Good riddance!',\n",
              " 'I learned table etiquette by myself from online. Don’t ask me why',\n",
              " 'I feel like using a calligraphy pen (tombow dual brush pen in the video) makes it easier though',\n",
              " 'Alaska wtffff',\n",
              " 'Asian eyes 😐',\n",
              " 'I think I gained weight on my face over quarantine 😭. You look nice though!',\n",
              " 'i swear some people are just stalking the comments. I’ve never gotten replies so fast before commenting here',\n",
              " 'Homework time has turned into homework+stream time',\n",
              " 'Really???',\n",
              " 'Wow love the sequined dress (and your outfit pairings!)',\n",
              " '😂😂😂 I laughed way too hard when she said that',\n",
              " 'Remember guys Michigan, Wisconsin, Nevada, and maybe even penn are still pending',\n",
              " 'Hiiii',\n",
              " 'Omggg 🥺 wish I was further north',\n",
              " 'Have you tried the non scented? For some reason I’m allergic to the scented but not the one for sensitive skin',\n",
              " 'IMO stuff like dove non scented soap and cerave work because they don’t focus on the scent and rather on moisturizing/gently cleaning',\n",
              " 'I’ve had eczema and really sensitive skin my whole life and this is absolutely true. The “fancy” products always make my skin flare up.',\n",
              " 'Omggg yes thank you for telling me',\n",
              " 'I mean I know people who have the same hw as me but do it much faster. Really I think the learning process varies for different people',\n",
              " 'This sound is actually fire',\n",
              " 'Love this sound and love the video lol',\n",
              " 'Yeh I was angry at first but then went to his pfp and I think this vid was severely misrepresented here. He has one for if girls disappeared too',\n",
              " 'Recipe???',\n",
              " 'YESS IT DOESN’T COME NATURALLY THEY’RE ALL LIARS',\n",
              " 'YESSSS',\n",
              " 'Meeeeee',\n",
              " 'I’m so eco friendly I don’t even shave lol 😅',\n",
              " 'Also quite sus he showed one clip of Democrats saying no',\n",
              " '😭😭😭 thank you. Next time def',\n",
              " 'Um even if he did say the n word (which I don’t think he did) this is not right. When is it ever ok to harass someone in the middle of the night?',\n",
              " 'Oh lol sorry didn’t see ur other comment. Thanks!',\n",
              " 'Me too? Thx',\n",
              " '😭 I sound so annoying',\n",
              " 'Omg I was so hyped when they moved in a target',\n",
              " 'Me planning on pulling an all nighter👁👄👁',\n",
              " 'Plz same',\n",
              " 'If we’re lucky we’ll get slush this year 😭',\n",
              " '...ya caught me',\n",
              " '😭😭😭 it’s about time we get a snowstorm here again',\n",
              " 'Me tooooo',\n",
              " 'I wish! I was going to this winter break but with the corona virus and everything I don’t think I’ll be going 😔. Where do u usually ski?',\n",
              " 'Yes! Honestly love them both. U going skiing this winter?',\n",
              " 'I have to beg my mom for a month first',\n",
              " 'The second one is def more mature looking but honestly can’t go wrong with either since the first one is pretty fun too!',\n",
              " 'This',\n",
              " 'Don’t know if anyone will see this but Peter Chang is really good too!!!',\n",
              " 'My weight just keeps going 📈📈📈this quarantine and I can’t stop eating 😔',\n",
              " 'Our streak still going 😭',\n",
              " 'I wouldn’t say she she’s obsolete. I’ve heard of her and her music.',\n",
              " 'Oh yeah lol I actually found it a while ago (look below) but thanks',\n",
              " 'Only buy when things are on sale if you do buy from there. And also you might spend more money on YesStyle then AliExpress but it usually ships faster',\n",
              " 'Well I found out today after a $60 order that for many things you can get for cheaper on Ali express. You have to check reviews for both sites/apps',\n",
              " 'I remember using two sticks as chopsticks to get money out lol',\n",
              " 'All fun and games until your report card says no participation',\n",
              " 'So just check reviews and stuff!',\n",
              " 'Be careful guys. In China, even when they use the same photos the quality could be drastically different depending on how they supervise the factory.',\n",
              " 'Um right. I literally would wear them until there were holes in the front',\n",
              " 'I’m literally too scared to even wear doc martens 😣',\n",
              " 'Wowww that’s awesome and really unique!',\n",
              " 'Wowww could u do something Halloween themed?',\n",
              " 'Thank you for making my night 😂',\n",
              " 'wow I made it to skating tik tok. Love you both!!! Can’t believe you made a tik tok account Maia!',\n",
              " 'Yesss',\n",
              " 'Oh wow. I used to watch the show this audio came from religiously',\n",
              " 'YESSSSS could not believe she was the same age as me!',\n",
              " 'Millie Bobby brown is honestly so attractive in looks and personality',\n",
              " 'Yes!!!! People should be talking about how great a bf Louis is; they shouldn’t be hating on his girlfriend',\n",
              " 'His friends crack me up 😂',\n",
              " 'There may be an audio book somewhere too',\n",
              " 'Y’all got to read “the life changing magic of tidying up” by Marie kondo',\n",
              " 'Can’t go skiing this year cuz people won’t wear their masks 😭',\n",
              " 'I think your sister should turn this into a business opportunity lol',\n",
              " 'Me too',\n",
              " 'Couldn’t get over my e￼￼x. Saw Louis, watched all his interviews and boom lol',\n",
              " 'Millie deserves more hype! Not only is she a successful actor, she’s really funny, thoughtful, has a makeup line, and is an ambassador for unicef',\n",
              " 'Also Millie Bobby brown though. She’s 16 and has her life wayyy together.',\n",
              " 'Right lol i would be more shocked if he didn’t have one',\n",
              " 'Yes. This.',\n",
              " '101 ur mom better be serious lol',\n",
              " 'Yes!!! My sixth grade fashion sense pulling through',\n",
              " 'Yeah same. I mean people are hating on the girl who he duetted. Imagine what his girlfriend (if he has one) would go through',\n",
              " 'Omg how did u even find out',\n",
              " 'Plz plz plz let it snow on the east coast this year',\n",
              " '😂😂',\n",
              " 'The real question is why HE would want to pull ME',\n",
              " 'Yessss girl!',\n",
              " 'Sameee and then I just HAVE to like all of them',\n",
              " 'This is my sign that I’ve been looking at too many pics of Louis 💀',\n",
              " '😭😭same never been so stressed my whole life',\n",
              " 'Heyyy what’s up. Ur on my Louis themed fyp',\n",
              " '😳 You just described me from a month or two ago exactly. It gets better girl! You don’t need him. Pick up some new hobbies that make you happy!!',\n",
              " '😭 snap me once and you’ll be on',\n",
              " 'They both do be fine though',\n",
              " 'My friend plays golf and she’s low key stronger than any boy I know (though the problem could be the boys i know)',\n",
              " 'I low key feel bad for the girl he dueted too',\n",
              " 'When they put midterms right after winter break. 💀 come on',\n",
              " 'Sameeee girl',\n",
              " 'Eyyyy I’m back in middle school',\n",
              " 'same 💀',\n",
              " 'I tried taking shower snaps and found out I looked like 💩',\n",
              " 'Aw yeah!!!',\n",
              " 'My eyes are blessed at least 50 times a day now but it never gets old 😍',\n",
              " '“I’m marrying a girl” 😳 thought I was straight',\n",
              " 'My type of humor lolll',\n",
              " 'Cries in asian',\n",
              " 'My mom actually puts them in the fridge after a few days',\n",
              " 'Insta is _brookicooki_',\n",
              " 'The crossover we didn’t know we needed',\n",
              " 'When he stuck out his tongue 🥺',\n",
              " 'But then in 15 weeks 😭',\n",
              " 'Hellppp anyone here know???',\n",
              " 'I think this is a sign I should order the one in my Amazon cart',\n",
              " 'Lol edits and facial expressions so on point',\n",
              " 'Somehow you’ve convinced me to go do my work',\n",
              " 'You guys low key stalkers 😳 (not that I can say anything cuz I’m enjoying this content)',\n",
              " 'Too accurate for me💀💀',\n",
              " 'Yeah like come on they’re so cute together!!',\n",
              " 'Awww they’re so cute together!!! 🥺',\n",
              " 'Mhm yah I don’t have a single photo on my Insta lol',\n",
              " 'Awww. Well now I want to see cute relationship photosssss',\n",
              " 'Oh lol it’s the girl who’s username popped up when you searched his name. (Also love ur post. super cute!)',\n",
              " 'I vibe with the girl who has “I love Louis partridge” in her bio',\n",
              " 'At this point my for you page is just videos of boys I simp over',\n",
              " 'Reddit',\n",
              " 'Twinkle lights are superior',\n",
              " 'Um that’s hella impressive',\n",
              " '😭😭😭😭',\n",
              " 'So we’re just gonna ignore how it says it’s genetic 😳',\n",
              " 'Done!! I love the skirt and the tanks',\n",
              " 'Ummmm she’s pretending to be a different person now and pretending she helped you get HER account reported...wth lol',\n",
              " '??? My double wall oven is at least 10-15 years old',\n",
              " 'Really making me simp for a school I have no chance at 🥺',\n",
              " 'Without a doubt Louis partridge. Yes that one.',\n",
              " 'Nah there’s gonna be no snow again this year 😭 it’s just going to be miserable rain',\n",
              " 'Right like wth',\n",
              " '😭😭 didn’t come naturally to me. I think I scared him off',\n",
              " 'um why does tik tok know my thoughts better than I do',\n",
              " 'Um what these answers are scarily accurate lol',\n",
              " 'Yes! And then I feel pressured',\n",
              " 'Yeahhhh July 1st gang',\n",
              " 'Claimmmmmm',\n",
              " 'Yep I’ll wake up and have exactly one double eyelid',\n",
              " 'Yoooo just found the sound if u still want to know lol. This clip of sound is somewhere in the middle of TRNDSTTR (Lucian Remix) black coast.',\n",
              " 'Song is black coast TRNDSTTR (Lucian remix) people',\n",
              " '^^^',\n",
              " 'Sad :( I’m looking for this sound too',\n",
              " 'Yooo r those earrings from YesStyle?',\n",
              " 'Wow! Your tones and pronunciation are so good!',\n",
              " 'Friendship goalssssas this is what I aspire for',\n",
              " 'Omgggg looks so good gonna copy haha. Only thing is iOS 14 messed up my cam',\n",
              " 'Yassssds your nameeeee! Looks great!',\n",
              " 'Sat score release was today and I spent the morning crying. Thanks for making me feel better and laugh! I love ur vids!',\n",
              " 'Lol same',\n",
              " 'I don’t even know how to kiss someone...',\n",
              " 'What’s this song?',\n",
              " '...I think I’ve taken it to the next level by actually dreaming them',\n",
              " 'Oh come on my boyfriend just broke up with me 😑',\n",
              " 'Me lol except cuz my boyfriend broke up with me and my WiFi is always bad',\n",
              " 'Or doing kimono frantically on the car while ur mom yells at you lol',\n",
              " 'And then they always decide to wait lol',\n",
              " 'The come into my room to say go play piano',\n",
              " 'Omg it’s lightly row from my piano Suzuki book',\n",
              " 'Fyp',\n",
              " 'Most relatable one I’ve seen yet lol!',\n",
              " 'Also, thanks for making this video! It’s really nice that you’re interacting with your followers and letting them vent!',\n",
              " 'I can’t focus on my ap exams and being compared to everyone else only makes me feel worse knowing that I’m trying but can’t do better.',\n",
              " '@chipotle',\n",
              " 'When Marjan doesn’t speak English anymore...',\n",
              " 'Marjan...is your mouth ok?']"
            ]
          },
          "metadata": {},
          "execution_count": 8
        }
      ]
    },
    {
      "cell_type": "code",
      "source": [],
      "metadata": {
        "id": "5nBlkNOawc85"
      },
      "execution_count": null,
      "outputs": []
    },
    {
      "cell_type": "code",
      "source": [
        "chatList = data['Direct Messages']['Chat History']['ChatHistory'][\"Chat History with _estheryi:\"]\n",
        "for c in chatList:\n",
        "  item = c['Content']\n",
        "  #print(item)\n",
        "  if \"https://www\" not in item:\n",
        "    text2.append(str(item))\n"
      ],
      "metadata": {
        "id": "LaRHNLsnwc85"
      },
      "execution_count": null,
      "outputs": []
    },
    {
      "cell_type": "code",
      "source": [
        "chatList = data['Direct Messages']['Chat History']['ChatHistory'][\"Chat History with _estheryii:\"]\n",
        "for c in chatList:\n",
        "  item = c['Content']\n",
        "  #print(item)\n",
        "  if \"https://www\" not in item:\n",
        "    text2.append(str(item))"
      ],
      "metadata": {
        "id": "dn0f0hR7wc85"
      },
      "execution_count": null,
      "outputs": []
    },
    {
      "cell_type": "code",
      "source": [
        "chatList = data['Direct Messages']['Chat History']['ChatHistory'][\"Chat History with _h.e.a.t.h.e.r._:\"]\n",
        "for c in chatList:\n",
        "  item = c['Content']\n",
        "  #print(item)\n",
        "  if \"https://www\" not in item:\n",
        "    text2.append(str(item))"
      ],
      "metadata": {
        "id": "N-nX4cY4wc85"
      },
      "execution_count": null,
      "outputs": []
    },
    {
      "cell_type": "code",
      "source": [
        "chatList = data['Direct Messages']['Chat History']['ChatHistory'][\"Chat History with alden.zhang:\"]\n",
        "for c in chatList:\n",
        "  item = c['Content']\n",
        "  #print(item)\n",
        "  if \"https://www\" not in item:\n",
        "    text2.append(str(item))"
      ],
      "metadata": {
        "id": "x4xR0qRuw0jG"
      },
      "execution_count": null,
      "outputs": []
    },
    {
      "cell_type": "code",
      "source": [
        "chatList = data['Direct Messages']['Chat History']['ChatHistory'][\"Chat History with girlbosswastaken:\"]\n",
        "for c in chatList:\n",
        "  item = c['Content']\n",
        "  #print(item)\n",
        "  if \"https://www\" not in item:\n",
        "    text2.append(str(item))\n"
      ],
      "metadata": {
        "id": "-xUKCtalw3kL"
      },
      "execution_count": null,
      "outputs": []
    },
    {
      "cell_type": "code",
      "source": [
        "chatList = data['Direct Messages']['Chat History']['ChatHistory'][\"Chat History with katyalcalder:\"]\n",
        "for c in chatList:\n",
        "  item = c['Content']\n",
        "  #print(item)\n",
        "  if \"https://www\" not in item:\n",
        "    text2.append(str(item))"
      ],
      "metadata": {
        "id": "tFxlmZapw0MV"
      },
      "execution_count": null,
      "outputs": []
    },
    {
      "cell_type": "code",
      "source": [
        "chatList = data['Direct Messages']['Chat History']['ChatHistory'][\"Chat History with stabizzle:\"]\n",
        "for c in chatList:\n",
        "  item = c['Content']\n",
        "  #print(item)\n",
        "  if \"https://www\" not in item:\n",
        "    text2.append(str(item))"
      ],
      "metadata": {
        "id": "iiUwiPCfw9lo"
      },
      "execution_count": null,
      "outputs": []
    },
    {
      "cell_type": "code",
      "source": [
        "chatList = data['Direct Messages']['Chat History']['ChatHistory'][\"Chat History with thechrisoshow:\"]\n",
        "for c in chatList:\n",
        "  item = c['Content']\n",
        "  #print(item)\n",
        "  if \"https://www\" not in item:\n",
        "    text2.append(str(item))"
      ],
      "metadata": {
        "id": "R9KZwj2dw_-v"
      },
      "execution_count": null,
      "outputs": []
    },
    {
      "cell_type": "code",
      "source": [
        "len(text2)"
      ],
      "metadata": {
        "colab": {
          "base_uri": "https://localhost:8080/"
        },
        "outputId": "63448b51-6254-43c9-c78c-b32ba9c5cb2f",
        "id": "wBVJnCOXwc85"
      },
      "execution_count": null,
      "outputs": [
        {
          "output_type": "execute_result",
          "data": {
            "text/plain": [
              "995"
            ]
          },
          "metadata": {},
          "execution_count": 17
        }
      ]
    },
    {
      "cell_type": "code",
      "source": [
        "data = text1 + text2"
      ],
      "metadata": {
        "id": "xInBG5FhxR3h"
      },
      "execution_count": null,
      "outputs": []
    },
    {
      "cell_type": "code",
      "source": [
        "len(data)"
      ],
      "metadata": {
        "colab": {
          "base_uri": "https://localhost:8080/"
        },
        "id": "wxv1zVGCxSof",
        "outputId": "d9be800e-4bf4-4474-f2eb-5de8ec18f9b5"
      },
      "execution_count": null,
      "outputs": [
        {
          "output_type": "execute_result",
          "data": {
            "text/plain": [
              "1059"
            ]
          },
          "metadata": {},
          "execution_count": 19
        }
      ]
    },
    {
      "cell_type": "markdown",
      "source": [
        "define positive and negative words"
      ],
      "metadata": {
        "id": "REZ7wRX-xYuE"
      }
    },
    {
      "cell_type": "code",
      "source": [
        "positive = [\"woah\", \"dang\", \"damn\", \"happy\", \"favorite\", \"omg\", \"yay\", \"haha\", \"lmao\", \"lol\", \"yeah\", \"!\", \"aw\", \"yep\", \"superior\", \"good\", \"nice\", \"great\", \"kiss\", \"cute\", \"vibe\", \"hype\", \"attract\", \"favor\"]\n",
        "negative = [\"ew\", \"sorry\", \"dumb\", \"stupid\", \"horrible\", \"no\", \"wait\", \"not\", \"sad\", \"..\", \"don't\", \"um\", \"scare\", \"broke\", \"pressured\", \"crying\", \"miserable\", \"hell\", \"more\", \"hard\", \"homeless\", ]"
      ],
      "metadata": {
        "id": "yb7z2bmUvfrd"
      },
      "execution_count": null,
      "outputs": []
    },
    {
      "cell_type": "code",
      "source": [
        "import nltk\n",
        "\n",
        "from nltk import word_tokenize\n",
        "from nltk.corpus import stopwords\n",
        "\n",
        "from sklearn.feature_extraction.text import CountVectorizer\n",
        "from nltk.stem.porter import PorterStemmer\n",
        "from nltk.stem import WordNetLemmatizer\n",
        "nltk.download('stopwords')\n",
        "\n",
        "ps = PorterStemmer()\n",
        "\n",
        "\n",
        "import gensim\n",
        "\n",
        "import numpy as np\n",
        "import pandas as pd\n",
        "import re\n",
        "\n",
        "import transformers\n",
        "from transformers import pipeline"
      ],
      "metadata": {
        "colab": {
          "base_uri": "https://localhost:8080/"
        },
        "id": "rghrL_pA-cwZ",
        "outputId": "3199a44f-3d98-4912-9f71-ac910efc14cd"
      },
      "execution_count": null,
      "outputs": [
        {
          "output_type": "stream",
          "name": "stderr",
          "text": [
            "[nltk_data] Downloading package stopwords to /root/nltk_data...\n",
            "[nltk_data]   Unzipping corpora/stopwords.zip.\n"
          ]
        }
      ]
    },
    {
      "cell_type": "code",
      "source": [
        "# add tags to the train sampling\n",
        "\n",
        "def process(text) :\n",
        "  #remove non letters\n",
        "  rawText = re.sub(\"[^a-zA-Z]\", \" \", text)\n",
        "\n",
        "  #remove numbers\n",
        "  rawText = re.sub('\\d+(\\.\\d+)?', \" \", rawText)\n",
        "\n",
        "  #repeating last character --> come back\n",
        "  rawText = re.sub('(\\w+?)\\1+$', '\\1', rawText)\n",
        "\n",
        "  #lowercase\n",
        "  words = rawText.lower().split()\n",
        "\n",
        "  #define stopwords (e.g. a, the, an, of)\n",
        "  stop = set(stopwords.words(\"english\"))\n",
        "\n",
        "  key_words = [ps.stem(w) for w in words if not w in stop]\n",
        "\n",
        "  return (\" \".join(key_words))"
      ],
      "metadata": {
        "id": "-AlfLk22yvhB"
      },
      "execution_count": null,
      "outputs": []
    },
    {
      "cell_type": "code",
      "source": [
        "cleantext = []\n",
        "for i in range(0, len(data)) :\n",
        "  cleantext.append(process(data[i]))"
      ],
      "metadata": {
        "id": "V8PFU4fqyvXr"
      },
      "execution_count": null,
      "outputs": []
    },
    {
      "cell_type": "code",
      "source": [
        "print(cleantext)"
      ],
      "metadata": {
        "colab": {
          "base_uri": "https://localhost:8080/"
        },
        "id": "GIwdTvl4CiEy",
        "outputId": "7518ccba-da90-4e89-ed70-8321bd7f7746"
      },
      "execution_count": null,
      "outputs": [
        {
          "output_type": "stream",
          "name": "stdout",
          "text": [
            "['woahhhhh sabbbbb', 'wanna attract u', 'damnnn ur fyp', 'applic submit nervous wait view decis button', 'blink hard', 'teach highlight', 'highlight entir hook', 'need start asmr', 'guarante look homeless', '', 'put head shoulder favorit', 'eheheh di cute', 'lol', 'delet messag bc accident sent accid', 'sorri', 'u still see', 'huh delet lmao', 'ok hehe', 'u beeen', 'colleg life like', 'alright', 'bit stress cuz class took also realli funnnnn', 'omggg pl like thu', 'ahahaha cute hehe', 'u need', 'ye thank babe', 'tri realli hard', 'sure actual time', 'awww', 'see alllll gud', '', 'hahahaha', 'three hr class kcjsbsjw', 'four time week', 'liter', 'cute send', 'bhahaha js funni pl', 'ok rememb vid like dad ask babi tell mom mommi never get old heart', 'babi like mommi daddi said u old', 'hahahahaha', 'that funni lmao', 'hahahahahahha', '', 'grow', 'wanna cat', 'im sri cring sm', 'ahahahaha', 'eek', 'bruh im jealou', 'need', 'whaaaaaa', 'rich donat one wellesley', 'omggg itt', 'crazzyy', 'mete even mete', 'catto cheek want squish squish', 'hehe cute', 'u lmao', 'cuz one reason updat ull hear soon', 'carolin told send', 'lmao', 'want cuddl', 'lmao tri filter well guess imma pole dancer', 'lmao got priest hahaha', 'first thing see redownload tt', 'feel like talk mani actual wellesley', 'bro last slide ur lose weight', 'u suggest start reach summer', 'hahaha look u', 'look watch video click comment saw comment', 'give hal energi malcolm middl', 'claimmm', 'lmao pop fyp', 'watch like look like look like ur hous realiz u guy', 'girl aho', 'girl faker', 'feel like eye roll unnecessari', 'u find fishnet pearl find calzedonia', 'co er', 'eeee', 'funni lololol', 'bruh', 'girl get busyyi', 'naurrr lost punch pass use even', 'wait real', '', 'uhhh swipe right saw', 'realiz repli anoth comment thank', 'one', 'ooo mine romanov', 'omg glad alon thought weird', 'yeah make sens readi ship def major time price size', 'rather think term differ size usual mean materi hour spent differ', 'usual made order item custom pay materi wage seller set hour work combin one price', 'enough sale', 'easi solut truli seem like ideal answer seen quit small busi stop sell larger size togeth', 'one word fast fashion', 'think handmad price increas size alright like ring materi fabric get realli expens', 'girl ship expens though like price full pay item everi time u add someth', 'brookiecooki', 'brookiecooki', 'everyon els', 'honestli fine think aesthet one shorter sometim get attent sinc incom freshmen like see', 'vlog', 'wellesley freshmen fall alreadi three peopl say oh yeah wesleyan', 'traumit chines school book', 'ty alway busi firework great option', 'hey return flo abil track sexual activ way guy could add featur', 'navi classi', 'pleas love pleas leav want held stroke laugh alway', 'omg thx tri', 'girl ok like today let boy date like fwb two day', 'glue u use', 'use us us snap whole day silli littl live silli littl thought', 'leav colleg still bff snapchat snap day snap score still goe', 'ye lmao', 'senior start situationship senior leav soon graduat end', 'met told fall anoth boy fall yet', 'thank', 'dress', 'thank go colleg next year scare', 'omg thank go colleg next year came exactli right time', 'heyyyi serious consid wellesley could also ask u q like genuin student life stuff', 'bobaaa omggg girl happi u', 'ask guy text first', 'omgggg cute ask guy said embarrass said agre see im littl crush get movi ask', 'feel bad also video show get irrat pissi', 'byee girl yesterday drain final start clog mom woke like swear tri dilig', 'stuck wellesley umich potenti uchicago thought', 'omgggg', 'man ok', 'marchesa', 'twinsi', 'reject thank show page love ya northwestern', 'u get green swimsuit', 'dunno got saw similar one brows chi chi london', 'purpl', 'feng jing', 'could given actual percent asian rink let reader decid', 'tweet problemat articl word overrepres neg connot impli less repres', '', 'want start argument state whether believ women would act differ want know would', 'piano background', 'found peopl', 'gurlllll thank gonna save later matter say procrastin', 'last time check white black place world africa america', 'lara jean vibe', 'mean class kinda class', 'class also class though colleg hs might get normal hs experi colleg might either senior yr', 'claim', 'girl reject', 'problem choos one peopl afford appli like imagin us essay', '', 'claimmmm', 'song', 'want go ski damn', 'thank feel realli alon hope feel alon either also get', 'reject form yale gangggg', 'forget wake blood sheet', 'hamilton umich one video', 'lightli row', 'knew weird', 'crazi unrel thing dresserrrrr', 'manifestingggg', 'hi thank respons understand song name', 'rememb', 'omg like dream style', 'ok goe slightli tune bother much even though ik prob intent', 'ooh ok never heard one mayb check book awesom', 'guy read straight student cal newport talk studi strategi', 'like describ feel bad stormi', 'tyyi gonna tri', 'song', 'omg hi', 'read mari kondo book toss donat everyth like', 'talk toler', 'liter happen', 'catherin great anyon fav', 'lmaoooo autocorrect butcher spell', 'wait would gift give word confirm', 'test new skin product like face mask etc within day start school', 'yess', 'anyon know song', 'girl readi', 'know leuchtterum see one', 'curiou women total get femal gaze explan anyon know gener men look appear person', 'im cancel sound gotta move', 'girl cant sound anymor', 'nice either', 'tea variou food expens hard find foreign countri thrown fit employe', 'understand side one hand employe follow polici hand look like lost american dollar', 'ye rando start follow resort report everi month', 'thsi need hour score releas', 'girl connect cano trip even post stori stalk look', 'heyyyi play leagu', 'speak truth', 'even famou enough cancel', 'word use major time inoffens def', 'mental disabl case word use veggi mean total differ addit unlik r n word', 'ok call peopl veget slur intend offens def actual word peopl use degrad wit', 'she k omgggg', 'intellig sosmart', 'get clip', 'soyunara attest qualiti overal aesthet pretti similar ship take time', 'de find similar cloth lot popular store realli look store aesthet like chuu mixxmixx', 'duck girl face', 'firsttttt', 'master none ad bit later last part ad recent', 'last part ad twenti first centuri record origin phrase jack trade', 'anyon know record seem anoth key', 'get mint green short cuteeee', 'thought one random ass tiktok exist realiz u', 'none tell w song play background', 'boomer millenni go peopl everywher everi age act like critic', 'target sourc misinform teach everyon use critic think throw blame', 'activ post infograph stori peopl gener critic mostli minor', 'think isol gener gener boomer outdat gullibl gener genz shallow', 'yeah dunno almost genz gener boomer millenni millenni boomer gener genz', 'like period highlight day shower', 'henri vii start church divorc remarri five time', 'ye definit radic go either side spectrum howev rare heard pars gener', 'know media see mention peopl consum misinform delud trump support specif gen', 'mean target gen z clear everi gener problem', 'yeah time hear true stori mani time peopl research get video peopl expos thing', 'hmmm mayb less gen z need littl critic inform receiv everyon need', 'instead korean', 'also curiou find offens actress mc half white like book get actor viet', 'overal find noth offens movi watch second third one becuz book much better', 'book howev think could divers side charact gay charact black one', 'movi white sibl time main cast white noth realli becuz', 'think quit silli howev think nitpick sibl look alik cuz honestli see thing', 'well ireland point third book lara jean go visit korea idea move forward', 'honestli realli cute actual realli want stay togeth', 'fact realli save could get ipad sale would also work monitor', 'thank', 'thought final got girlfriend', 'wow rememb bought', 'realli hmmmm also happen oppos abort irrelav lol', 'thought but realli bad convers word slowli made feel like convers', 'chines think start wear lol j', 'uh like women big ass big tit pleas let know magic obtain', 'besid look beauti say nice', 'guy suppos show word may impact peopl tell truth realli quit liter kid', 'boy assum also racism howev import thing acknowledg idea correct', 'peopl press first girl like model minor myth harm asian despit posit connot', 'racism prejudic world make sure peopl acknowledg identifi', 'first girl say thing fourth person except state neg prejudic posit first step overcom ra', 'lmaooo', 'hello tip start someth like citi citi gone lot late', 'eye alway give away', 'unders shirt anyon', 'depend tofu tri textur like explan like rice good depend cook', 'yeah comment justifi also feel though op put women actual enjoy', 'well think fair say depress mayb best overarch assumpt peopl actual like groceri shop', 'koala peopl see koala', 'omg omg love song thought one knew sound good', 'ariana grand vibe', 'one tell bridgerton would uhhh explicit watch part school comput', 'ye everyon read littl girl pretti box pretti horrifi mani competit gymnast figur skate kid go', 'true ur three choic matter good get learn hate', 'yesssss love seri one ever seem read', 'finish seri btw', 'depend read luff freak romanc yummi cell good day dog stori around realli good', 'watch see see', 'nonono late night start simp', 'sound like mother wechat group act', 'mean mani us class center around ap curriculum everyon know cellular respir though', 'smile remind weirdli abe commun', 'comment realli insensit', 'problem nobodi repli would forget ever enter', 'use butter plate eat side move', 'someon final convinc get tik tok hw', 'gonna need updat', 'comment natur relationship point mani comment hypocrit', 'better respons find relationship send therapi', 'relationship let assum thing true relationship mean girl need help punish', 'peopl defend parent crazi reason hear law inappropri age gap potenti predatori', 'peopl would argu law would inappropri relationship power dynam girl blame', 'prey year old comment suggest think relationship wrong age differ blame', 'love support emot say girl must experi consequ action one prey', 'oh gosh even notic', 'keep think wash condition know', 'low key fire though', 'guy eczema use flare warn use often cuz bad skin long term', 'outfit actual cute', 'yesssss', 'yuumi cell anyon anyon', 'peopl actual behav', 'steal person use', 'think would also work regular uber', 'ah nice go lucki went famili year ago cloudi whole time type pretti', 'think found research paper topic thank creat know chines ea wide taught', 'plate asian famili thing', 'nah mother forc wear backpack', 'thank youuuuu alway look like clown tri eyeshadow asian eye', 'quot comment sound like someth straight boy', 'yay person save wrap paper cuz cheap though lol', 'look like go signific cute', 'liter look pinterest everi time idea call lol', 'life go sit wait repli roll', 'alreadi ton repli comment exactli even like limit number liter said anyon', 'right time wrap present', 'bring forgotten memori lol', 'stop chew cereal', 'sometim even get differ brand confus', 'fugit slave act realli emphas state right huh', 'sleep one', 'thank thank secret snowflak boy wth get', 'would also recommend hous mirth thought bit depress', 'even notic', 'tommyinnit jealou right', 'truest statement ever seen', 'lmao miss someon order etsi cuz one would buy stop check', 'daca tax social media compani want hear sure origin poster agre least', 'stanc climat chang abort student debt btw like say cancel help expand fix debt relief program', 'person think would wait bit covid vaccin realli use bodi choic argument suit', 'serious think could learn much environ like', '', 'first like lmao snort', 'right mysteri one keep see douyin', 'wth never notic', 'lmaoooo', 'ah use danc recit everi year wish quit', 'forgot unflush toilet', 'pleat skirt yeah wear mine sinc year ago peopl would ask wear uniform', 'final someon say thing say like part two', 'rule thumb talk futur life goal probabl ask marri', 'guy read hous mirth', 'matter mani time see video pop fyp crack', 'problem everi time think live past think chamber pot', 'kind mother let happen daughter good riddanc', 'learn tabl etiquett onlin ask', 'feel like use calligraphi pen tombow dual brush pen video make easier though', 'alaska wtffff', 'asian eye', 'think gain weight face quarantin look nice though', 'swear peopl stalk comment never gotten repli fast comment', 'homework time turn homework stream time', 'realli', 'wow love sequin dress outfit pair', 'laugh way hard said', 'rememb guy michigan wisconsin nevada mayb even penn still pend', 'hiiii', 'omggg wish north', 'tri non scent reason allerg scent one sensit skin', 'imo stuff like dove non scent soap cerav work focu scent rather moistur gentli clean', 'eczema realli sensit skin whole life absolut true fanci product alway make skin flare', 'omggg ye thank tell', 'mean know peopl hw much faster realli think learn process vari differ peopl', 'sound actual fire', 'love sound love video lol', 'yeh angri first went pfp think vid sever misrepres one girl disappear', 'recip', 'yess come natur liar', 'yessss', 'meeeeee', 'eco friendli even shave lol', 'also quit su show one clip democrat say', 'thank next time def', 'um even say n word think right ever ok harass someon middl night', 'oh lol sorri see ur comment thank', 'thx', 'sound annoy', 'omg hype move target', 'plan pull nighter', 'plz', 'lucki get slush year', 'ya caught', 'time get snowstorm', 'tooooo', 'wish go winter break corona viru everyth think go u usual ski', 'ye honestli love u go ski winter', 'beg mom month first', 'second one def matur look honestli go wrong either sinc first one pretti fun', '', 'know anyon see peter chang realli good', 'weight keep go quarantin stop eat', 'streak still go', 'say obsolet heard music', 'oh yeah lol actual found ago look thank', 'buy thing sale buy also might spend money yesstyl aliexpress usual ship faster', 'well found today order mani thing get cheaper ali express check review site app', 'rememb use two stick chopstick get money lol', 'fun game report card say particip', 'check review stuff', 'care guy china even use photo qualiti could drastic differ depend supervis factori', 'um right liter would wear hole front', 'liter scare even wear doc marten', 'wowww awesom realli uniqu', 'wowww could u someth halloween theme', 'thank make night', 'wow made skate tik tok love believ made tik tok account maia', 'yesss', 'oh wow use watch show audio came religi', 'yesssss could believ age', 'milli bobbi brown honestli attract look person', 'ye peopl talk great bf loui hate girlfriend', 'friend crack', 'may audio book somewher', 'got read life chang magic tidi mari kondo', 'go ski year cuz peopl wear mask', 'think sister turn busi opportun lol', '', 'get e x saw loui watch interview boom lol', 'milli deserv hype success actor realli funni thought makeup line ambassador unicef', 'also milli bobbi brown though life wayyy togeth', 'right lol would shock one', 'ye', 'ur mom better seriou lol', 'ye sixth grade fashion sens pull', 'yeah mean peopl hate girl duet imagin girlfriend one would go', 'omg u even find', 'plz plz plz let snow east coast year', '', 'real question would want pull', 'yessss girl', 'samee like', 'sign look mani pic loui', 'never stress whole life', 'heyyy ur loui theme fyp', 'describ month two ago exactli get better girl need pick new hobbi make happi', 'snap', 'fine though', 'friend play golf low key stronger boy know though problem could boy know', 'low key feel bad girl duet', 'put midterm right winter break come', 'sameee girl', 'eyyyi back middl school', '', 'tri take shower snap found look like', 'aw yeah', 'eye bless least time day never get old', 'marri girl thought straight', 'type humor lolll', 'cri asian', 'mom actual put fridg day', 'insta brookicooki', 'crossov know need', 'stuck tongu', 'week', 'hellppp anyon know', 'think sign order one amazon cart', 'lol edit facial express point', 'somehow convinc go work', 'guy low key stalker say anyth cuz enjoy content', 'accur', 'yeah like come cute togeth', 'awww cute togeth', 'mhm yah singl photo insta lol', 'awww well want see cute relationship photosssss', 'oh lol girl usernam pop search name also love ur post super cute', 'vibe girl love loui partridg bio', 'point page video boy simp', 'reddit', 'twinkl light superior', 'um hella impress', '', 'gonna ignor say genet', 'done love skirt tank', 'ummmm pretend differ person pretend help get account report wth lol', 'doubl wall oven least year old', 'realli make simp school chanc', 'without doubt loui partridg ye one', 'nah gonna snow year go miser rain', 'right like wth', 'come natur think scare', 'um tik tok know thought better', 'um answer scarili accur lol', 'ye feel pressur', 'yeahhhh juli st gang', 'claimmmmmm', 'yep wake exactli one doubl eyelid', 'yoooo found sound u still want know lol clip sound somewher middl trndsttr lucian remix black coast', 'song black coast trndsttr lucian remix peopl', '', 'sad look sound', 'yooo r ear yesstyl', 'wow tone pronunci good', 'friendship goalssssa aspir', 'omgggg look good gonna copi haha thing io mess cam', 'yassssd nameeee look great', 'sat score releas today spent morn cri thank make feel better laugh love ur vid', 'lol', 'even know kiss someon', 'song', 'think taken next level actual dream', 'oh come boyfriend broke', 'lol except cuz boyfriend broke wifi alway bad', 'kimono frantic car ur mom yell lol', 'alway decid wait lol', 'come room say go play piano', 'omg lightli row piano suzuki book', 'fyp', 'relat one seen yet lol', 'also thank make video realli nice interact follow let vent', 'focu ap exam compar everyon els make feel wors know tri better', 'chipotl', 'marjan speak english anymor', 'marjan mouth ok', 'one day', 'whatttttt', 'woww', 'righttt', 'lmaoooo', 'hahahhahahahha', 'hey besti', 'hey beati', 'besti', 'lol', 'bahahhahaahhaha', 'hahahahahah', 'fr tho', 'sometim work', 'lmao', 'lmaoooo wtffff thisss', 'haha', 'ahahahahaha', 'look good', 'ikrrrr', 'hahahahahha', 'fr', 'drama school', 'lmaoooo', 'ad tell necklac littl bit cute', 'let get obe', 'leg get ittyti', 'get best friend necklac joke realli', 'hhehehehehh', 'would wear', 'hang', 'ye', 'u earli', 'fuck synchro', 'canr walk', 'bruis ankl bc much skate far', 'oh noooo', 'ur ankl ok', 'ice', 'lmaoooo video', 'gahahahah', 'good think', 'lmaooo', 'saw', 'pic cri lol', 'lmaoooo shit solidifi', 'hahaha', 'wait', 'lmaooooo', 'face', 'ikrrrr', 'hhahahahh', 'esther', 'wtf', 'ur fyp', 'ser', 'see', 'eye', 'hahahahahahgagg', 'fav video', 'u welcom', 'he hit', 'hot', 'girlfriend', 'zendeya', 'okay', 'love zendeya', 'die', 'funni', 'produc said sorri', 'omg', 'saw', 'lmao funni sad', 'let', 'lmaooooo saw one yoo', 'fyp realli similar ish', 'tpp', 'tpp', '', '', 'twinsiesssssss', '', 'esther', 'lmaoooooo', '', 'comment pfp', 'funni', '', 'saw', '', 'spot', 'bahahhaha', 'didddd', 'cat fall sown stair funni', 'lmaooo', 'bahahahhahahahaha', 'honestli would', '', 'first comment ratussi', 'bahahhahh', 'funni', 'liter u', 'ur cancel', 'u like', 'ngl kinda true', 'ha', 'liter saw fyp', 'ba ahaha', 'fyp', 'love', '', 'bahahahaha', '', '', 'teachjbg', 'corrsct teach', 'teacher teach', 'lmao', 'said', 'gaslight back', 'vieeo helpfut inspir im save', 'ahahaha', '', 'us one', 'lmaoooo', 'women day let go', 'boy bueno', 'lmaooo take u', 'actual saw video kinda love gonna go take look luci sky', 'gotta workout', 'ire sign', 'keep get wors wors', 'im cri', 'would quit', 'whar so still', 'help', 'nooo', 'that cute', 'omgggggggghh', 'lol', 'hey saw guy video women dishwash lasagna', 'goodby', 'ur bitch', 'lmao itd way didnt put ear caus kneww', 'hahahahaha', 'lol', 'lmaoooo', 'anyon mean racist', 'lmao', 'stopppp', 'lmaoooooooo', 'tje man reaction', 'bye princ recogn', '', 'knew', 'knew somethign like gonna hapo', 'happen', 'fuck u', 'bitch', 'knew come', 'good ass tsdte', 'ur man aint', 'hey day admit man ugli', 'u need higher standead', 'lmaoo build diffeeent', 'scream', 'second long', 'liter think kid go everywher whenev wherev', 'fair', 'fair', 'righttttttt', 'like godamn', 'im watch show kid fuck walk fuck door wtf', 'laugh', 'satir btw daddi god', 'lmfaooo that us', 'frfrrrr', 'oml', 'stopp u', 'ye', 'lol', 'eras pig go fro eather', 'esther', 'cuteee', 'read ender game', 'u might like first promis give much think avout', '', 'girli gotta hang sometim', 'omg want rn', 'stop', 'fact alreadi like', 'emot turn dime', 'bruh annou', 'like need chill', 'woowwwwwwwww', 'that coooool', 'shoukd tri oil cleansersss', 'ye u', 'dad', 'start uppp', 'understand thought u wohld', 'bro ur year best', 'u guy left perfect time', 'wtf', 'im die', 'hell', 'lmfaooo', 'baribee', 'lmfaooooo', 'bruh ur tiktok unhing', 'leav alon', 'lmfaooo', 'tiktok beautifupp', '', 'ur page', 'lnfaoooo', 'love', 'lmfaooo twilight tre', 'adult', 'pmfaooo', 'girl friend friend', '', 'shjsic', '', 'lmfaooooo yess', 'he ao fine', 'love loui p', 'hell nahhhhh', 'lmfaoooo meeeeee', '', 'ur done', 'cancel', 'jumpscar', 'give anim uwu girl', 'bro everi video see', 'nahhhh frrrr', 'lmfaooooo', '', 'boy jump scare', 'lmao made smile ahahaha', 'show fyp', 'omg ye lmaoo theyr funnyyyy', 'love sm', 'seen mani time still think funni', 'lolllll', 'also never repli first video lmao thought kid could say parent younger', 'also p', 'watch show sometim', 'ye fresh boat funni watch episod', 'look awk lol', 'ahahah amaz', 'sorri', 'bahaha stop tgat funni', 'real', '', 'lmaooo wait cute tho omg', 'yessss lmao lol', '', 'hahahah smooth', 'aww mean much', 'alway', 'cute omg brush snow thoroughli', 'love dude', '', 'stun sarcast accuraci', 'ikrrrr', 'fulli expect u bring poster feder prison', 'girl ofc', 'know give', 'give head', 'ummm montgomeri mall', 'wtffff thisss', 'hold let send screenshot look profil', 'lmaooo westfield mall', 'even', 'ikrrrr lmaooo', 'stahppp brook omg lmaooo', 'llollll', 'idk like first one', 'ok comment lmfao never see', 'lmaooo', 'j hit differ reason', 'righttt', 'bruh feel like ur trachea like', 'trashcan', 'like three', 'lmaooo yep hidden kitchen sink dual wbu', 'lol rememb right', 'electron one got lazi replac batteri manual one', '', 'stoppp', 'everyday give thank app', 'expos', 'mom rli b like fault smarter everyon els', 'lmaooo mom', 'omg need year', 'yessss', 'notion tot ur style bump', 'bujo bullet journal', 'omg could never pl post ur ur insta live vicari', 'omg marjan tri scrapbook style think u would love', 'mayb summer colleg second semest time', 'think use spare time lazi bing show heheh', 'omg hmu u', 'go craft store', 'mari stella stella mari', 'childhood', 'type soror', 'lmaooo', '', 'lmaooo', 'she sweet tho', 'yo look bit familiar', 'robot w someon headphon', 'lmao couldnt believ wgen actuslli cyt', 'girlboss', 'l', 'lmaoooo also l person headphon', '', 'l', 'omg tri', 'yesss', 'also last one u', 'ive carmen think', 'ohh ok', '', '', 'sarah homemad ice cream near whole food river road', 'could go school sometim', 'yesssss', 'know snort expect', 'earli nahhh', 'r u seriou ya think true', 'aww say video avail wut abt', 'shoot', 'forgot', '', 'lol sent mani thing', 'sent mani thing', '', 'love', '', 'first like dare u send back school vid saw fit', 'icon', 'ahahaha ive seen first ine', 'mr steinbach', 'desper search audio version put x speed save like minut time', '', 'ahahahaha', 'lmaooo sound like life hack', 'u seen', 'ahhh c poster tiiim', 'hi besti', 'hi besti', '', 'look commemt', 'lmaooo', 'scroll better get', 'hen heard sentenc tell snortedd line think', 'laugh heard necklac normal', 'lolll good line', 'ok shoe walmart', 'said said spray tan bit dark', 'lmaooo good also rn accent lmaooo', '', 'omg ye lmaooo best part', 'ahaha actual peak humor', 'harri potter vibe', 'laugh', 'ahahaha saw fyp', 'liter', 'lmaooo', 'cunt marjan', 'lmaooo', 'ya think sing pitch perfect', 'idk pretti good', 'sometim fyp', 'brook wut even', 'kinda cute though', 'stahp', 'fyp page random video cute boy lol', 'lmao', 'snippet mine', '', 'omgggg', '', 'know u get inspo djahdhqkiwbdmso', 'lmaooo', 'lmao first comment', 'tell dad blue envelop marriag w doubl amount money', 'ahaha use', 'decor bring tuesday', 'long pigeon sparkli', 'hmmm good udea', 'idea', 'tiktok urstion', 'question', 'ye', 'like nightmar b christma corallin sharkboy lavagirl hotel transylvania', 'tiktok sent chri lol', 'truee', 'lmaoo still believ u thqt', 'lololol', '', '', 'ahahaha saw', 'ahahhaha', 'lmaooo', 'first comment', 'ur done ur done', 'lmaooooo', 'brook', 'lmaoooooo', 'think need go slaysian', '', 'lolll', 'fastttt', 'heheh', 'u look ur decis yet', 'omg', 'use english spanish present', 'would b like automat', 'lmaooo', 'liter', 'ahahaha', 'mr', '', 'ugh stop she hot', 'need life', 'think u need pink', '', 'seen one everi school', 'everi shadow day ever', 'lmao', 'need anoth one', 'istg everi time like come tm work u miser four year', 'lolllll hope one year traumat', 'stage scene fake fail test meltdown', 'real fail test meltdown case', 'sleep couch coat face', 'lmao cri bathroom', 'pretend dead stage murder senior center couch', 'lol', 'talent', 'drop phone toilet', 'asu shirt', 'nawt asu shirttt', 'also comfort', 'ahahahha', 'u poor thing', 'frick traumat', 'bc guy kinda cute tho', 'right lmao', 'want say sleep twlk', 'talk', 'one hr exam', 'bless heart', 'nawt ms premand use covid excus b racistttt', 'lmaooooooo', 'reccomend asmr video actual get lol', 'like actual seem quit talent', 'like sound make', 'v satusfi', 'lmaoooo', 'imagin put ur resum', 'lmaooo', 'ahahahahahahahahahahahah', 'live laugh love', 'ahahahahahahahahahahahaha', 'know full well b use tampax next month', 'lmao', '', 'shrek wed cute', 'babi alreadi learn gaslight', 'cuuut', 'lmaooo', 'shut', 'lllll', 'person also think', 'l', 'girl wut', 'preach choir', 'eh', 'w', 'girl wut', 'lmao', 'ahaha brook go back sleep', 'peak humor ok', 'lmaooo', 'kid ofc plz come use pool readi lol fun togeth', 'ahahaha', 'ill bring snack promisee', 'satir btw daddi god', 'ahahaha', 'lmao', 'lol u know hampton', 'u', 'thought went earlier summer', 'yeah', 'maui rn', 'lol', 'lol knew cuz u told', 'gnarli', 'hmmm friend', 'idk hope u u send bore shi', 'excus send excit thing', 'delet tiktok predawn load', 'redownload today becuz want find video go delet lol', 'good luck lol', 'hmmm', 'u mean send lo', 'lol', 'hmmm think asleep', 'odd', 'lol sometim like play random asmr live sleep end keep play live end also sleep couch last night mayb contribut', 'play livestream', 'must sleep dial', 'crazi pop fyp', 'lmaoo', 'way miss boston thing known man', 'fuck connor', 'cowboy', 'mayb hockey', 'real bc foot boy regist tall anymor bc use talk fuck', 'first guy kinda', 'would fold marti immedi', 'mad get', 'saw kid town least three time video', 'dream man', 'w sam asf', 'fold first guy', 'im never escap alleg desper need get test', 'like', 'shown english class', 'yale swimmer fine', 'anti matt emerson', 'first girl liter', 'one hottest man ever kiss', 'liter stori becker would tell us', 'omg lmao redownload tiktok stalk someon', 'delet lemm watch react lol', 'omg much gonna watch recent one', 'pleas omg fan stroke way way charl leclerc plz come get beg u', 'need fuck fr right', 'good idea', '', 'omg', 'uhhhhh lol mean send lol think', 'hahahahhaa', 'sent wrong person', 'worri', 'tri support', 'lmaooo ye appreci ur respons', 'day', 'u', 'alright', 'colleg along', '', 'haha pretti ok', 'gl colleg year']\n"
          ]
        }
      ]
    },
    {
      "cell_type": "code",
      "source": [
        "positiveWordinSentence = []\n",
        "negativeWordinSentence = []\n",
        "\n",
        "\n",
        "\n",
        "for sentence in cleantext:\n",
        "  positiveCount = 0\n",
        "  negativeCount = 0\n",
        "  for word in positive:\n",
        "    if word in sentence:\n",
        "      positiveCount = positiveCount + 1\n",
        "  positiveWordinSentence.append(positiveCount)\n",
        "  for word in negative:\n",
        "    if word in sentence:\n",
        "      negativeCount = negativeCount + 1\n",
        "  negativeWordinSentence.append(negativeCount)\n",
        "\n",
        "print(data[23])\n",
        "print(data[3])\n",
        "print(data[154])"
      ],
      "metadata": {
        "colab": {
          "base_uri": "https://localhost:8080/"
        },
        "id": "0VueKgWhuGQV",
        "outputId": "3a0e5d2b-7d3e-48d7-b706-61b5bf3d4e2c"
      },
      "execution_count": null,
      "outputs": [
        {
          "output_type": "stream",
          "name": "stdout",
          "text": [
            "Ahahaha so cute hehe\n",
            "Application submitted 🥺 nervously waits for a “view decision” button\n",
            "What song is this?\n"
          ]
        }
      ]
    },
    {
      "cell_type": "code",
      "source": [
        "print(positiveWordinSentence)"
      ],
      "metadata": {
        "colab": {
          "base_uri": "https://localhost:8080/"
        },
        "id": "BmityU1lv-vH",
        "outputId": "91015e89-7b99-4887-d691-7b820e21bff1"
      },
      "execution_count": null,
      "outputs": [
        {
          "output_type": "stream",
          "name": "stdout",
          "text": [
            "[1, 1, 1, 0, 0, 0, 0, 0, 0, 0, 1, 1, 1, 0, 0, 0, 1, 0, 0, 0, 0, 0, 1, 2, 0, 0, 0, 0, 1, 0, 0, 1, 0, 0, 0, 1, 1, 0, 0, 1, 1, 1, 0, 0, 0, 0, 1, 0, 0, 0, 0, 0, 1, 0, 0, 0, 1, 1, 0, 0, 1, 0, 1, 2, 0, 0, 0, 0, 1, 1, 0, 0, 1, 0, 0, 0, 0, 0, 0, 0, 1, 0, 0, 0, 0, 0, 1, 0, 0, 0, 1, 1, 0, 0, 0, 0, 0, 0, 0, 0, 0, 0, 0, 0, 1, 0, 1, 0, 0, 0, 1, 0, 0, 0, 0, 1, 0, 0, 0, 0, 0, 1, 0, 1, 0, 2, 0, 0, 0, 1, 0, 0, 0, 0, 0, 1, 0, 0, 0, 0, 0, 0, 0, 0, 0, 0, 1, 0, 0, 0, 0, 0, 0, 0, 0, 1, 0, 0, 0, 0, 0, 0, 0, 0, 0, 0, 1, 0, 1, 0, 0, 0, 0, 1, 0, 0, 0, 1, 1, 0, 0, 0, 0, 0, 0, 0, 0, 0, 1, 0, 0, 0, 0, 0, 0, 0, 0, 0, 0, 0, 1, 0, 0, 0, 0, 0, 0, 0, 0, 0, 1, 0, 0, 0, 0, 0, 0, 1, 0, 0, 0, 0, 0, 1, 0, 0, 0, 0, 0, 0, 0, 0, 1, 0, 0, 0, 0, 1, 0, 1, 0, 1, 0, 0, 0, 0, 0, 1, 0, 1, 0, 1, 1, 0, 0, 2, 1, 0, 0, 1, 0, 0, 1, 0, 0, 0, 0, 0, 0, 0, 0, 0, 0, 0, 0, 0, 1, 1, 0, 0, 0, 0, 0, 0, 1, 0, 0, 0, 0, 0, 1, 0, 0, 0, 0, 0, 2, 1, 1, 0, 0, 0, 1, 0, 0, 0, 0, 0, 0, 0, 0, 0, 1, 0, 0, 0, 0, 0, 1, 0, 0, 1, 0, 0, 1, 0, 0, 0, 0, 0, 1, 0, 0, 0, 0, 1, 0, 0, 0, 0, 0, 0, 0, 1, 0, 0, 0, 1, 0, 0, 1, 0, 0, 0, 0, 0, 1, 0, 0, 0, 1, 0, 0, 2, 0, 0, 0, 0, 0, 0, 0, 0, 0, 0, 0, 1, 0, 0, 0, 2, 0, 0, 1, 0, 0, 0, 0, 0, 1, 0, 0, 0, 0, 0, 0, 1, 1, 0, 0, 0, 0, 1, 0, 2, 2, 0, 1, 0, 1, 0, 1, 1, 0, 0, 0, 0, 0, 0, 0, 0, 0, 0, 0, 0, 0, 0, 0, 0, 0, 0, 2, 0, 0, 1, 0, 0, 0, 0, 0, 0, 0, 0, 1, 0, 0, 0, 2, 2, 1, 2, 2, 1, 0, 0, 1, 0, 0, 0, 0, 1, 0, 0, 0, 0, 0, 0, 0, 1, 0, 1, 0, 1, 1, 0, 0, 0, 0, 1, 0, 3, 1, 0, 1, 1, 0, 0, 0, 1, 1, 1, 0, 1, 0, 1, 1, 0, 0, 0, 0, 0, 0, 0, 0, 1, 1, 0, 0, 0, 1, 1, 1, 0, 0, 1, 1, 1, 1, 1, 0, 1, 0, 0, 1, 1, 0, 0, 0, 0, 0, 0, 0, 0, 0, 0, 0, 0, 0, 0, 1, 1, 1, 1, 1, 1, 1, 1, 0, 1, 0, 0, 1, 0, 0, 0, 0, 0, 0, 1, 0, 0, 0, 0, 0, 0, 0, 0, 0, 0, 0, 1, 1, 1, 0, 2, 0, 0, 0, 0, 0, 0, 0, 0, 1, 0, 0, 0, 0, 1, 0, 0, 1, 0, 0, 1, 1, 0, 0, 0, 0, 0, 0, 0, 0, 0, 0, 1, 1, 0, 0, 0, 1, 0, 0, 0, 0, 0, 1, 0, 0, 0, 1, 0, 0, 1, 0, 0, 1, 1, 0, 0, 0, 0, 0, 0, 0, 0, 1, 1, 1, 1, 1, 0, 1, 1, 1, 1, 0, 1, 0, 1, 0, 0, 0, 0, 0, 0, 0, 0, 0, 1, 0, 0, 0, 1, 0, 0, 0, 0, 0, 0, 1, 0, 0, 0, 0, 0, 0, 0, 0, 1, 0, 0, 1, 0, 0, 0, 0, 1, 0, 0, 0, 0, 0, 0, 0, 0, 0, 0, 0, 0, 0, 0, 0, 0, 0, 0, 0, 0, 0, 0, 0, 0, 0, 0, 0, 0, 0, 0, 0, 0, 0, 0, 0, 0, 0, 0, 0, 0, 0, 0, 0, 0, 0, 0, 0, 0, 0, 0, 2, 0, 2, 0, 0, 1, 1, 0, 0, 0, 2, 1, 0, 1, 0, 0, 3, 2, 0, 1, 1, 0, 2, 0, 0, 0, 0, 0, 0, 0, 0, 0, 0, 0, 1, 0, 1, 2, 1, 0, 0, 1, 0, 0, 0, 0, 0, 2, 1, 0, 0, 0, 0, 0, 0, 1, 1, 0, 0, 0, 1, 1, 0, 0, 1, 0, 0, 0, 0, 1, 0, 1, 0, 0, 0, 1, 0, 0, 1, 0, 0, 1, 0, 0, 0, 0, 0, 0, 0, 0, 0, 0, 0, 0, 1, 0, 0, 0, 1, 0, 0, 0, 0, 1, 0, 1, 0, 0, 0, 1, 1, 0, 0, 0, 0, 0, 0, 1, 0, 0, 0, 2, 0, 0, 2, 0, 2, 1, 1, 0, 2, 0, 1, 0, 1, 0, 1, 0, 0, 1, 0, 2, 1, 0, 0, 1, 0, 0, 1, 1, 0, 1, 0, 0, 1, 0, 0, 0, 0, 0, 1, 0, 1, 1, 0, 0, 2, 1, 1, 0, 0, 1, 0, 1, 0, 0, 1, 0, 0, 0, 1, 0, 0, 1, 0, 1, 0, 0, 0, 0, 0, 0, 0, 0, 1, 0, 0, 1, 0, 0, 0, 1, 0, 1, 0, 0, 0, 1, 0, 1, 0, 0, 1, 1, 0, 0, 0, 0, 1, 1, 1, 0, 0, 0, 1, 0, 1, 1, 0, 1, 0, 1, 0, 1, 0, 0, 1, 0, 0, 0, 0, 0, 0, 0, 0, 0, 1, 1, 0, 1, 1, 1, 0, 0, 1, 1, 1, 0, 0, 1, 0, 1, 1, 0, 0, 0, 0, 1, 1, 2, 0, 0, 1, 0, 0, 1, 0, 0, 0, 1, 0, 0, 0, 0, 0, 0, 0, 0, 1, 0, 0, 0, 0, 0, 0, 0, 0, 0, 1, 0, 2, 1, 1, 1, 0, 1, 0, 1, 1, 1, 0, 0, 0, 1, 0, 0, 0, 0, 0, 1, 0]\n"
          ]
        }
      ]
    },
    {
      "cell_type": "code",
      "source": [
        "print(negativeWordinSentence)"
      ],
      "metadata": {
        "colab": {
          "base_uri": "https://localhost:8080/"
        },
        "id": "T4j_O4F0wFqU",
        "outputId": "ef33867b-663f-4c0e-91e9-40406a26d046"
      },
      "execution_count": null,
      "outputs": [
        {
          "output_type": "stream",
          "name": "stdout",
          "text": [
            "[0, 0, 0, 2, 1, 0, 0, 0, 1, 0, 0, 0, 0, 0, 0, 0, 0, 0, 0, 0, 0, 0, 0, 0, 0, 0, 1, 0, 0, 0, 0, 0, 0, 0, 0, 0, 0, 0, 0, 0, 0, 0, 0, 0, 0, 0, 0, 0, 0, 0, 0, 0, 0, 0, 0, 0, 0, 0, 0, 0, 0, 0, 0, 0, 0, 0, 0, 1, 0, 0, 0, 0, 0, 0, 0, 0, 0, 0, 0, 0, 0, 0, 0, 0, 1, 0, 0, 2, 0, 1, 0, 0, 0, 0, 1, 0, 0, 0, 0, 0, 0, 0, 0, 0, 0, 1, 1, 0, 0, 0, 0, 0, 0, 0, 0, 0, 0, 2, 0, 0, 1, 0, 0, 0, 0, 0, 0, 0, 1, 0, 0, 0, 0, 1, 0, 1, 0, 0, 0, 2, 0, 2, 1, 0, 0, 0, 0, 0, 1, 0, 0, 0, 0, 0, 0, 0, 0, 0, 0, 1, 0, 1, 0, 0, 0, 0, 0, 0, 0, 1, 0, 0, 0, 0, 0, 0, 0, 0, 0, 1, 1, 0, 1, 0, 2, 1, 0, 0, 0, 1, 0, 0, 0, 1, 0, 0, 1, 1, 0, 0, 0, 0, 0, 0, 0, 0, 0, 1, 0, 2, 0, 0, 1, 0, 0, 1, 0, 1, 0, 0, 1, 2, 0, 0, 0, 0, 0, 2, 0, 2, 0, 0, 0, 0, 0, 0, 0, 0, 0, 0, 1, 0, 0, 2, 2, 1, 0, 0, 1, 0, 0, 0, 0, 1, 0, 1, 0, 0, 0, 0, 0, 0, 1, 0, 1, 0, 2, 0, 0, 1, 0, 0, 0, 0, 0, 1, 0, 0, 0, 0, 2, 1, 0, 0, 0, 0, 1, 0, 0, 0, 0, 1, 0, 0, 0, 0, 0, 0, 0, 1, 1, 0, 0, 1, 0, 0, 0, 1, 0, 2, 0, 0, 0, 0, 0, 2, 0, 0, 1, 0, 2, 0, 0, 0, 0, 0, 1, 0, 0, 0, 0, 0, 0, 0, 0, 0, 0, 1, 0, 0, 1, 0, 0, 1, 1, 1, 0, 0, 1, 0, 0, 0, 0, 0, 0, 0, 0, 0, 0, 1, 0, 0, 1, 0, 0, 0, 0, 0, 1, 0, 0, 0, 0, 0, 0, 1, 0, 0, 0, 0, 0, 1, 0, 0, 1, 0, 1, 1, 0, 0, 0, 0, 0, 0, 0, 0, 0, 0, 1, 0, 0, 0, 0, 1, 1, 0, 0, 0, 0, 0, 0, 0, 1, 0, 0, 0, 0, 0, 0, 0, 1, 0, 0, 1, 0, 0, 0, 0, 0, 0, 0, 0, 0, 1, 0, 0, 0, 1, 0, 0, 2, 0, 0, 0, 0, 0, 0, 0, 0, 0, 0, 0, 0, 0, 0, 2, 0, 1, 0, 1, 0, 0, 0, 1, 0, 1, 2, 1, 0, 0, 0, 0, 2, 0, 0, 1, 0, 0, 0, 0, 0, 0, 0, 1, 0, 0, 1, 1, 1, 1, 1, 1, 0, 0, 0, 1, 0, 0, 0, 0, 0, 0, 0, 0, 0, 0, 0, 0, 0, 0, 0, 0, 0, 0, 0, 0, 0, 0, 0, 0, 0, 0, 0, 0, 0, 0, 0, 0, 0, 0, 0, 0, 0, 0, 0, 1, 0, 0, 0, 0, 0, 0, 0, 0, 0, 0, 1, 0, 0, 0, 0, 0, 0, 0, 0, 0, 0, 0, 0, 0, 0, 0, 0, 0, 0, 0, 0, 0, 0, 0, 0, 1, 0, 0, 0, 0, 0, 0, 0, 0, 0, 0, 0, 0, 0, 0, 0, 0, 0, 0, 0, 0, 0, 0, 0, 0, 0, 0, 0, 0, 0, 0, 0, 0, 0, 0, 0, 0, 0, 0, 0, 0, 0, 0, 0, 0, 0, 0, 0, 0, 0, 0, 0, 0, 0, 1, 0, 0, 0, 0, 0, 0, 0, 0, 0, 1, 0, 0, 0, 0, 0, 0, 1, 0, 0, 0, 0, 0, 0, 0, 0, 0, 0, 1, 1, 0, 0, 0, 1, 0, 0, 0, 0, 0, 0, 0, 0, 0, 0, 0, 0, 0, 0, 0, 0, 0, 0, 0, 0, 0, 0, 0, 0, 0, 0, 0, 0, 0, 0, 0, 0, 1, 0, 0, 0, 0, 0, 0, 0, 0, 0, 0, 0, 0, 1, 0, 0, 0, 0, 0, 0, 0, 0, 0, 0, 0, 0, 0, 0, 0, 0, 0, 0, 0, 0, 0, 1, 0, 0, 0, 0, 1, 0, 0, 0, 0, 0, 2, 0, 0, 0, 0, 0, 0, 0, 0, 0, 0, 0, 0, 0, 0, 0, 0, 1, 0, 0, 0, 0, 0, 1, 0, 0, 0, 0, 0, 0, 1, 0, 1, 0, 0, 0, 0, 0, 0, 0, 0, 0, 0, 0, 0, 0, 0, 0, 0, 0, 0, 0, 0, 0, 0, 0, 0, 0, 0, 3, 0, 0, 0, 1, 0, 0, 0, 0, 0, 0, 0, 0, 0, 0, 0, 0, 0, 0, 0, 0, 0, 0, 0, 0, 0, 0, 0, 0, 0, 0, 0, 0, 1, 0, 0, 0, 0, 0, 0, 0, 0, 0, 0, 0, 0, 0, 0, 0, 0, 0, 0, 0, 0, 0, 0, 0, 0, 0, 0, 0, 1, 1, 0, 0, 0, 0, 0, 0, 1, 0, 0, 0, 0, 0, 0, 0, 0, 0, 0, 0, 0, 0, 0, 0, 0, 0, 0, 0, 1, 0, 0, 0, 0, 0, 0, 0, 0, 0, 0, 0, 0, 0, 0, 0, 0, 0, 0, 0, 0, 0, 0, 0, 0, 0, 0, 0, 0, 0, 0, 0, 0, 0, 0, 0, 0, 0, 0, 0, 0, 0, 0, 0, 0, 0, 0, 0, 2, 0, 1, 0, 0, 0, 0, 0, 0, 0, 0, 0, 0, 0, 0, 0, 1, 0, 0, 0, 0, 0, 0, 0, 0, 0, 0, 0, 0, 0, 1, 0, 0, 0, 0, 1, 0, 0, 0, 0, 0, 0, 0, 0, 0, 0, 0, 0, 0, 0, 0, 0, 0, 1, 0, 0, 0, 0, 0, 0, 0, 1, 0, 1, 0, 0, 0, 1, 0, 0, 0, 0, 0, 0, 0, 0, 0, 0, 0, 0, 0, 0, 0, 0, 0, 1, 1, 0, 0, 0, 0, 0, 0, 0, 0, 0, 0, 0, 0, 0, 0, 0, 0, 0, 0, 0, 0, 0, 0, 0, 0, 0, 0, 0, 0, 0, 0, 0, 0, 0, 0, 0, 0, 0, 0, 0]\n"
          ]
        }
      ]
    },
    {
      "cell_type": "code",
      "source": [
        "ratio = []\n",
        "for i in positiveWordinSentence:\n",
        "  for j in negativeWordinSentence:\n",
        "    if i>j:\n",
        "      ratio.append(\"positive\")\n",
        "    if i<j:\n",
        "      ratio.append(\"negative\")\n",
        "    if i == j:\n",
        "      ratio.append(\"neutral\")"
      ],
      "metadata": {
        "id": "C3T-DpClxDCg"
      },
      "execution_count": null,
      "outputs": []
    },
    {
      "cell_type": "code",
      "source": [
        "import matplotlib.pyplot as plt\n",
        "import numpy as np\n",
        "from collections import Counter\n",
        "\n",
        "counts = Counter(ratio)\n",
        "values = list(counts.keys())\n",
        "frequencies = list(counts.values())\n",
        "\n",
        "plt.bar(values, frequencies)\n",
        "\n",
        "plt.xlabel('Tone of the Text')\n",
        "plt.ylabel('Frequency')\n",
        "\n",
        "for i in range(len(values)):\n",
        "    plt.text(values[i], frequencies[i], str(frequencies[i]), ha = 'center', va = 'bottom')\n",
        "\n",
        "plt.show()"
      ],
      "metadata": {
        "colab": {
          "base_uri": "https://localhost:8080/",
          "height": 449
        },
        "id": "2eHKV6gpzh5c",
        "outputId": "ff1e96e4-6314-45a6-80e1-305ab21d54ab"
      },
      "execution_count": null,
      "outputs": [
        {
          "output_type": "display_data",
          "data": {
            "text/plain": [
              "<Figure size 640x480 with 1 Axes>"
            ],
            "image/png": "[encoded data removed]"
          },
          "metadata": {}
        }
      ]
    }
  ]
}