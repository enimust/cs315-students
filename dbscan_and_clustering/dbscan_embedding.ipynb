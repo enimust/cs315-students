{
 "cells": [
  {
   "cell_type": "markdown",
   "id": "ba8d74bb-2545-4915-9237-0bb4c176dfc1",
   "metadata": {},
   "source": [
    "## Part 3: DBSCAN for Word Embedding Clustering"
   ]
  },
  {
   "cell_type": "markdown",
   "id": "a252788b-1388-4ef9-92e1-e0a0b24662ed",
   "metadata": {},
   "source": [
    "We will reference the cluster algorithm tutorial notebook Eni posted earlier and use the same example in this notebook.\n",
    "\n",
    "In this notebook, we also attempt to replicate the results achieved by Mohammed et al. in [Glove Word Embedding and DBSCAN Algorithms for Semantic Document Clustering](https://ieeexplore.ieee.org/stamp/stamp.jsp?tp=&arnumber=9436540&tag=1) and Eklavya Dahiya in [Exploring Unsupervised Clustering Techniques On News Articles](https://arno.uvt.nl/show.cgi?fid=160830).\n"
   ]
  },
  {
   "cell_type": "markdown",
   "id": "62c14d9e-e46f-4af9-9fec-10fabd0147f2",
   "metadata": {},
   "source": [
    "First let's import/download packages we need for this example. "
   ]
  },
  {
   "cell_type": "code",
   "execution_count": 1,
   "id": "da2a95f2-1f82-4d36-93c2-91ad9f278053",
   "metadata": {},
   "outputs": [],
   "source": [
    "import numpy as np\n",
    "import gensim.downloader as api\n",
    "from sklearn.cluster import DBSCAN\n",
    "import sklearn.datasets\n",
    "from nltk.tokenize import word_tokenize\n",
    "import nltk"
   ]
  },
  {
   "cell_type": "markdown",
   "id": "2dadc771-21d7-4452-b383-10c90a1a0a3e",
   "metadata": {},
   "source": [
    "Now, let's read in the dataset. To parallel the notebooks we've worked with as tutorials in class, we'll use the 20newsgroups dataset."
   ]
  },
  {
   "cell_type": "code",
   "execution_count": 2,
   "id": "9e6a5fb1-e437-4169-aba8-75b7faea106b",
   "metadata": {},
   "outputs": [
    {
     "name": "stdout",
     "output_type": "stream",
     "text": [
      "3395 2261\n",
      "[\"From: david@stat.com (David Dodell)\\nSubject: HICN610 Medical Newsletter, Part 2/4\\nReply-To: david@stat.com (David Dodell)\\nDistribution: world\\nOrganization: Stat Gateway Service, WB7TPY\\nLines: 708\\n\\n\\n------------- cut here -----------------\\n\\n\\n\\n\\n\\n\\n\\n\\n\\nHICNet Medical Newsletter                                              Page 13\\nVolume  6, Number 10                                           April 20, 1993\\n\\n                       Gonorrhea -- Colorado, 1985-1992\\n                       ================================\\n                   SOURCE: MMWR 42(14)   DATE: Apr 16, 1993\\n\\n     The number of reported cases of gonorrhea in Colorado increased 19.9% \\nfrom 1991 to 1992 after declining steadily during the 1980s. In comparison, in \\nthe United States, reported cases of gonorrhea in 1992 continued an overall \\ndecreasing trend (1). This report summarizes an analysis of the increase in \\ngonorrhea in Colorado in 1992 and characterizes trends in the occurrence of \\nthis disease from 1985 through 1992. \\n     In 1992, 4679 cases of gonorrhea were reported to the Colorado Department \\nof Health (CDH) compared with 3901 cases reported in 1991. During 1992, \\nreported cases increased 22.7% and 17.5% among females and males, respectively \\n(Table 1). Similar increases occurred among blacks, whites, and Hispanics \\n(15.6%, 15.1%, and 15.9%, respectively); however, the number of reported cases \\nwith race not specified increased 88% from 1991 to 1992 and constituted 9.7% \\nof all reported cases in 1992. Although the largest proportional increases by \\nage groups occurred among persons aged 35-44 years (80.4%) and greater than or \\nequal to 45 years (87.7%), these age groups accounted for only 11.0% of all \\nreported cases in 1992. Persons in the 15-19-year age group accounted for the \\nlargest number of reported cases of gonorrhea during 1992 and the highest age \\ngroup-specific rate (639 per 100,000). \\n     Reported cases of gonorrhea increased 32.9% in the five-county Denver \\nmetropolitan area (1990 population: 1,629,466) but decreased elsewhere in the \\nstate (Table 1). Half the cases of gonorrhea in the Denver metropolitan area \\noccurred in 8.4% (34) of the census tracts; these represent neighborhoods \\nconsidered by sexually transmitted diseases (STDs)/acquired immunodeficiency \\nsyndrome (AIDS) field staff to be the focus of gang and drug activity. \\n     When compared with 1991, the number of gonorrhea cases diagnosed among \\nmen in the Denver Metro Health Clinic (DMHC, the primary public STD clinic in \\nthe Denver metropolitan area) increased 33% in 1992, and the number of visits \\nby males to the clinic increased 2.4%. Concurrently, the number of cases \\ndiagnosed among women increased by 1%. Among self-identified heterosexual men, \\nthe number of gonorrhea cases diagnosed at DMHC increased 33% and comprised \\n94% of all cases diagnosed in males, while the number of cases diagnosed among \\nself-identified homosexual men remained low (71 and 74 in 1991 and 1992, \\nrespectively). \\n     Four selected laboratories in the metropolitan Denver area (i.e., HMO, \\nuniversity hospital, nonprofit family planning, and commercial) were contacted \\nto determine whether gonorrhea culture-positivity rates increased. Gonorrhea \\nculture-positivity rates in three of four laboratories contacted increased \\n23%-33% from 1991 to 1992, while the rate was virtually unchanged in the \\nfourth (i.e., nonprofit family planning). \\n     From 1985 through 1991, reported cases of gonorrhea among whites and \\nHispanics in Colorado decreased; in comparison, reported cases among blacks \\n\\nHICNet Medical Newsletter                                              Page 14\\nVolume  6, Number 10                                           April 20, 1993\\n\\nincreased since 1988 (Figure 1). During 1988-1992, the population in Colorado \\nincreased 9.9% for blacks, 9.8% for Hispanics, and 4.5% for whites. In 1992, \\nthe gonorrhea rate for blacks (1935 per 100,000 persons) was 57 times that for \\nwhites (34 per 100,000) and 12 times that for Hispanics (156 per 100,000) \\n(Table 1). Among black females, reported cases of gonorrhea increased from \\n1988 through 1992 in the 15-19-year age group; among black males, cases \\nincreased from 1989 through 1992 in both the 15-19-and 20-24-year age groups. \\n\\nReported by: KA Gershman, MD, JM Finn, NE Spencer, MSPH, STD/AIDS Program; RE \\nHoffman, MD, State Epidemiologist, Colorado Dept of Health. JM Douglas, MD, \\nDenver Dept of Health and Hospitals. Surveillance and Information Systems Br, \\nDiv of Sexually Transmitted Diseases and HIV Prevention, National Center for \\nPrevention Svcs, CDC. \\n\\nEditorial Note: The increase in reported gonorrhea cases in Colorado in 1992 \\nmay represent an overall increase in the occurrence of this disease or more \\ncomplete reporting stimulated by visitations to laboratories by CDH \\nsurveillance staff during 1991-1992. The increases in confirmed gonorrhea \\ncases at DMHC and in culture-positivity rates in three of four laboratories \\nsuggest a real increase in gonorrhea rather than a reporting artifact. \\nHowever, the stable culture-positivity rate in the nonprofit family planning \\nlaboratory (which serves a network of clinics statewide) indicates that the \\ngonorrhea increase did not uniformly affect all segments of the population. \\n     One possible explanation for the increased occurrence of gonorrhea in \\nColorado may be gang- and drug-related sexual behavior, as implicated in a \\nrecent outbreak of drug-resistant gonorrhea and other STDs in Colorado Springs \\n(2). Although the high morbidity census tracts in the Denver metropolitan area \\ncoincide with areas of gang and drug activity, this hypothesis requires \\nfurther assessment. To examine the possible role of drug use -- implicated \\npreviously as a factor contributing to the national increase in syphilis (3-6) \\n-- the CDH STD/AIDS program is collecting information from all persons in whom \\ngonorrhea is diagnosed regarding drug use, exchange of sex for money or drugs, \\nand gang affiliation. \\n     The gonorrhea rate for blacks in Colorado substantially exceeds the \\nnational health objective for the year 2000 (1300 per 100,000) (objective \\n19.1a) (7). Race is likely a risk marker rather than a risk factor for \\ngonorrhea and other STDs. Risk markers may be useful for identifying groups at \\ngreatest risk for STDs and for targeting prevention efforts. Moreover, race-\\nspecific variation in STD rates may reflect differences in factors such as \\nsocioeconomic status, access to medical care, and high-risk behaviors. \\n     In response to the increased occurrence of gonorrhea in Colorado, \\ninterventions initiated by the CDH STD/AIDS program include 1) targeting \\npartner notification in the Denver metropolitan area to persons in groups at \\nincreased risk (e.g., 15-19-year-old black females and 20-24-year-old black \\nmales); 2) implementing a media campaign (e.g., public service radio \\n\\nHICNet Medical Newsletter                                              Page 15\\nVolume  6, Number 10                                           April 20, 1993\\n\\nannouncements, signs on city buses, newspaper advertisements, and posters in \\nschools and clinics) to promote awareness of STD risk and prevention targeted \\nprimarily at high-risk groups, and 3) developing teams of peer educators to \\nperform educational outreach in high-risk neighborhoods. The educational \\ninterventions are being developed and implemented with the assistance of \\nmembers of the target groups and with input from a forum of community leaders \\nand health-care providers. \\n\\nReferences\\n\\n1. CDC. Table II. Cases of selected notifiable diseases, United States, weeks \\nending December 26, 1992, and December 28, 1991 (52nd week). MMWR 1993;41:975. \\n\\n2. CDC. Gang-related outbreak of penicillinase-producing Neisseria gonorrhoeae \\nand other sexually transmitted diseases -- Colorado Springs, Colorado, 1989-\\n1991. MMWR 1993;42:25-8. \\n\\n3. CDC. Relationship of syphilis to drug use and prostitution -- Connecticut \\nand Philadelphia, Pennsylvania. MMWR 1988;37:755-8, 764. \\n\\n4. Rolfs RT, Goldberg M, Sharrar RG. Risk factors for syphilis: cocaine use \\nand prostitution. Am J Public Health 1990;80:853-7. \\n\\n5. Andrus JK, Fleming DW, Harger DR, et al. Partner notification: can it \\ncontrol epidemic syphilis? Ann Intern Med 1990;112:539-43. \\n\\n6. Gershman KA, Rolfs RT. Diverging gonorrhea and syphilis trends in the \\n1980s: are they real? Am J Public Health 1991;81:1263-7. \\n\\n7. Public Health Service. Healthy people 2000: national health promotion and \\ndisease prevention objectives--full report, with commentary. Washington, DC: \\nUS Department of Health and Human Services, Public Health Service, 1991; DHHS \\npublication no. (PHS)91-50212. \\n\\n\\n\\n\\n\\n\\n\\n\\n\\n\\n\\n\\nHICNet Medical Newsletter                                              Page 16\\nVolume  6, Number 10                                           April 20, 1993\\n\\n                Effectiveness in Disease and Injury Prevention\\n            Impact of Adult Safety-Belt Use on Restraint Use Among\\n            Children less than 11 Years of Age -- Selected States,\\n                                 1988 and 1989\\n            ======================================================\\n                   SOURCE: MMWR 42(14)   DATE: Apr 16, 1993\\n\\n     Motor-vehicle crashes are the leading cause of death among children and \\nyoung adults in the United States and account for more than 1 million years of \\npotential life lost before age 65 annually (1). Child safety seats and safety \\nbelts can substantially reduce this loss (2). From 1977 through 1985, all 50 \\nstates passed legislation requiring the use of child safety seats or safety \\nbelts for children. Although these laws reduce injuries to young children by \\nan estimated 8%-59% (3,4), motor-vehicle crash-related injuries remain a major \\ncause of disability and death among U.S. children (1), while the use of \\noccupant restraints among children decreases inversely with age (84% usage for \\nthose aged 0-4 years; 57%, aged 5-11 years; and 29%, aged 12-18 years) (5). In \\naddition, parents who do not use safety belts themselves are less likely to \\nuse restraints for their children (6). To characterize the association between \\nadult safety-belt use and adult-reported consistent use of occupant restraints \\nfor the youngest child aged less than 11 years within a household, CDC \\nanalyzed data obtained from the Behavioral Risk Factor Surveillance System \\n(BRFSS) during 1988 and 1989. This report summarizes the findings from this \\nstudy. \\n     Data were available for 20,905 respondents aged greater than or equal to \\n18 years in 11 states * that participated in BRFSS -- a population-based, \\nrandom-digit-dialed telephone survey -- and administered a standard Injury \\nControl and Child Safety Module developed by CDC. Of these respondents, 5499 \\n(26%) had a child aged less than 11 years in their household. Each respondent \\nwas asked to specify the child's age and the frequency of restraint use for \\nthat child. The two categories of child restraint and adult safety-belt use in \\nthis analysis were 1) consistent use (i.e., always buckle up) and 2) less than \\nconsistent use (i.e., almost always, sometimes, rarely, or never buckle up). \\nData were weighted to provide estimates representative of each state. Software \\nfor Survey Data Analysis (SUDAAN) (7) was used to calculate point estimates \\nand confidence intervals. Statistically significant differences were defined \\nby p values of less than 0.05. \\n     Each of the 11 states had some type of child restraint law. Of these, six \\n(Arizona, Kentucky, Maine, Nebraska, Rhode Island, and West Virginia) had no \\nlaw requiring adults to use safety belts; four (Idaho, Maryland, Pennsylvania, \\nand Washington) had a secondary enforcement mandatory safety-belt law (i.e., a \\nvehicle had to be stopped for a traffic violation before a citation for nonuse \\nof safety belts could be issued); and one state (New York) had a primary \\nenforcement mandatory safety-belt law (i.e., vehicles could be stopped for a \\nsafety-belt law violation alone). In nine states, child-passenger protection \\n\\nHICNet Medical Newsletter                                              Page 17\\nVolume  6, Number 10                                           April 20, 1993\\n\\nlaws included all children aged less than 5 years, but the other two states \\nused both age and size of the child as criteria for mandatory restraint use. \\nThe analysis in this report subgrouped states into 1) those having a law \\nrequiring adult safety-belt use (law states), and 2) those without such a law \\n(no-law states). \\n     Overall, 21% of children aged less than 11 years reportedly were not \\nconsistently restrained during automobile travel. Both child restraint use and \\nadult restraint use were significantly higher (p less than 0.05, chi-square \\ntest) in law states than in no-law states (81.1% versus 74.3% and 58.7% versus \\n43.2%, respectively). \\n     High rates of restraint use for children aged less than or equal to 1 \\nyear were reported by both adults indicating consistent and less than \\nconsistent safety-belt use (Figure 1). Adults with consistent use reported \\nhigh rates of child-occupant restraint use regardless of the child's age \\n(range: 95.5% for 1-year-olds to 84.7% for 10-year-olds). In comparison, for \\nadults reporting less than consistent safety-belt use, the rate of child-\\noccupant restraint use declined sharply by the age of the child (range: 93.1% \\nfor 1-year-olds to 28.8% for 10-year-olds). When comparing children of \\nconsistent adult safety-belt users with children of less than consistent adult \\nsafety-belt users, 95% confidence intervals overlap for the two youngest age \\ngroups (i.e., aged less than 1 and 1 year). \\n     Reported child-occupant restraint use in law states generally exceeded \\nthat in no-law states, regardless of age of child (Table 1). In addition, \\nhigher adult educational attainment was significantly associated with \\nincreased restraint use for children, a factor that has also been associated \\nwith increased adult safety-belt use (8). \\n\\nReported by: National Center for Injury Prevention and Control; National \\nCenter for Chronic Disease Prevention and Health Promotion, CDC. \\n\\nEditorial Note: The findings in this report are consistent with others \\nindicating that adults who do not use safety belts themselves are less likely \\nto employ occupant restraints for their children (6,9). Because these \\nnonbelted adults are at increased risk of crashing and more likely to exhibit \\nother risk-taking behaviors, children traveling with them may be at greater \\nrisk for motor-vehicle injury (10). \\n     Educational attainment of adult respondents was inversely associated with \\nchild restraint use in this report. Accordingly, occupant-protection programs \\nshould be promoted among parents with low educational attainment. Because low \\neducational attainment is often associated with low socioeconomic status, such \\nprograms should be offered to adults through health-care facilities that serve \\nlow-income communities or through federal programs (i.e., Head Start) that are \\ndirected at parents with young children. \\n     Injury-prevention programs emphasize restraining young children. In \\naddition, however, efforts must be intensified to protect child occupants as \\n\\nHICNet Medical Newsletter                                              Page 18\\nVolume  6, Number 10                                           April 20, 1993\\n\\nthey become older. Parents, especially those with low educational attainment, \\nthose who do not consistently wear safety belts, and those from states that do \\nnot have mandatory safety-belt use laws, should be encouraged to wear safety \\nbelts and to protect their children by using approved child safety seats and \\nsafety belts. Finally, the increased use of restraints among children may \\nincrease their likelihood of using safety belts when they become teenagers -- \\nthe age group characterized by the lowest rate of safety-belt use and the \\nhighest rate of fatal crashes (5). \\n\\nReferences\\n\\n1. CDC. Childhood injuries in the United States. Am J Dis Child 1990;144:627-\\n46. \\n\\n2. Partyka SC. Papers on child restraints: effectiveness and use. Washington, \\nDC: US Department of Transportation, National Highway Traffic Safety \\nAdministration, 1988; report no. DOT-HS-807-286. \\n\\n3. Guerin D, MacKinnon D. An assessment of the California child passenger \\nrestraint requirement. Am J Public Health 1985;75:142-4. \\n\\n4. Hall W, Orr B, Suttles D, et al. Progress report on increasing child \\nrestraint usage through local education and distribution programs. Chapel \\nHill, North Carolina: University of North Carolina at Chapel Hill, Highway \\nSafety Research Center, 1983. \\n\\n5. National Highway Traffic Safety Administration. Occupant protection trends \\nin 19 cities. Washington, DC: US Department of Transportation, National \\nHighway Traffic Safety Administration, 1991. \\n\\n6. Wagenaar AC, Molnar LJ, Margolis LH. Characteristics of child safety seat \\nusers. Accid Anal Prev 1988;20:311-22. \\n\\n7. Shah BV, Barnwell BG, Hunt PN, LaVange LM. Software for Survey Data \\nAnalysis (SUDAAN) version 5.50 Software documentation. Research Triangle \\nPark, North Carolina: Research Triangle Institute, 1991. \\n\\n8. Lund AK. Voluntary seat belt use among U.S. drivers: geographic, \\nsocioeconomic and demographic variation. Accid Anal Prev 1986;18:43-50. \\n\\n9. Margolis LH, Wagenaar AC, Molnar LJ. Use and misuse of automobile child \\nrestraint devices. Am J Dis Child 1992;146:361-6. \\n\\n10. Hunter WW, Stutts JC, Stewart JR, Rodgman EA. Characteristics of seatbelt \\nusers and non-users in a state with a mandatory use law. Health Education \\n\\nHICNet Medical Newsletter                                              Page 19\\nVolume  6, Number 10                                           April 20, 1993\\n\\nResearch 1990;5:161-73. \\n\\n* Arizona, Idaho, Kentucky, Maine, Maryland, Nebraska, New York, Pennsylvania, \\nRhode Island, Washington, and West Virginia. \\n\\n\\n\\n\\n\\n\\n\\n\\n\\n\\n\\n\\n\\n\\n\\n\\n\\n\\n\\n\\n\\n\\n\\n\\n\\n\\n\\n\\n\\n\\n\\n\\n\\n\\n\\n\\n\\n\\n\\n\\n\\nHICNet Medical Newsletter                                              Page 20\\nVolume  6, Number 10                                           April 20, 1993\\n\\n                   Publication of CDC Surveillance Summaries\\n                   =========================================\\n                   SOURCE: MMWR 42(14)   DATE: Apr 16, 1993\\n\\n     Since 1983, CDC has published the CDC Surveillance Summaries under \\nseparate cover as part of the MMWR series. Each report published in the CDC \\nSurveillance Summaries focuses on public health surveillance; surveillance \\nfindings are reported for a broad range of risk factors and health conditions. \\n     Summaries for each of the reports published in the most recent (March 19, \\n1993) issue of the CDC Surveillance Summaries (1) are provided below. All \\nsubscribers to MMWR receive the CDC Surveillance Summaries, as well as the \\nMMWR Recommendations and Reports, as part of their subscriptions.\\n\\n SURVEILLANCE FOR AND COMPARISON OF BIRTH DEFECT PREVALENCES\\n                               IN TWO GEOGRAPHIC \\n                        AREAS -- UNITED STATES, 1983-88 \\n\\n     Problem/Condition: CDC and some states have developed surveillance \\nsystems to monitor the birth prevalence of major defects. \\n     Reporting Period Covered: This report covers birth defects surveillance \\nin metropolitan Atlanta, Georgia, and selected jurisdictions in California for \\nthe years 1983-1988. \\n     Description of System: The California Birth Defects Monitoring Program \\nand the Metropolitan Atlanta Congenital Defects Program are two population-\\nbased surveillance systems that employ similar data collection methods. The \\nprevalence estimates for 44 diagnostic categories were based on data for 1983-\\n1988 for 639,837 births in California and 152,970 births in metropolitan \\nAtlanta. The prevalences in the two areas were compared, adjusting for race, \\nsex, and maternal age by using Poisson regression. \\n     Results: Regional differences in the prevalence of aortic stenosis, fetal \\nalcohol syndrome, hip dislocation/dysplasia, microcephalus, obstruction of the \\nkidney/ureter, and scoliosis/lordosis may be attributable to general \\ndiagnostic variability. However, differences in the prevalences of arm/hand \\nlimb reduction, encephalocele, spina bifida, or trisomy 21 (Down syndrome) are \\nprobably not attributable to differences in ascertainment, because these \\ndefects are relatively easy to diagnose. \\n     Interpretation: Regional differences in prenatal diagnosis and pregnancy \\ntermination may affect prevalences of trisomy 21 and spina bifida. However, \\nthe reason for differences in arm/hand reduction is unknown, but may be \\nrelated to variability in environmental exposure, heterogeneity in the gene \\npool, or random variation. \\n     Actions Taken: Because of the similarities of these data bases, several \\ncollaborative studies are being implemented. In particular, the differences in \\nthe birth prevalence of spina bifida and Down syndrome will focus attention on \\nthe impact of prenatal diagnosis. Authors: Jane Schulman, Ph.D., Nancy \\n\\nHICNet Medical Newsletter                                              Page 21\\nVolume  6, Number 10                                           April 20, 1993\\n\\nJensvold, M.P.H, Gary M. Shaw, Dr.P.H., California Birth Defects Monitoring \\nProgram, March of Dimes Birth Defects Foundation. Larry D. Edmonds, M.S.P.H., \\nAnne B. McClearn, Division of Birth Defects and Developmental Disabilities, \\nNational Center for Environmental Health, CDC. \\n\\n                      INFLUENZA -- UNITED STATES, 1988-89\\n\\n     Problem/Condition: CDC monitors the emergence and spread of new influenza \\nvirus variants and the impact of influenza on morbidity and mortality annually \\nfrom October through May. \\n     Reporting Period Covered: This report covers U.S. influenza surveillance \\nconducted from October 1988 through May 1989. \\n     Description of System: Weekly reports from the vital statistics offices \\nof 121 cities provided an index of influenza's impact on mortality; 58 WHO \\ncollaborating laboratories reported weekly identification of influenza \\nviruses; weekly morbidity reports were received both from the state and \\nterritorial epidemiologists and from 153 sentinel family practice physicians. \\nNonsystematic reports of outbreaks and unusual illnesses were received \\nthroughout the year. \\n     Results: During the 1988-89 influenza season, influenza A(H1N1) and B \\nviruses were identified in the United States with essentially equal frequency \\noverall, although both regional and temporal patterns of predominance shifted \\nover the course of the season. Throughout the season increases in the indices \\nof influenza morbidity in regions where influenza A(H1N1) predominated were \\nsimilar to increases in regions where influenza B predominated. Only 7% of \\nidentified viruses were influenza A(H3N2), but isolations of this subtype \\nincreased as the season waned, and it subsequently predominated during the \\n1989-90 season. During the 1988-89 season outbreaks in nursing homes were \\nreported in association with influenza B and A(H3N2) but not influenza \\nA(H1N1). \\n     Interpretation: The alternating temporal and geographic predominance of \\ninfluenza strains A(H1N1) and B during the 1988-89 season emphasizes the \\nimportance of continual attention to regional viral strain surveillance, since \\namantadine is effective only for treatment and prophylaxis of influenza A. \\n     Actions Taken: Weekly interim analyses of surveillance data produced \\nthroughout the season allow physicians and public health officials to make \\ninformed choices regarding appropriate use of amantadine. CDC's annual \\nsurveillance allows the observed viral variants to be assessed as candidates \\nfor inclusion as components in vaccines used in subsequent influenza seasons. \\nAuthors: Louisa E. Chapman, M.D., M.S.P.H., Epidemiology Activity, Office of \\nthe Director, Division of Viral and Rickettsial Diseases, National Center for \\nInfectious Diseases; Margaret A. Tipple, M.D., Division of Quarantine, \\nNational Center for Prevention Services, CDC. Suzanne Gaventa Folger, M.P.H., \\nHealth Investigations Branch, Division of Health Studies, Agency for Toxic \\nSubstances and Disease Registry. Maurice Harmon, Ph.D., Connaught \\n\\nHICNet Medical Newsletter                                              Page 22\\nVolume  6, Number 10                                           April 20, 1993\\n\\nLaboratories, Pasteur-Mirieux Company, Swiftwater, Pennsylvania. Alan P. \\nKendal, Ph.D., European Regional Office, World Health Organization, \\nCopenhagen, Denmark. Nancy J. Cox, Ph.D., Influenza Branch, Division of Viral \\nand Rickettsial Diseases, National Center for Infectious Diseases; Lawrence B. \\nSchonberger, M.D., M.P.H., Epidemiology Activity, Office of the Director, \\nDivision of Viral and Rickettsial Diseases, National Center for Infectious \\nDiseases, CDC. \\n\\nReference\\n\\n1. CDC. CDC surveillance summaries (March 19). MMWR 1993;42(no. SS-1).\\n\\n\\n\\n\\n\\n\\n\\n\\n\\n\\n\\n\\n\\n\\n\\n\\n\\n\\n\\n\\n\\n\\n\\n\\n\\n\\n\\n\\n\\n\\n\\n\\n\\n\\nHICNet Medical Newsletter                                              Page 23\\nVolume  6, Number 10                                           April 20, 1993\\n\\n\\n\\n::::::::::::::::::::::::::::::::::::::::::::::::::::::::::::::::::::::::::::::\\n                            Clinical Research News\\n::::::::::::::::::::::::::::::::::::::::::::::::::::::::::::::::::::::::::::::\\n\\n                          Clinical Research News for\\n                              Arizona Physicians\\n\\n                 Vol. 4, No. 4, April 1993     Tucson, Arizona\\n\\nPublished monthly by the Office of Public Affairs at The University of Arizona\\n                            Health Sciences Center.   \\n                   Copyright 1993, The University of Arizona\\n\\n                 High Tech Assisted Reproductive Technologies\\n\\nFollowing the birth of the first in vitro fertilization-embryo transfer (IVF-\\nET) baby in 1978, a host of assisted reproductive technologies have been \\ndeveloped that include IVF-ET, gamete intrafallopian tube transfer (GIFT), \\nembryo cryopreservation (freezing) and gamete micromanipulation. Together, \\nthese technologies are referred to as the high-tech assisted reproductive \\ntechnology (ART) procedures. \\n\\nOvulation induction, sperm insemination and surgery for tubal disease and/or \\npathology still are the mainstays of the therapies available for infertility \\nmanagement. However, when these fail, it almost always is appropriate to \\nproceed with one of the ART procedures. \\n\\nTherefore, in addition to a comprehensive basic and general infertility \\nservice at The University of Arizona Center for Reproductive Endocrinology and \\nInfertility, there is a program of Assisted Reproduction that specializes in \\nART procedures. This program serves as a tertiary provider for those patients \\nin the state of Arizona whose infertility problems cannot be resolved by the \\ntraditional therapies. \\n\\nThe following article (on back) describes the ART procedures available in our \\nCenter, clarifies appropriate applications for each, and considers the \\nrealistic expectations for their success. Procedures included are: \\n\\no in vitro \\no fertilization - embryo transfer (IVF-ET),  gamete intrafallopian tube \\n  transfer \\no (GIFT),  cryopreservation of human embryos and  gamete micromanipulation. \\nThis article also considers ongoing research in our program that is directed \\ntowards improved success of these technologies. \\n\\n\\nHICNet Medical Newsletter                                              Page 24\\nVolume  6, Number 10                                           April 20, 1993\\n\\n                           Future Areas of Research\\n\\nIn addition to ongoing research that is directed exclusively toward the \\nmanagement of infertile couples, we are developing the technology to assist \\ncouples who are at risk for producing embryos with a serious hereditary \\ndisease. \\n\\nThis technology involves biopsying the preimplantation human embryo and then \\nsubjecting the biopsied cells to genetic analysis using either DNA \\namplification or fluorescent in situ hybridization. \\n\\nThere are recent reports of the successful application of DNA amplification by \\nother centers, for example, for diagnosis of the genes for cystic fibrosis and \\nhemophilia. We hope to apply and further focus fluorescent in situ \\nhybridization technology for probing the X chromosome, the identification of \\nwhich will provide a scientific basis for counselling patients who exhibit \\nsex-linked disorders. \\n\\nThe considerable clinical application of such technology lies in the fact that \\nit circumvents the need for prenatal diagnosis, in addition to the possibility \\nof a subsequent termination of affected fetuses, in order to avoid the birth \\nof affected children. \\n\\n\\nCatherine Racowsky, Ph.D.\\nAssociate Professor and Director of Research\\nDepartment of Obstetrics and Gynecology\\nCollege of Medicine \\nUniversity of Arizona\\nTucson, Arizona\\n\\n               Applications, Success Rates and Advances for the\\n                           Management of Infertility\\n\\nThe following are the ART procedures available at The University of Arizona \\nCenter for Reproductive Endocrinology and Infertility. \\n\\n     In Vitro Fertilization - Embryo Transfer is the core ART procedure of our \\nAssisted Reproduction Program.  This procedure involves retrieval of \\nunfertilized eggs from the ovary, their insemination in vitro in a dish, and \\nthe culture of resultant embryos for 1 or 2 days, before they are transferred \\nto the patient's uterus. All cultures are maintained in an incubator under \\nstrictly controlled atmospheric and temperature conditions. Before being \\nprocessed for use in insemination, semen samples are evaluated in our \\nandrology laboratory using both subjective light microscopy and computer-\\n\\nHICNet Medical Newsletter                                              Page 25\\nVolume  6, Number 10                                           April 20, 1993\\n\\nassisted semen analyses. To ensure an adequate number of eggs with which to \\nperform IVF-ET, or indeed, GIFT, follicular development is typically \\nstimulated, with gonadotropins (perganol, metrodin), gonadotropin releasing \\nhormone (GnRH, Factrel, lutrepulse) and/or GnRH analogues (lupron, Depo \\nlupron, synarel). Occasionally, however, IVF-ET is accomplished with eggs \\nobtained in non-stimulated cycles. While some programs utilize laparoscopic \\negg retrieval in the operating room with the patient under general anesthesia, \\nwe undertake the less costly approach of ultrasound-guided retrieval in our \\nInfertility Unit, with the patient sedated.  \\n     Couples who resort to IVF-ET exhibit such pathologies as tubal \\ndeficiencies, ovulatory dysfunction, endometriosis, and/or mild forms of male \\nfactor infertility.  According to the United States IVF Registry, the overall \\nsuccess rate for IVF-ET nationwide has stabilized at about 14 percent per \\ncycle. Results from our program, involving 86 patients who have undergone 173 \\nIVF-ET cycles, reflect a comparable success rate. \\n     Nevertheless, the overall incidence of success with this procedure is \\ndisconcertingly low and emphasizes the need to address those physiological \\nfactors that limit achievement of a higher percentage of pregnancies.  Well \\nrecognized predictors of outcome include patient age, response to exogenous \\novarian stimulation, quality of sperm and number of repeated IVF-ET cycle \\nattempts. However, among these, age is the single most significant determinant \\nof conception. Therefore, it is critical that such patients are referred to an \\nAssisted Reproduction Program at the earliest opportunity following failure of \\ntraditional therapies. \\n     The underlying basis for the negative effect of age on fertility has not \\nbeen clearly delineated beyond recognition that: 1) the number of eggs \\navailable for retrieval declines markedly with age; 2) fertilization rates \\nsignificantly decrease in eggs retrieved from patients who are over 40 years; \\nand 3) provided the appropriate hormonal background is present, age is \\nunrelated to uterine competency to sustain pregnancy. Ongoing research in our \\nCenter, therefore, is investigating physiological changes in the egg that may \\nbe impacted by age. We have determined that more than 50 percent of eggs that \\nfail to fertilize in vitro are chromosomally abnormal, and that a significant \\nproportion of these abnormalities are accountable to patient age. Currently, \\nthe only recourse for such patients is to use eggs obtained from a donor. Our \\nprogram has initiated recruitment of volunteer egg donors to satisfy the needs \\nof a list of recipients interested in this form of therapy. \\n\\n     GIFT - This high-tech ART procedure is performed in the operating room, \\nusually with the use of a laparoscope and, in contrast to IVF-ET, involves \\nintroducing sperm and freshly retrieved eggs into the lumen of the Fallopian \\ntube (an average of 3 eggs/tube). Under these circumstances, fertilization \\noccurs in vivo and, if excess eggs are retrieved, the remainder undergo IVF, \\nwith subsequent options for embryo transfer in that cycle, or freezing for \\ntransfer in a subsequent cycle. This ART procedure is applied to cases in \\n\\nHICNet Medical Newsletter                                              Page 26\\nVolume  6, Number 10                                           April 20, 1993\\n\\nwhich there is at least one patent Fallopian tube but the couple has such \\npathologies as ovulatory dysfunction, endometriosis, male factor infertility \\nand/or idiopathic infertility.    \\n     The data reported in the United States IVF Registry for 1985 through 1990 \\nindicate that the overall success rate with GIFT is higher than that obtained \\nwith the IVF-ET technique (range of clinical pregnancies for GIFT is 24 to 36 \\npercent and for IVF-ET 14 to 18 percent). In view of this fact, one might \\nexpect more patients to be treated with GIFT than IVF-ET. However, in our \\nprogram we have taken into account three basic concerns which, while \\nsubstantially reducing the number of GIFT cycles performed, benefit the \\npatient. These concerns are: 1) the increased costs associated with performing \\na procedure in the operating room; 2) the risks, albeit minimal, of undergoing \\ngeneral anesthesia; and 3) the considerable benefits to be accrued from \\nobtaining direct information on the quality and fertilizability of the eggs, \\nand the developmental competency of resultant embryos. \\n     The increased success with GIFT undoubtedly reflects the artificial \\nenvironment provided by the laboratory in the IVF-ET procedure. Between \\nJanuary 1, 1991, and December 31, 1992, we have performed a total of 12 GIFT \\ncycles, with an overall success rate of 20 percent. \\n     Embryo cryopreservation, or freezing, is applied in our program when \\nembryos result from residual GIFT eggs or from non-transferred IVF embryos. \\nThis procedure not only provides patients with a subsequent opportunity for \\nsuccess at much reduced costs, but also circumvents the legal and ethical \\nissues relating to disposal of supernumerary embryos. Therefore, as stipulated \\nby the American Fertility Society ethical guidelines for ART programs, from \\nboth a practical and an ethical standpoint, all Assisted Reproduction programs \\nshould have the capability of cryopreserving human embrys. \\n     Gamete Micromanipulation - This ART procedure, which is still very new, \\nis applied to couples who are unaccepting of insemination with donor semen but \\nwho have severe male factor infertility (less than 10 million sperm/ml in \\ncombination with fewer than 20 perccent motile sperm, and/or less than 10 \\npercent sperm with normal morphology). We are currently developing the \\nprocedure of sub-zonal insertion (SZI), which entails injecting sperm under \\nthe coating around the egg, the barrier normally penetrated by the sperm \\nthrough enzymatic digestion. \\n     Available data from SZI programs world-wide indicate that only 5 to 10 \\npercent of SZI cycles result in a pregnancy. This statistic undoubtedly \\nrelates to limitations imposed by abnormalities inherent in the sperm. \\nTherefore, we are currently focusing on the development of improved techniques \\nfor the recognition and selection of sperm chosen for manipulation. Such \\nefforts are unquestionably worthwhile in view of the fact that this technology \\noffers the only realistic opportunity for severe male factor patients to \\nestablish conception. \\n\\nCatherine Racowsky, Ph.D.\\n\\nHICNet Medical Newsletter                                              Page 27\\nVolume  6, Number 10                                           April 20, 1993\\n\\nAssociate Professor and Director of Research\\nDepartment of Obstetrics and Gynecology\\nCollege of Medicine \\n--------- end of part 2 ------------\\n\\n---\\n      Internet: david@stat.com                  FAX: +1 (602) 451-1165\\n      Bitnet: ATW1H@ASUACAD                     FidoNet=> 1:114/15\\n                Amateur Packet ax25: wb7tpy@wb7tpy.az.usa.na\\n\", 'From: zed@Dartmouth.EDU (Ted Schuerzinger)\\nSubject: Re: ATF BURNS DIVIDIAN RANCH! NO SURVIVORS!!!\\nX-Posted-From: InterNews 1.0b16@dartmouth.edu\\nOrganization: WDCR/WFRD, Hanover, NH\\nLines: 49\\n\\nIn article <93109.13404334AEJ7D@CMUVM.BITNET>\\n<34AEJ7D@CMUVM.BITNET> writes:\\n\\n> I will be surprised if this post makes it past the censors,\\n> but here goes:\\n> \\n> Monday, 19 April, 1993 13:30 EDT\\n> \\n>                     MURDER  MOST  FOUL!!\\n> \\n> CNN is reporting as I write this that the ATF has ignited all\\n> the buildings of the Branch Dividian ranch near Waco, TX. The\\n> lies from ATF say \"holes were made in the walls and \\'non-lethal\\' tear\\n> gas pumped in\". A few minutes after this started the whole thing went up.\\n> ALL buildings are aflame. NO ONE HAS ESCAPED. I think it obvious that\\n> the ATF used armored flame-thrower vehicles to pump in unlit\\n> napalm, then let the wood stove inside ignite it.\\n> \\n> THIS IS MURDER!\\n> \\n> ATF MURDERERS!  BUTCHERS!!\\n> \\n> THIS IS GENOCIDAL MASS-SLAUGHTER OF INNOCENT PEOPLE, INCLUDING CHILDREN!\\n> \\n> I have predicted this from the start, but God, it sickens me to see\\n> it happen. I had hoped I was wrong. I had hoped that there was\\n> still some shred of the America I grew up with, and loved, left\\n> alive. I was wrong. The Nazis have won.\\n> \\n> I REPEAT, AS OF THIS TIME THERE ARE **NO  SURVIVORS**!\\n> \\n> God help us all.\\n> \\n> \\n> PLEASE CROSSPOST -- DON\\'T LET THEM GET AWAY WITH THE SLAUGHTER OF THE CHILDREN!\\n> \\n> \\n> W. K. Gorman - an American in tears.\\n\\nThe latest news I saw was that two of the eight known survivors (not NO\\nSURVIVORS!!! as you so rudely put in all caps) said they started the\\nfire.\\n\\nI won\\'t go on with the things the wacko of Waco did.\\n\\n\\n--Ted Schuerzinger\\nzed@Dartmouth.EDU\\nThis is not the secret message.\\n', \"From: behanna@syl.nj.nec.com (Chris BeHanna)\\nSubject: Re: Auto air conditioning without Freon\\nOrganization: NEC Systems Laboratory, Inc.\\nLines: 33\\n\\nIn article <1993Apr14.155159.32619@ns1.cc.lehigh.edu> amh2@ns1.cc.lehigh.edu (ALOIS M. HIMSL) writes:\\n>Yes, I have the same questions. What makes me upset is that R12 costs are\\n>skyrocketing and in fact can't be bought anymore in my area.  Also this is yet\\n>another way mechanics and dealers can RIP-OFF customers. Also I was reading\\n>that the new refrigerant is not compatible with the r12 system and that it\\n>would cost $ 300 upto a $ 1000 to retrofit a car with the old R12 system.\\n>ALthough it is important to consider the environment I think the sudden ban is\\n>a slap in the face for the consumer. Why is it that the consumer should have\\n>to pay for the retrofit? The auto companies should have seen this coming? Also\\n>why is it that the governments of the world were so quick in banning freon use\\n>and yet so slow in banning gasoline. In my opinion gasoline is just as\\n>hazardous as anything else.  Why can't they start proposing bans on this and\\n>switch to natural gas or electric? The technology is there. Hopefully some\\n>chemist will come up with another alternative coolant that will be compatible\\n>with the old system.\\n>Al H.\\n\\n\\tSeveral chemists already have come up with several substitutes for\\nR12.  You don't hear about them because the Mobile Air Conditioning Society\\n(MACS), that is, the people who stand to rake in that $300 to $1000 per\\nretrofit per automobile, have mounted an organized campaign to squash those\\nR12 substitutes out of existence if not ban them altogether (on very shaky\\ntechnical grounds, at best, on outright lies at worst).\\n\\n\\tDoes this piss you off?  Yes?  Write a letter to your congressman, to\\nyour senator, to the president, to the EPA, and to the DOT and complain.\\n\\nLater,\\n-- \\nChris BeHanna\\tDoD# 114          1983 H-D FXWG Wide Glide - Jubilee's Red Lady\\nbehanna@syl.nj.nec.com\\t          1975 CB360T - Baby Bike\\nDisclaimer:  Now why would NEC\\t  1991 ZX-11 - needs a name\\nagree with any of this anyway?    I was raised by a pack of wild corn dogs.\\n\", \"From: zorro@picasso.ocis.temple.edu (John Grabowski)\\nSubject: Re: Taurus/Sable rotor recall\\nOrganization: Temple University\\nLines: 23\\nNntp-Posting-Host: picasso.ocis.temple.edu\\nX-Newsreader: TIN [version 1.1 PL9]\\n\\nAntonio L. Balsamo (Save the wails) (balsamo@stargl.enet.dec.com) wrote:\\n\\n: From: OPDBS@vm.cc.latech.edu\\n: Subject: Taurus/Sable rotor recall\\n\\n:        My '92 Taurus GL with only 26k on the clock also has rotor warp.\\n:    Apparently they HAVEN'T fixed the problem yet.  But try convincing the Ford\\n:    service person to fix it for free...Right!!!\\n\\n:    Tony\\n\\n\\nGads, I have heard so many horror stories with Taurus and Sable cars!  I thought\\nthese were premium American automobiles.  The way they sell, you'd think so.\\nIs Ford really no better than in the late '70s when it was turning out tin\\ncans like the Granada and the Fairmount?  Which would you get, a Taurus or \\na Camry or Accord?\\n\\n\\nJohn\\nzorro@picasso.ocis.temple.edu\\nzorro@astro.ocis.temple.edu\\n^^^^^^^^^^^^^^^^^^^^^^^^^^^\\n\", 'From: balsamo@stargl.enet.dec.com (Antonio L. Balsamo (Save the wails))\\nSubject: Re: Advise needed in buying Automobile\\nReply-To: balsamo@stargl.enet.dec.com (Antonio L. Balsamo (Save the wails))\\nOrganization: Digital Equipment Corporation\\nLines: 20\\n\\n\\nFrom: thwang@mentor.cc.purdue.edu (Tommy Hwang)\\nSubject: Advise needed in buying Automobile\\n\\n   >I am in search of a dependable automobile to purchase.  Below\\n   >are its requirements:\\n   >\\t5. V6 or above\\n\\n       Most of the cars you mentioned are below (smaller than) V6 engine.\\n\\n   Tony\\n--\\n\\n                  +--------------------------------------+\\n                  |   Name: Antonio L. Balsamo           |\\n                  |Company: Digital Equipment Corp.      |\\n                  |         Shrewsbury, Mass.            |\\n                  | Work #: (508) 841-2039               |\\n                  | E-mail: balsamo@stargl.enet.dec.com  |\\n                  +--------------------------------------+\\n', 'From: geb@cs.pitt.edu (Gordon Banks)\\nSubject: Should patients read package inserts (PDR)?\\nReply-To: geb@cs.pitt.edu (Gordon Banks)\\nOrganization: Univ. of Pittsburgh Computer Science\\nLines: 48\\n\\nIn article <1993Mar29.113528.930@news.wesleyan.edu> RGINZBERG@eagle.wesleyan.edu (Ruth Ginzberg) writes:\\n\\n>Hmmmm... here\\'s one place where I really think the patient ought to take more\\n>responsibility for him- or herself.  There is absolutely no reason why you\\n>can\\'t ask the pharmacist filling the prescription for the \"Physicians\\' Package\\n>Insert\" for the medication when you pick it up at the pharmacy.  Make sure to\\n>tell the pharmacist that you want the \"Physicians\\' Package Insert\" *NOT* the\\n\\nIf people are going to do this, I really wish they would tell me first.\\nI\\'d be happy to go over the insert (in the PDR) with them and explain\\neverything.  All too many patients read the insert and panic and then\\non the next visit sheepishly admit they were afraid to take the drug\\nand we are starting over again at square one.  Some of them probably\\ndidn\\'t even come back for followup because they didn\\'t want to admit\\nthey wouldn\\'t take the drug or thought I was trying to kill them or\\nsomething.  What people don\\'t understand about the inserts is that they\\nreport every adverse side effect ever reported, without substantiating\\nthat the drug was responsible.  The insert is a legal document to slough\\nliability from the manufacturer to the physician if something was to\\nhappen.  If patients want to have the most useful and reliable information\\non a drug they would be so much better off getting hold of one of the\\nAMA drug evaluation books or something similar that is much more scientific.\\nThere are very few drugs that someone hasn\\'t reported a death from taking.\\nPatients don\\'t realize that and don\\'t usually appreciate the risks\\nto themselves properly.  I\\'m sure Herman is going to \"go ballistic\",\\nbut so be it.  Another problem is that probably most drugs have been\\nreported to cause impotence.  Half the males who read that will falsely assume\\nit could permanently cause them to lose sexual function and so will\\nrefuse to take any drug like that.  This can be a real problem for\\nPDR readers.  There needs to be some way of providing patients with\\ntools geared to them that allow them to get the information they need.\\nI am involved in a research project to do that, with migraine as the\\ndomain.  It involves a computer system that will provide answers to questions\\nabout migraine as well as the therapy prescribed for the patient.\\nFor common illnesses, such as migraine and hypertension, this may help\\nquite a bit.  The patient could spend as much time as needed with the\\ncomputer and this would then not burden the physician.  Clearly,\\nphysicians in large part fail to answer all the questions patients have,\\nas is demonstrated over and over here on the net where we get asked\\nthings that the patients should have found out from their physician\\nbut didn\\'t.  Why they didn\\'t isn\\'t always the physician\\'s fault either.\\nSometimes the patients are afraid to ask.  They won\\'t be as afraid to\\nask the system, we hope.\\n-- \\n----------------------------------------------------------------------------\\nGordon Banks  N3JXP      | \"Skepticism is the chastity of the intellect, and\\ngeb@cadre.dsl.pitt.edu   |  it is shameful to surrender it too soon.\" \\n----------------------------------------------------------------------------\\n', 'From: viking@iastate.edu (Dan Sorenson)\\nSubject: Re: My Gun is like my American Express Card\\nOrganization: Iowa State University, Ames IA\\nLines: 108\\n\\nThomas Parsli <thomasp@ifi.uio.no> writes:\\n\\n>I HATE long postings, but this turned out to be rather lengthy....\\n\\n\\tThat\\'s OK -- you can mail me if you want more discussion.\\n\\n>Acquiring weapons in Norway:\\n>You can buy (almost) all kinds of weapons in Norway, BUT you must have a \\n>permit, and a good reason to get the permit....\\n\\n\\tAround here, long-guns are proof of age and fill out the forms.\\nFor pistols, nation-wide check for felonies and three days wait.  The\\n\"good reason\" is the difference, and one Americans tend to get annoyed\\nover as we see no reason the guy with the badge is any better than us.\\n\\n>It\\'s a little like getting a drivers licence isn\\'t it ???\\n>You have to prove that you CAN drive before you are allowed to...\\n\\n\\tNot when dealing with America.  I can drive an 18-wheel truck\\nwith no permit, no license, and at age 12 if I\\'m engaged in farming\\nwork.  Strange, that, but there is little to no problem with this.\\nAgain, personal rights versus collective security.\\n\\n>Some crimes are commited with guns that have been in the owners \\'arms\\'\\n>for a long time, but these are rather the exeption.\\n>Most criminals accuire guns to use them in crimes, and mostly short \\n>time befor the crime.\\n\\n\\tStrange that the rates would decline, since killing somebody\\nis much more frowned upon than merely stealing a gun.\\n\\n>Use of knives:\\n>It IS allowed to cary knifes in public, but not in your belt or \\'open\\'.\\n>You (Americans) think it\\'s ok to have a gun, but not to carry it open\\n>in public -rigth ??\\n\\n\\tWhy attract attention?  I carry my sword openly to and from\\npractice, as that is the only legal thing I can do.  I also attract\\na lot of attention doing this.  I\\'d rather be lost \"in a crowd of one\"\\nthan be the subject of attention while carrying a weapon.  Think of\\nthe word \"intimidation\" and you can see where intimidation is not\\nthe preferable method for the normal citizen.\\n\\n>Scandinavians ARE \\'aggressive\\':\\n>We northeners are not as hot-livered as southeners, but when we decide\\n>to take action we DO.\\n>Ask ANY historian or millitary with an knowledge of europe....\\n>(Or ask any German who served in Norway in WW2.....)\\n\\n\\tAggressive towards whom?  Southerners?  Germans?  Precisely\\nwhy I think your society is less violent, weapons aside.\\n\\n>Yes the individual is more important than the masses, but only to some\\n>extent....\\n>Your criminal laws are to protect the individuals who makes the masses ??\\n>What happens when the rigths of some individuals affects the rights of \\n>all the [masses?? -- editor barf -- Dan]\\n\\n\\tThen the masses have the same rights as the individuals, because\\neverything comes down to the individual in one instance or another.  To\\ndraw an analogy, Norway is involved in the EEC.  The USA in involved in\\nNATO.  The EEC requires certain changes in your laws.  NATO requires\\nno such changes in USA law.  These laws affect citizens, and hence\\nNorway is saying Europe is more important than, say, Norwegians having\\nmotorcycles that make over 100bhp.  In the USA, we\\'d likely tell the\\nEEC to get stuffed since the EEC has no business, in our eyes, in\\ntelling us how much horsepower we can safely ride.  While I note\\nthat our own state governments often play with game with the federal\\ngovernment, in essence this is a cultural difference between us.\\n\\n>IF i lived in Amerika I would probably have a gun to defend myselfe in HOME.\\n>But should it have to be like that ??\\n\\n\\tIt shouldn\\'t.  Since neither of our countries has managed to\\nremove criminals from society, in America we feel (and remember we\\nhave individual states that are larger than your country) that if the\\npolice cannot protect us then we must do so ourselves.  The criminals\\nin our country are quite violent, hence we prepare for them.\\n\\n>Do you think it\\'s wise to sell guns like candy (some states do...) ??\\n>If you believe it\\'s smart/neccacery to have drivers-licence WHY do you think\\n>it should be free to buy guns ??\\n\\n\\tWe don\\'t.  E-mail me to find out just how difficult it really\\nis in this country.  It is easier than in yours, but theft is far\\neasier than the troubles we go through to purchase over here.\\n\\n>I would defend my home, loved ones and country, but I don\\'t view guns as\\n>neccities or toys.\\n\\n\\tThey are neither.  They are an option.  We would never force\\nyou to own guns if you lived here.  We would, however, fight to keep\\nthat option open to you.\\n\\n>I HAVE done army service, and HAVE used a variaty of weapons, but wouldn\\'t\\n>want to have one for self defence or because they \\'feel good\\'....\\n\\n\\tThen you show you are a responsible, rational user of weapons.\\nWelcome to our ranks.  Now, how do we teach the young people this sort\\nof responsibility?  Cultures seem to have a grave impact here.\\n\\n\\tI notice you didn\\'t use my great-grandfather\\'s name.  Well,\\nhe didn\\'t like it much either ;-)\\n\\n< Dan Sorenson, DoD #1066 z1dan@exnet.iastate.edu viking@iastate.edu >\\n<  ISU only censors what I read, not what I say.  Don\\'t blame them.  >\\n<     USENET: Post to exotic, distant machines.  Meet exciting,      >\\n<                 unusual people.  And flame them.                   >\\n', 'Subject: Re: Bo was a good player, you shorts (plus idiots)\\nFrom: guilford@otago.ac.nz\\n <1993Apr5.101636.1@otago.ac.nz> <C50M9D.Dv@murdoch.acc.Virginia.EDU>\\nOrganization: University of Otago, Dunedin, New Zealand\\nNntp-Posting-Host: thorin.otago.ac.nz\\nLines: 106\\n\\nIn article <C50M9D.Dv@murdoch.acc.Virginia.EDU>, drw3l@delmarva.evsc.Virginia.EDU (David Robert Walker) writes:\\n\\n>      BO JACKSON 1963          \\n>   1988 KCR    437  106  16   4  23   28   29   7  .253   67  .243  .288  .455\\n>   1989 KCR    517  134  19   5  33   41   27  10  .274   92  .259  .314  .507\\n>   1990 KCR    405  110  17   1  27   44   16   9  .286   77  .272  .343  .519\\n>   1991 CWS     71   16   3   0   3   12    0   1  .240   10  .225  .337  .394\\n>     MAJ      1430  366  55  10  86  125   72  27  .270  246  .256  .316  .489\\n>     MAJ       598  153  23   4  36   52   30  11\\n> \\n> This is what Jackson looked like in 88-91, with everything converted\\n> to a neutral park, on the basis of run production. His equivalent\\n> average started at .253 in 88, was up to .274 in 89 and 286 in 90. So\\n> let us say he had established, in his last two seasons, a .280 level\\n> of play.\\n\\nI\\'m not quite sure how these numbers are generated.  It appears that in\\na neutral park Bo\\'s HR and slugging tend to drop (he actually loses two\\nhome runs).  Or do they?  What is \"equivalent average?\"\\n\\nOne thing, when looking at Bo\\'s stats, is that you can see that KC took\\naway some homers.  Normally, you expect some would-be homers to go for\\ndoubles or triples in big parks, or to be caught, and for that matter you\\nexpect lots of doubles and triples anyway.  But Bo, despite his speed, \\nhit very few doubles and not that many triples.  So I would expect his\\nvalue to have risen quite considerably in a neutral park.  \\n\\n> That is good. Very good, in fact. But it probably doesn\\'t make the top\\n> ten in the league. The 10th best EQA in the AL in 1992 was Dave\\n> Winfield\\'s .296; Thomas was first at .350. First in the NL was Bonds,\\n> an incroyable .378; tenth was Bip Roberts, .297. But .280 is better\\n> than any season in the past five years by Joe Carter; it is about what\\n> Mattingly had in 1988 (.285); what Felix Jose had the last two years;\\n> just ahead of Time Raines\\' five-year average; better than Ryan\\n> Klesko\\'s MLEs. \\n\\nFelix Jose has been a .350/.440 player in a fairly neutral park.\\nI would offhand guess the `89-`90 Bo at around a .330/.530 player.\\nMaybe .330/.550 .  Not even close.\\n\\n> He got more attention from the media than was warranted from his\\n> baseball playing, though; his hype was a lot better than his hitting.\\n> That is the basis for the net.comments about him being overrated. The\\n> media would have you beleive he was a great hitter. I think he was a\\n> good, maybe very good hitter. He was IMO, something like the 30th best\\n> hitter in the majors.\\n\\nI\\'d put him about there too.  \\n\\nNote: I hadn\\'t realized the media had hyped him so much.  I thought he\\nwas always viewed by them as a better football player, and only so-so \\nat baseball.  He did only have one 30-hr, 100-rbi season, and KC wasn\\'t\\nwinning.\\n\\nNote 2: I maybe have harped on this a bit in the past, but there is a\\nmistake being made (by the SDCN\\'s, as they are known, on this group)\\nwith respect to players like Bo and Deion and Lofton (and perhaps others).\\n\\nWe find, that if you look at a large group of players, their past major\\nand minor league numbers will predict their future numbers fairly well.\\nTheir are some caveats: the younger they are, the less good the prediction;\\nthe lower the minor league, the less good (I imagine), the more recent\\nthe player has left college ball, etc.\\n\\nNow of course, this prediction involves quite a bit of \"error.\"  Sometimes\\na player with poor MLE\\'s (Dave Justice, the 1990 Ventura) becomes a star.\\nSome hitters develop (Shane Mack, Brian Downing), some don\\'t (Oddibe\\nMcDowell, Mickey Brantley).  This error involves real things: there are\\nreal reasons why Oddibe didn\\'t hit and Shane did.  It may (who knows)\\ninvolve parks and batting coaches and wheaties and injuries and lifting\\nand so on.\\n\\nBut still, you have this big pool of players, and things work pretty well.\\nOne of the reasons for these predictions accuracy is the common background\\nof the players.  One thing we know about professional baseball players is\\nthat all of them (or almost all) have spent a good deal of time playing\\nball.  Their backgrounds are similar.\\n\\nWhat hasn\\'t been established is what happens when you encounter a player\\nwith a different background?  Is there some reason to believe that a\\nBo, or a Deion, or a Lofton, or a Tony Gwynn (?), or an Ainge, or so\\non, has such a different background, that the standard model and standard\\nassumptions fit this person slowly?\\n\\nIt hasn\\'t been established that you can use MLE\\'s with two-sport players.\\n(It hasn\\'t been established that you can\\'t, but then statistics is, after\\nall, an art).  I personally think otherwise lucid individuals continually\\nmake completely nonsensical statements about Bo and Deion and Lofton.\\n\"Look at those good-but-not-great minor league numbers,\" they say.  Well,\\nwhat happens if those numbers simply don\\'t mean what they usually mean?\\nIt might mean that Ken Lofton suddenly has a better year in Houston than\\nTuscon.  It might mean that Deion suddenly has a better half-year in\\nAtlanta than Greenville.  \\n\\nThen again, it might not.  Ken and Deion might go right back in the tank\\nthis year, live up to those poor MLE\\'s.  But you guys DON\\'T KNOW.  What\\'s \\nworse, you don\\'t know that you don\\'t.  And you don\\'t know that there are \\nother players you won\\'t know about -- injuries and lifting and wheaties \\nagain.  You seem to think that the model is perfect and eternal.  It\\'s not.\\nIt\\'s got some error.\\n\\nOh well.\\n\\nBill Guilford\\n\\nstill thinks \"hairy butt is truly ugly\" might be right\\n', 'From: arc@cco.caltech.edu (Aaron Ray Clements)\\nSubject: Re: ACLU (was Re: Waco Shootout ...)\\nOrganization: California Institute of Technology, Pasadena\\nLines: 22\\nNNTP-Posting-Host: sandman.caltech.edu\\n\\njmd@cube.handheld.com (Jim De Arras) writes:\\n\\n>In article <1993Mar31.140529.10843@news.cs.indiana.edu> \"Paul Hager\"  \\n><hagerp@cs.indiana.edu> writes:\\n>> \\n>> As an old post of mine came up in a collection of posts about\\n>> the ACLU\\'s position on gun-control, I would like to note that my \\n>> own position has been evolving.  But, I\\'m still not sure how to\\n>> answer the question, \"does the 2nd allow me to have my own nuclear\\n>> device?\"  \\n\\n>The second amendment does not prohibit it, but it can probably be argued that  \\n>there is no way you can operate one without severely impacting on the safety  \\n>and rights of others, and so might not be permitted on that basis.\\n\\nThe existence of the weapon in and of itself (and this is also\\ntrue for biologics and chemical weapons, but for slightly different\\nreasons) poses a threat to living critters.  Can you say \"neutron\\nand other radiation flux due to radioactive decay\", boys and girls?\\n\\naaron\\narc@cco.caltech.edu\\n', \"From: luriem@alleg.edu(Michael Lurie) The Liberalizer\\nSubject: Re: Pleasant Yankee Surprises\\nOrganization: Allegheny College\\n\\nIn article <1993Apr15.231903.4045@cs.cornell.edu> tedward@cs.cornell.edu  \\n(Edward [Ted] Fischer) writes:\\n> In article <1993Apr15.200629.7200@alleg.edu> luriem@alleg.edu(Michael  \\nLurie) The Liberalizer writes:\\n> >\\n> >     Actually, I kind of liked the Abott trade. We did trade the rookie  \\nof  \\n> >the year, SNOW, but with Don mattingly at first for another 8 years,  \\nWhy  \\n> >bother.\\n> \\n> I'd be willing to make two wagers:\\n> 1) Snow doesn't win ROY.\\n> 2) Mattingly is out of baseball within five years.\\n> \\n\\n\\n\\nNo, You are quite correct, but I was using some wishful thinking.\\nJT snow was wasting away, while Abbott can provide a great resourse for  \\nthe team.\\n\"]\n"
     ]
    }
   ],
   "source": [
    "groups = ['alt.atheism', 'comp.graphics', 'rec.autos', \n",
    "          'rec.sport.baseball', 'sci.med', 'talk.politics.guns']\n",
    "\n",
    "\n",
    "train_data = sklearn.datasets.fetch_20newsgroups(subset='train', categories=groups)\n",
    "test_data = sklearn.datasets.fetch_20newsgroups(subset='test', categories=groups)\n",
    "print(len(train_data.filenames), len(test_data.filenames))\n",
    "data = train_data.data\n",
    "print(data[:10])"
   ]
  },
  {
   "cell_type": "markdown",
   "id": "080471c5",
   "metadata": {},
   "source": [
    "Now we'll load our GloVe model in. [SpaCy](https://spacy.io/) is a library that embeds using GloVe by default."
   ]
  },
  {
   "cell_type": "code",
   "execution_count": 4,
   "id": "3f70153b-4172-4c33-aaa4-2193fe2dbe2f",
   "metadata": {},
   "outputs": [
    {
     "name": "stdout",
     "output_type": "stream",
     "text": [
      "When Sebastian Thrun started working on self-driving cars at Google in 2007, few people outside of the company took him seriously. “I can tell you very senior CEOs of major American car companies would shake my hand and turn away because I wasn’t worth talking to,” said Thrun, in an interview with Recode earlier this week.\n",
      "Noun phrases: ['Sebastian Thrun', 'self-driving cars', 'Google', 'few people', 'the company', 'him', 'I', 'you', 'very senior CEOs', 'major American car companies', 'my hand', 'I', 'Thrun', 'an interview', 'Recode']\n",
      "Verbs: ['start', 'work', 'drive', 'take', 'tell', 'shake', 'turn', 'talk', 'say']\n",
      "Sebastian Thrun PERSON\n",
      "Google ORG\n",
      "2007 DATE\n",
      "American NORP\n",
      "Thrun GPE\n",
      "earlier this week DATE\n"
     ]
    }
   ],
   "source": [
    "import spacy\n",
    "\n",
    "# Load English tokenizer, tagger, parser and NER\n",
    "nlp = spacy.load(\"en_core_web_lg\") # Generates embeddings using GloVe\n",
    "\n",
    "# EXAMPLE:\n",
    "# Process whole documents\n",
    "text = (\"When Sebastian Thrun started working on self-driving cars at \"\n",
    "        \"Google in 2007, few people outside of the company took him \"\n",
    "        \"seriously. “I can tell you very senior CEOs of major American \"\n",
    "        \"car companies would shake my hand and turn away because I wasn’t \"\n",
    "        \"worth talking to,” said Thrun, in an interview with Recode earlier \"\n",
    "        \"this week.\")\n",
    "doc = nlp(text)\n",
    "print(doc)\n",
    "\n",
    "# Analyze syntax\n",
    "print(\"Noun phrases:\", [chunk.text for chunk in doc.noun_chunks])\n",
    "print(\"Verbs:\", [token.lemma_ for token in doc if token.pos_ == \"VERB\"])\n",
    "\n",
    "# Find named entities, phrases and concepts\n",
    "for entity in doc.ents:\n",
    "    print(entity.text, entity.label_)\n"
   ]
  },
  {
   "cell_type": "code",
   "execution_count": 5,
   "id": "ef311ae0",
   "metadata": {},
   "outputs": [
    {
     "data": {
      "text/plain": [
       "['_',\n",
       " '__bytes__',\n",
       " '__class__',\n",
       " '__delattr__',\n",
       " '__dir__',\n",
       " '__doc__',\n",
       " '__eq__',\n",
       " '__format__',\n",
       " '__ge__',\n",
       " '__getattribute__',\n",
       " '__getitem__',\n",
       " '__getstate__',\n",
       " '__gt__',\n",
       " '__hash__',\n",
       " '__init__',\n",
       " '__init_subclass__',\n",
       " '__iter__',\n",
       " '__le__',\n",
       " '__len__',\n",
       " '__lt__',\n",
       " '__ne__',\n",
       " '__new__',\n",
       " '__pyx_vtable__',\n",
       " '__reduce__',\n",
       " '__reduce_ex__',\n",
       " '__repr__',\n",
       " '__setattr__',\n",
       " '__setstate__',\n",
       " '__sizeof__',\n",
       " '__str__',\n",
       " '__subclasshook__',\n",
       " '__unicode__',\n",
       " '_bulk_merge',\n",
       " '_context',\n",
       " '_get_array_attrs',\n",
       " '_realloc',\n",
       " '_vector',\n",
       " '_vector_norm',\n",
       " 'cats',\n",
       " 'char_span',\n",
       " 'copy',\n",
       " 'count_by',\n",
       " 'doc',\n",
       " 'ents',\n",
       " 'extend_tensor',\n",
       " 'from_array',\n",
       " 'from_bytes',\n",
       " 'from_dict',\n",
       " 'from_disk',\n",
       " 'from_docs',\n",
       " 'from_json',\n",
       " 'get_extension',\n",
       " 'get_lca_matrix',\n",
       " 'has_annotation',\n",
       " 'has_extension',\n",
       " 'has_unknown_spaces',\n",
       " 'has_vector',\n",
       " 'is_nered',\n",
       " 'is_parsed',\n",
       " 'is_sentenced',\n",
       " 'is_tagged',\n",
       " 'lang',\n",
       " 'lang_',\n",
       " 'mem',\n",
       " 'noun_chunks',\n",
       " 'noun_chunks_iterator',\n",
       " 'remove_extension',\n",
       " 'retokenize',\n",
       " 'sentiment',\n",
       " 'sents',\n",
       " 'set_ents',\n",
       " 'set_extension',\n",
       " 'similarity',\n",
       " 'spans',\n",
       " 'tensor',\n",
       " 'text',\n",
       " 'text_with_ws',\n",
       " 'to_array',\n",
       " 'to_bytes',\n",
       " 'to_dict',\n",
       " 'to_disk',\n",
       " 'to_json',\n",
       " 'to_utf8_array',\n",
       " 'user_data',\n",
       " 'user_hooks',\n",
       " 'user_span_hooks',\n",
       " 'user_token_hooks',\n",
       " 'vector',\n",
       " 'vector_norm',\n",
       " 'vocab']"
      ]
     },
     "execution_count": 5,
     "metadata": {},
     "output_type": "execute_result"
    }
   ],
   "source": [
    "dir(doc)"
   ]
  },
  {
   "cell_type": "markdown",
   "id": "fbd76cf1",
   "metadata": {},
   "source": [
    "We define a function document_vector which takes in a document and returns the embedding of the document in vector format."
   ]
  },
  {
   "cell_type": "code",
   "execution_count": 6,
   "id": "a0720a42-9f7f-4ce3-b0a5-927ff7db0923",
   "metadata": {},
   "outputs": [],
   "source": [
    "def document_vector(doc):\n",
    "    words = nlp(doc)\n",
    "    return words.vector"
   ]
  },
  {
   "cell_type": "markdown",
   "id": "525a8d6d",
   "metadata": {},
   "source": [
    "Then we vectorize each document."
   ]
  },
  {
   "cell_type": "code",
   "execution_count": 7,
   "id": "646c9eb9-8484-4973-86ce-04a45dc959a0",
   "metadata": {},
   "outputs": [],
   "source": [
    "vectorized = np.array([document_vector(doc) for doc in data])"
   ]
  },
  {
   "cell_type": "code",
   "execution_count": 8,
   "id": "28ad2d3f-0661-43c5-84b6-74c56374430d",
   "metadata": {},
   "outputs": [
    {
     "data": {
      "text/plain": [
       "(3395, 300)"
      ]
     },
     "execution_count": 8,
     "metadata": {},
     "output_type": "execute_result"
    }
   ],
   "source": [
    "vectorized.shape"
   ]
  },
  {
   "cell_type": "markdown",
   "id": "a22223da",
   "metadata": {},
   "source": [
    "We perform Principal Component Analysis (PCA), a technique to reduce the dimensions of the dataset without losing much information on the overall data quality. PCA is necessary for DBSCAN because scikit-learn's DBSCAN algorithm does not perform well on high dimensional data."
   ]
  },
  {
   "cell_type": "code",
   "execution_count": 9,
   "id": "f24f022a-6058-4247-bb47-5729ddb17306",
   "metadata": {},
   "outputs": [],
   "source": [
    "##try PCA to reduce the dimensions of the vectors as DBSCAN from sklearn is more applicable \n",
    "from sklearn.decomposition import PCA\n",
    "\n",
    "pca = PCA(n_components=50)\n",
    "vectorized_reduced = pca.fit_transform(vectorized)"
   ]
  },
  {
   "cell_type": "markdown",
   "id": "d9dd4c0b-7a5e-4544-8a92-abcd333b419f",
   "metadata": {},
   "source": [
    "First let's arbitrarily determine the parameters for DBSCAN just to see how the code works."
   ]
  },
  {
   "cell_type": "code",
   "execution_count": 10,
   "id": "578bfe27-dddf-4d2b-bbda-29334d85c4cf",
   "metadata": {},
   "outputs": [],
   "source": [
    "dbscan = DBSCAN(eps=0.1, min_samples=3, metric='cosine') #use cosine similarity as metric\n",
    "clusters = dbscan.fit_predict(vectorized_reduced)"
   ]
  },
  {
   "cell_type": "code",
   "execution_count": 11,
   "id": "011c8d8c-b328-411c-9345-294fb184dd7f",
   "metadata": {},
   "outputs": [
    {
     "data": {
      "text/plain": [
       "array([-1, -1, -1, ..., -1,  0, -1])"
      ]
     },
     "execution_count": 11,
     "metadata": {},
     "output_type": "execute_result"
    }
   ],
   "source": [
    "clusters"
   ]
  },
  {
   "cell_type": "code",
   "execution_count": 12,
   "id": "9fccd900-683d-4fe4-a524-c32115ad915b",
   "metadata": {},
   "outputs": [
    {
     "name": "stdout",
     "output_type": "stream",
     "text": [
      "Number of clusters: 13\n",
      "Number of noise points: 2224\n",
      "Cluster distribution: {-1: 2224, 0: 972, 1: 3, 2: 77, 3: 5, 4: 3, 5: 85, 6: 4, 7: 4, 11: 5, 8: 3, 9: 3, 10: 4, 12: 3}\n"
     ]
    }
   ],
   "source": [
    "import numpy as np\n",
    "from collections import Counter\n",
    "\n",
    "cluster_counts = Counter(clusters)\n",
    "num_clusters = len(cluster_counts) - (1 if -1 in cluster_counts else 0)\n",
    "num_noise = cluster_counts[-1] if -1 in cluster_counts else 0\n",
    "\n",
    "print(f\"Number of clusters: {num_clusters}\")\n",
    "print(f\"Number of noise points: {num_noise}\")\n",
    "print(f\"Cluster distribution: {dict(cluster_counts)}\")"
   ]
  },
  {
   "cell_type": "markdown",
   "id": "797a7a1c-c1a3-40c5-9f37-7b8e42aabba0",
   "metadata": {},
   "source": [
    "However, we can also use Silhouette Score to help us to decide on the parameters. (Credit to Josie and Sophie!)\n",
    "\n",
    "In the paper we are attempting to replicate, they did 60 rounds with different params to determine what would be the best epsilon and min points. The code below is just a small test/demo we did that does not capture how DBSCAN iteration work in academia."
   ]
  },
  {
   "cell_type": "code",
   "execution_count": 13,
   "id": "519a2f3d-e0f9-49ba-ab08-248baed29c8b",
   "metadata": {},
   "outputs": [
    {
     "name": "stdout",
     "output_type": "stream",
     "text": [
      "eps: 0.01, clusters: 4, silhouette score: 0.497\n",
      "eps: 0.02, clusters: 6, silhouette score: 0.506\n",
      "eps: 0.03, clusters: 13, silhouette score: -0.104\n",
      "eps: 0.04, clusters: 30, silhouette score: -0.227\n",
      "eps: 0.05, clusters: 35, silhouette score: -0.234\n",
      "eps: 0.06, clusters: 25, silhouette score: -0.153\n",
      "eps: 0.07, clusters: 23, silhouette score: -0.133\n",
      "eps: 0.08, clusters: 21, silhouette score: -0.088\n",
      "eps: 0.09, clusters: 21, silhouette score: -0.209\n",
      "eps: 0.10, clusters: 14, silhouette score: -0.181\n",
      "eps: 0.11, clusters: 17, silhouette score: -0.221\n",
      "eps: 0.12, clusters: 15, silhouette score: -0.116\n",
      "eps: 0.13, clusters: 15, silhouette score: -0.237\n",
      "eps: 0.14, clusters: 14, silhouette score: -0.248\n",
      "eps: 0.15, clusters: 14, silhouette score: -0.253\n",
      "eps: 0.16, clusters: 12, silhouette score: -0.210\n",
      "eps: 0.17, clusters: 11, silhouette score: -0.171\n",
      "eps: 0.18, clusters: 13, silhouette score: -0.194\n",
      "eps: 0.19, clusters: 15, silhouette score: -0.215\n",
      "eps: 0.20, clusters: 16, silhouette score: -0.222\n",
      "eps: 0.21, clusters: 14, silhouette score: -0.238\n",
      "eps: 0.22, clusters: 11, silhouette score: -0.234\n",
      "eps: 0.23, clusters: 10, silhouette score: -0.231\n",
      "eps: 0.24, clusters: 10, silhouette score: -0.225\n",
      "eps: 0.25, clusters: 11, silhouette score: -0.278\n",
      "eps: 0.26, clusters: 9, silhouette score: -0.251\n",
      "eps: 0.27, clusters: 7, silhouette score: -0.225\n",
      "eps: 0.28, clusters: 7, silhouette score: -0.239\n",
      "eps: 0.29, clusters: 7, silhouette score: -0.209\n",
      "eps: 0.30, clusters: 5, silhouette score: -0.208\n",
      "eps: 0.31, clusters: 4, silhouette score: -0.213\n",
      "eps: 0.32, clusters: 3, silhouette score: -0.178\n",
      "eps: 0.33, clusters: 3, silhouette score: -0.183\n",
      "eps: 0.34, clusters: 3, silhouette score: -0.189\n",
      "eps: 0.35, clusters: 3, silhouette score: -0.193\n",
      "eps: 0.36, clusters: 3, silhouette score: -0.199\n",
      "eps: 0.37, clusters: 4, silhouette score: -0.210\n",
      "eps: 0.38, clusters: 3, silhouette score: -0.210\n",
      "eps: 0.39, clusters: 3, silhouette score: -0.216\n",
      "eps: 0.40, clusters: 3, silhouette score: -0.215\n",
      "eps: 0.41, clusters: 3, silhouette score: -0.216\n",
      "eps: 0.42, clusters: 3, silhouette score: -0.216\n",
      "eps: 0.43, clusters: 3, silhouette score: -0.214\n",
      "eps: 0.44, clusters: 3, silhouette score: -0.207\n",
      "eps: 0.45, clusters: 3, silhouette score: -0.198\n",
      "eps: 0.46, clusters: 3, silhouette score: -0.182\n",
      "eps: 0.47, clusters: 2, silhouette score: -0.205\n",
      "eps: 0.48, clusters: 2, silhouette score: -0.194\n",
      "eps: 0.49, clusters: 2, silhouette score: -0.194\n"
     ]
    }
   ],
   "source": [
    "from sklearn.metrics import silhouette_score\n",
    "\n",
    "for eps in np.arange(0.01, 0.5, 0.01):\n",
    "    model = DBSCAN(eps=eps, min_samples=3, metric='cosine')\n",
    "    labels = model.fit_predict(vectorized_reduced)\n",
    "    if len(set(labels)) > 1: \n",
    "        score = silhouette_score(vectorized, labels)\n",
    "        print(f\"eps: {eps:.2f}, clusters: {len(set(labels))}, silhouette score: {score:.3f}\")"
   ]
  },
  {
   "cell_type": "markdown",
   "id": "76f27aaa-c0e4-4c54-8f23-e3b064c424d5",
   "metadata": {},
   "source": [
    "The silouette score can helps to determine the optimal epsilon value."
   ]
  },
  {
   "cell_type": "code",
   "execution_count": 14,
   "id": "de9e7bd5-1c15-4731-8fa8-3549ee5c8d47",
   "metadata": {},
   "outputs": [],
   "source": [
    "min_samples_values = [2, 3, 4, 5, 6, 7, 8, 9, 10]"
   ]
  },
  {
   "cell_type": "code",
   "execution_count": 15,
   "id": "70410870-cee4-4f9f-87ac-4723c0125d53",
   "metadata": {},
   "outputs": [
    {
     "name": "stdout",
     "output_type": "stream",
     "text": [
      "Results for min_samples=2:\n",
      "Number of clusters: 21\n",
      "Number of noise points: 286\n",
      "Cluster distribution: {0: 3061, 1: 3, -1: 286, 2: 2, 3: 3, 4: 2, 5: 5, 6: 2, 7: 4, 8: 3, 9: 2, 10: 2, 11: 2, 12: 2, 13: 2, 14: 2, 15: 2, 16: 2, 17: 2, 18: 2, 19: 2, 20: 2}\n",
      "\n",
      "Results for min_samples=3:\n",
      "Number of clusters: 6\n",
      "Number of noise points: 316\n",
      "Cluster distribution: {0: 3061, 1: 3, -1: 316, 2: 3, 3: 5, 4: 4, 5: 3}\n",
      "\n",
      "Results for min_samples=4:\n",
      "Number of clusters: 3\n",
      "Number of noise points: 330\n",
      "Cluster distribution: {0: 3056, -1: 330, 1: 5, 2: 4}\n",
      "\n",
      "Results for min_samples=5:\n",
      "Number of clusters: 3\n",
      "Number of noise points: 343\n",
      "Cluster distribution: {0: 3026, -1: 343, 1: 9, 2: 17}\n",
      "\n",
      "Results for min_samples=6:\n",
      "Number of clusters: 3\n",
      "Number of noise points: 361\n",
      "Cluster distribution: {0: 3008, -1: 361, 1: 9, 2: 17}\n",
      "\n",
      "Results for min_samples=7:\n",
      "Number of clusters: 3\n",
      "Number of noise points: 367\n",
      "Cluster distribution: {0: 3005, -1: 367, 1: 8, 2: 15}\n",
      "\n",
      "Results for min_samples=8:\n",
      "Number of clusters: 3\n",
      "Number of noise points: 390\n",
      "Cluster distribution: {0: 2989, -1: 390, 2: 8, 1: 8}\n",
      "\n",
      "Results for min_samples=9:\n",
      "Number of clusters: 1\n",
      "Number of noise points: 408\n",
      "Cluster distribution: {0: 2987, -1: 408}\n",
      "\n",
      "Results for min_samples=10:\n",
      "Number of clusters: 1\n",
      "Number of noise points: 412\n",
      "Cluster distribution: {0: 2983, -1: 412}\n",
      "\n"
     ]
    }
   ],
   "source": [
    "for min_samples in min_samples_values:\n",
    "    # Apply DBSCAN\n",
    "    dbscan = DBSCAN(eps=0.08, min_samples=min_samples, metric=\"cosine\")\n",
    "    clusters = dbscan.fit_predict(vectorized)\n",
    "\n",
    "    # Analyze the clusters\n",
    "    cluster_counts = Counter(clusters)\n",
    "    num_clusters = len(cluster_counts) - (1 if -1 in cluster_counts else 0)\n",
    "    num_noise = cluster_counts[-1] if -1 in cluster_counts else 0\n",
    "\n",
    "    # Print the results\n",
    "    print(f\"Results for min_samples={min_samples}:\")\n",
    "    print(f\"Number of clusters: {num_clusters}\")\n",
    "    print(f\"Number of noise points: {num_noise}\")\n",
    "    print(f\"Cluster distribution: {dict(cluster_counts)}\\n\")\n"
   ]
  }
 ],
 "metadata": {
  "kernelspec": {
   "display_name": "Python 3 (ipykernel)",
   "language": "python",
   "name": "python3"
  },
  "language_info": {
   "codemirror_mode": {
    "name": "ipython",
    "version": 3
   },
   "file_extension": ".py",
   "mimetype": "text/x-python",
   "name": "python",
   "nbconvert_exporter": "python",
   "pygments_lexer": "ipython3",
   "version": "3.11.8"
  }
 },
 "nbformat": 4,
 "nbformat_minor": 5
}
