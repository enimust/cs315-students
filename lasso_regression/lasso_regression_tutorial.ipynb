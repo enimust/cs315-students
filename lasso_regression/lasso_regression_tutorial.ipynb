{
  "cells": [
    {
      "cell_type": "markdown",
      "metadata": {
        "id": "fhGZ61j_gUBC"
      },
      "source": [
        "### Tutorial on Lasso Regression Method\n",
        "Mini-lecture given on April 23, 2024 for CS315\\\n",
        "Authors: Caroline Jung, Tayae Rogers\\\n",
        "References: [https://machinelearningmastery.com/lasso-regression-with-python/](https://machinelearningmastery.com/lasso-regression-with-python/)"
      ]
    },
    {
      "cell_type": "code",
      "execution_count": 2,
      "metadata": {
        "id": "rQTbCgoigUBE"
      },
      "outputs": [
        {
          "name": "stderr",
          "output_type": "stream",
          "text": [
            "/var/folders/cw/4tmbrj3d1pzd4rhyrm8vnwyc0000gn/T/ipykernel_16534/3467607151.py:1: DeprecationWarning: \n",
            "Pyarrow will become a required dependency of pandas in the next major release of pandas (pandas 3.0),\n",
            "(to allow more performant data types, such as the Arrow string type, and better interoperability with other libraries)\n",
            "but was not found to be installed on your system.\n",
            "If this would cause problems for you,\n",
            "please provide us feedback at https://github.com/pandas-dev/pandas/issues/54466\n",
            "        \n",
            "  import pandas as pd\n"
          ]
        }
      ],
      "source": [
        "import pandas as pd\n",
        "from sklearn.model_selection import train_test_split\n",
        "from sklearn.linear_model import Lasso\n",
        "import numpy as np\n",
        "import matplotlib.pyplot as plt"
      ]
    },
    {
      "cell_type": "code",
      "execution_count": 3,
      "metadata": {
        "colab": {
          "base_uri": "https://localhost:8080/"
        },
        "id": "1aQ4WPY-gUBF",
        "outputId": "5c7c1e7e-efba-4280-9b45-489839f7c1ca"
      },
      "outputs": [
        {
          "data": {
            "text/plain": [
              "Index(['video_id', 'video_timestamp', 'video_duration',\n",
              "       'video_locationcreated', 'suggested_words', 'video_diggcount',\n",
              "       'video_sharecount', 'video_commentcount', 'video_playcount',\n",
              "       'video_description', 'video_is_ad', 'video_stickers', 'author_username',\n",
              "       'author_name', 'author_followercount', 'author_followingcount',\n",
              "       'author_heartcount', 'author_videocount', 'author_diggcount',\n",
              "       'author_verified'],\n",
              "      dtype='object')"
            ]
          },
          "execution_count": 3,
          "metadata": {},
          "output_type": "execute_result"
        }
      ],
      "source": [
        "# read in dataset\n",
        "data = pd.read_csv(\"tiktok_metadata.csv\")\n",
        "data.columns"
      ]
    },
    {
      "cell_type": "markdown",
      "metadata": {
        "id": "gb5uRZ_egUBG"
      },
      "source": [
        "We are interested in the following columns:\n",
        "* features: video_duration, video_sharecount, video_commentcount, video_is_ad, author_verified\n",
        "* label: video_playcount"
      ]
    },
    {
      "cell_type": "code",
      "execution_count": 4,
      "metadata": {
        "colab": {
          "base_uri": "https://localhost:8080/",
          "height": 458
        },
        "id": "q7BcsaBYgUBG",
        "outputId": "808ff8e2-c5ff-4720-b0d7-9ba403f7c26a"
      },
      "outputs": [
        {
          "name": "stdout",
          "output_type": "stream",
          "text": [
            "Dimensions:  (7663, 6)\n",
            "Dimensions after dropping NAs:  (7652, 6)\n"
          ]
        },
        {
          "name": "stderr",
          "output_type": "stream",
          "text": [
            "/var/folders/cw/4tmbrj3d1pzd4rhyrm8vnwyc0000gn/T/ipykernel_16534/182935131.py:4: FutureWarning: Downcasting behavior in `replace` is deprecated and will be removed in a future version. To retain the old behavior, explicitly call `result.infer_objects(copy=False)`. To opt-in to the future behavior, set `pd.set_option('future.no_silent_downcasting', True)`\n",
            "  data_clean.replace({False: 0, True: 1}, inplace=True)\n"
          ]
        },
        {
          "data": {
            "text/html": [
              "<div>\n",
              "<style scoped>\n",
              "    .dataframe tbody tr th:only-of-type {\n",
              "        vertical-align: middle;\n",
              "    }\n",
              "\n",
              "    .dataframe tbody tr th {\n",
              "        vertical-align: top;\n",
              "    }\n",
              "\n",
              "    .dataframe thead th {\n",
              "        text-align: right;\n",
              "    }\n",
              "</style>\n",
              "<table border=\"1\" class=\"dataframe\">\n",
              "  <thead>\n",
              "    <tr style=\"text-align: right;\">\n",
              "      <th></th>\n",
              "      <th>video_playcount</th>\n",
              "      <th>video_duration</th>\n",
              "      <th>video_sharecount</th>\n",
              "      <th>video_commentcount</th>\n",
              "      <th>video_is_ad</th>\n",
              "      <th>author_verified</th>\n",
              "    </tr>\n",
              "  </thead>\n",
              "  <tbody>\n",
              "    <tr>\n",
              "      <th>0</th>\n",
              "      <td>19000000.0</td>\n",
              "      <td>18.0</td>\n",
              "      <td>40100.0</td>\n",
              "      <td>11000.0</td>\n",
              "      <td>0</td>\n",
              "      <td>0</td>\n",
              "    </tr>\n",
              "    <tr>\n",
              "      <th>1</th>\n",
              "      <td>6589.0</td>\n",
              "      <td>8.0</td>\n",
              "      <td>1.0</td>\n",
              "      <td>2.0</td>\n",
              "      <td>0</td>\n",
              "      <td>0</td>\n",
              "    </tr>\n",
              "    <tr>\n",
              "      <th>2</th>\n",
              "      <td>42400.0</td>\n",
              "      <td>6.0</td>\n",
              "      <td>3.0</td>\n",
              "      <td>8.0</td>\n",
              "      <td>0</td>\n",
              "      <td>0</td>\n",
              "    </tr>\n",
              "    <tr>\n",
              "      <th>3</th>\n",
              "      <td>6589.0</td>\n",
              "      <td>8.0</td>\n",
              "      <td>1.0</td>\n",
              "      <td>2.0</td>\n",
              "      <td>0</td>\n",
              "      <td>0</td>\n",
              "    </tr>\n",
              "    <tr>\n",
              "      <th>4</th>\n",
              "      <td>42400.0</td>\n",
              "      <td>6.0</td>\n",
              "      <td>3.0</td>\n",
              "      <td>8.0</td>\n",
              "      <td>0</td>\n",
              "      <td>0</td>\n",
              "    </tr>\n",
              "    <tr>\n",
              "      <th>...</th>\n",
              "      <td>...</td>\n",
              "      <td>...</td>\n",
              "      <td>...</td>\n",
              "      <td>...</td>\n",
              "      <td>...</td>\n",
              "      <td>...</td>\n",
              "    </tr>\n",
              "    <tr>\n",
              "      <th>7658</th>\n",
              "      <td>1800000.0</td>\n",
              "      <td>77.0</td>\n",
              "      <td>18700.0</td>\n",
              "      <td>8859.0</td>\n",
              "      <td>0</td>\n",
              "      <td>0</td>\n",
              "    </tr>\n",
              "    <tr>\n",
              "      <th>7659</th>\n",
              "      <td>338900000.0</td>\n",
              "      <td>17.0</td>\n",
              "      <td>3921.0</td>\n",
              "      <td>0.0</td>\n",
              "      <td>1</td>\n",
              "      <td>0</td>\n",
              "    </tr>\n",
              "    <tr>\n",
              "      <th>7660</th>\n",
              "      <td>19600.0</td>\n",
              "      <td>13.0</td>\n",
              "      <td>6.0</td>\n",
              "      <td>21.0</td>\n",
              "      <td>0</td>\n",
              "      <td>0</td>\n",
              "    </tr>\n",
              "    <tr>\n",
              "      <th>7661</th>\n",
              "      <td>14600000.0</td>\n",
              "      <td>61.0</td>\n",
              "      <td>13700.0</td>\n",
              "      <td>6615.0</td>\n",
              "      <td>0</td>\n",
              "      <td>0</td>\n",
              "    </tr>\n",
              "    <tr>\n",
              "      <th>7662</th>\n",
              "      <td>1200000.0</td>\n",
              "      <td>33.0</td>\n",
              "      <td>3151.0</td>\n",
              "      <td>445.0</td>\n",
              "      <td>0</td>\n",
              "      <td>0</td>\n",
              "    </tr>\n",
              "  </tbody>\n",
              "</table>\n",
              "<p>7652 rows × 6 columns</p>\n",
              "</div>"
            ],
            "text/plain": [
              "      video_playcount  video_duration  video_sharecount  video_commentcount  \\\n",
              "0          19000000.0            18.0           40100.0             11000.0   \n",
              "1              6589.0             8.0               1.0                 2.0   \n",
              "2             42400.0             6.0               3.0                 8.0   \n",
              "3              6589.0             8.0               1.0                 2.0   \n",
              "4             42400.0             6.0               3.0                 8.0   \n",
              "...               ...             ...               ...                 ...   \n",
              "7658        1800000.0            77.0           18700.0              8859.0   \n",
              "7659      338900000.0            17.0            3921.0                 0.0   \n",
              "7660          19600.0            13.0               6.0                21.0   \n",
              "7661       14600000.0            61.0           13700.0              6615.0   \n",
              "7662        1200000.0            33.0            3151.0               445.0   \n",
              "\n",
              "      video_is_ad  author_verified  \n",
              "0               0                0  \n",
              "1               0                0  \n",
              "2               0                0  \n",
              "3               0                0  \n",
              "4               0                0  \n",
              "...           ...              ...  \n",
              "7658            0                0  \n",
              "7659            1                0  \n",
              "7660            0                0  \n",
              "7661            0                0  \n",
              "7662            0                0  \n",
              "\n",
              "[7652 rows x 6 columns]"
            ]
          },
          "execution_count": 4,
          "metadata": {},
          "output_type": "execute_result"
        }
      ],
      "source": [
        "columns = [\"video_playcount\", \"video_duration\", \"video_sharecount\", \"video_commentcount\", \"video_is_ad\", \"author_verified\"]\n",
        "\n",
        "data_clean = data.loc[:, columns]\n",
        "data_clean.replace({False: 0, True: 1}, inplace=True)\n",
        "print(\"Dimensions: \", data_clean.shape)\n",
        "data_clean.dropna(axis=0, inplace=True)\n",
        "print(\"Dimensions after dropping NAs: \", data_clean.shape)\n",
        "data_clean"
      ]
    },
    {
      "cell_type": "markdown",
      "metadata": {
        "id": "JkSl5y22gUBG"
      },
      "source": [
        "Now we have our cleaned dataset with specific columns of interest and no NA values (for the sake of simplicity and due to large number of rows, we chose to drop the entire row if one of our columns of interest had at least one missing value). Now, let's split them into training and test data sets with a 70-30 split:"
      ]
    },
    {
      "cell_type": "code",
      "execution_count": 5,
      "metadata": {
        "id": "I48YoYUYgUBG"
      },
      "outputs": [],
      "source": [
        "# split into train and test data\n",
        "train, test = train_test_split(data_clean, test_size=0.3)\n",
        "\n",
        "x_train, y_train = train.iloc[:,1:], train.iloc[:,[1]]\n",
        "x_test, y_test = test.iloc[:,1:], test.iloc[:,[1]]"
      ]
    },
    {
      "cell_type": "code",
      "execution_count": 6,
      "metadata": {
        "colab": {
          "base_uri": "https://localhost:8080/"
        },
        "id": "kx49AJJxgUBH",
        "outputId": "70b194df-11d8-4805-f436-da8d1ceba42d"
      },
      "outputs": [
        {
          "name": "stdout",
          "output_type": "stream",
          "text": [
            "                               0\n",
            "video_duration      9.998696e-01\n",
            "video_sharecount    1.095876e-08\n",
            "video_commentcount  1.118158e-08\n",
            "video_is_ad        -0.000000e+00\n",
            "author_verified     0.000000e+00\n",
            "intercept           3.918239e-03\n"
          ]
        }
      ],
      "source": [
        "lassoreg = Lasso(alpha=0.3)\n",
        "lassoreg.fit(x_train, y_train)\n",
        "\n",
        "# regression coefficients\n",
        "coefs = pd.DataFrame(index=columns[1:], data=lassoreg.coef_)\n",
        "coefs.loc[\"intercept\"] = lassoreg.intercept_[0]\n",
        "print(coefs)"
      ]
    },
    {
      "cell_type": "markdown",
      "metadata": {
        "id": "iEEp2r4bgUBH"
      },
      "source": [
        "Note that two of our features of interest have coefficients of 0: video_is_ad and author_verified. Our lasso regression has reduced the dimensionality of our model to only 3 features (video_duration, video_sharecount, video_commentcount) and calculated coefficient estimates"
      ]
    },
    {
      "cell_type": "code",
      "execution_count": 7,
      "metadata": {
        "colab": {
          "base_uri": "https://localhost:8080/",
          "height": 652
        },
        "id": "YTil-R-5gUBH",
        "outputId": "f3182eec-8bb0-49dc-f65a-0fddb8ea3c98"
      },
      "outputs": [
        {
          "name": "stderr",
          "output_type": "stream",
          "text": [
            "/var/folders/cw/4tmbrj3d1pzd4rhyrm8vnwyc0000gn/T/ipykernel_16534/3272110601.py:3: SettingWithCopyWarning: \n",
            "A value is trying to be set on a copy of a slice from a DataFrame.\n",
            "Try using .loc[row_indexer,col_indexer] = value instead\n",
            "\n",
            "See the caveats in the documentation: https://pandas.pydata.org/pandas-docs/stable/user_guide/indexing.html#returning-a-view-versus-a-copy\n",
            "  y_test[\"predicted_val\"] = y_pred\n",
            "/var/folders/cw/4tmbrj3d1pzd4rhyrm8vnwyc0000gn/T/ipykernel_16534/3272110601.py:4: SettingWithCopyWarning: \n",
            "A value is trying to be set on a copy of a slice from a DataFrame.\n",
            "Try using .loc[row_indexer,col_indexer] = value instead\n",
            "\n",
            "See the caveats in the documentation: https://pandas.pydata.org/pandas-docs/stable/user_guide/indexing.html#returning-a-view-versus-a-copy\n",
            "  y_test[\"diff\"] = y_test[\"video_duration\"]-y_pred\n"
          ]
        },
        {
          "data": {
            "text/html": [
              "<div>\n",
              "<style scoped>\n",
              "    .dataframe tbody tr th:only-of-type {\n",
              "        vertical-align: middle;\n",
              "    }\n",
              "\n",
              "    .dataframe tbody tr th {\n",
              "        vertical-align: top;\n",
              "    }\n",
              "\n",
              "    .dataframe thead th {\n",
              "        text-align: right;\n",
              "    }\n",
              "</style>\n",
              "<table border=\"1\" class=\"dataframe\">\n",
              "  <thead>\n",
              "    <tr style=\"text-align: right;\">\n",
              "      <th></th>\n",
              "      <th>actual_val</th>\n",
              "      <th>predicted_val</th>\n",
              "      <th>diff</th>\n",
              "    </tr>\n",
              "  </thead>\n",
              "  <tbody>\n",
              "    <tr>\n",
              "      <th>2085</th>\n",
              "      <td>8.0</td>\n",
              "      <td>8.004528</td>\n",
              "      <td>-0.004528</td>\n",
              "    </tr>\n",
              "    <tr>\n",
              "      <th>7107</th>\n",
              "      <td>15.0</td>\n",
              "      <td>15.001990</td>\n",
              "      <td>-0.001990</td>\n",
              "    </tr>\n",
              "    <tr>\n",
              "      <th>4305</th>\n",
              "      <td>76.0</td>\n",
              "      <td>75.995160</td>\n",
              "      <td>0.004840</td>\n",
              "    </tr>\n",
              "    <tr>\n",
              "      <th>3670</th>\n",
              "      <td>0.0</td>\n",
              "      <td>0.003958</td>\n",
              "      <td>-0.003958</td>\n",
              "    </tr>\n",
              "    <tr>\n",
              "      <th>5527</th>\n",
              "      <td>5.0</td>\n",
              "      <td>5.003283</td>\n",
              "      <td>-0.003283</td>\n",
              "    </tr>\n",
              "    <tr>\n",
              "      <th>...</th>\n",
              "      <td>...</td>\n",
              "      <td>...</td>\n",
              "      <td>...</td>\n",
              "    </tr>\n",
              "    <tr>\n",
              "      <th>3455</th>\n",
              "      <td>10.0</td>\n",
              "      <td>10.002687</td>\n",
              "      <td>-0.002687</td>\n",
              "    </tr>\n",
              "    <tr>\n",
              "      <th>1882</th>\n",
              "      <td>7.0</td>\n",
              "      <td>7.003031</td>\n",
              "      <td>-0.003031</td>\n",
              "    </tr>\n",
              "    <tr>\n",
              "      <th>3500</th>\n",
              "      <td>18.0</td>\n",
              "      <td>18.001649</td>\n",
              "      <td>-0.001649</td>\n",
              "    </tr>\n",
              "    <tr>\n",
              "      <th>6524</th>\n",
              "      <td>6.0</td>\n",
              "      <td>6.003241</td>\n",
              "      <td>-0.003241</td>\n",
              "    </tr>\n",
              "    <tr>\n",
              "      <th>5168</th>\n",
              "      <td>5.0</td>\n",
              "      <td>5.003276</td>\n",
              "      <td>-0.003276</td>\n",
              "    </tr>\n",
              "  </tbody>\n",
              "</table>\n",
              "<p>2296 rows × 3 columns</p>\n",
              "</div>"
            ],
            "text/plain": [
              "      actual_val  predicted_val      diff\n",
              "2085         8.0       8.004528 -0.004528\n",
              "7107        15.0      15.001990 -0.001990\n",
              "4305        76.0      75.995160  0.004840\n",
              "3670         0.0       0.003958 -0.003958\n",
              "5527         5.0       5.003283 -0.003283\n",
              "...          ...            ...       ...\n",
              "3455        10.0      10.002687 -0.002687\n",
              "1882         7.0       7.003031 -0.003031\n",
              "3500        18.0      18.001649 -0.001649\n",
              "6524         6.0       6.003241 -0.003241\n",
              "5168         5.0       5.003276 -0.003276\n",
              "\n",
              "[2296 rows x 3 columns]"
            ]
          },
          "execution_count": 7,
          "metadata": {},
          "output_type": "execute_result"
        }
      ],
      "source": [
        "y_pred = lassoreg.predict(x_test)\n",
        "\n",
        "y_test[\"predicted_val\"] = y_pred\n",
        "y_test[\"diff\"] = y_test[\"video_duration\"]-y_pred\n",
        "y_test.rename(columns={\"video_duration\": \"actual_val\"})"
      ]
    },
    {
      "cell_type": "code",
      "execution_count": 8,
      "metadata": {
        "colab": {
          "base_uri": "https://localhost:8080/",
          "height": 430
        },
        "id": "uCz8dCeqgUBH",
        "outputId": "f2939c7c-2261-450c-99b9-38366ff83ba6"
      },
      "outputs": [
        {
          "data": {
            "image/png": "[encoded data removed]",
            "text/plain": [
              "<Figure size 640x480 with 1 Axes>"
            ]
          },
          "metadata": {},
          "output_type": "display_data"
        }
      ],
      "source": [
        "plt.scatter(y_test.index, y_test[\"diff\"]) # Our predictions are pretty good on the training set\n",
        "plt.show()"
      ]
    },
    {
      "cell_type": "markdown",
      "metadata": {
        "id": "A4A-SbVTgUBH"
      },
      "source": [
        "#### Tuning the Hyperparameter"
      ]
    },
    {
      "cell_type": "code",
      "execution_count": 9,
      "metadata": {
        "id": "nnB1Esd--Pz9"
      },
      "outputs": [],
      "source": [
        "from sklearn.model_selection import GridSearchCV\n",
        "from sklearn.model_selection import RepeatedKFold"
      ]
    },
    {
      "cell_type": "code",
      "execution_count": 10,
      "metadata": {
        "id": "e8V91Mdu-MG2"
      },
      "outputs": [],
      "source": [
        "model = Lasso()\n",
        "cv = RepeatedKFold(n_splits=10, n_repeats=3, random_state=1)"
      ]
    },
    {
      "cell_type": "code",
      "execution_count": 11,
      "metadata": {
        "id": "TozMrF61-bhe"
      },
      "outputs": [],
      "source": [
        "grid = dict()\n",
        "grid['alpha'] = np.arange(0.01,1,0.01)"
      ]
    },
    {
      "cell_type": "code",
      "execution_count": 12,
      "metadata": {
        "id": "cE290OjPmgT3"
      },
      "outputs": [],
      "source": [
        "# Try it with train/test split\n",
        "search = GridSearchCV(model, grid, scoring='neg_mean_absolute_error',\n",
        "                      cv=cv, refit=True, n_jobs=1)\n",
        "results = search.fit(x_train, y_train)"
      ]
    },
    {
      "cell_type": "code",
      "execution_count": 13,
      "metadata": {},
      "outputs": [
        {
          "data": {
            "text/plain": [
              "array([ 8.00015093, 15.00006635, 75.99983866, ..., 18.00005497,\n",
              "        6.00010804,  5.00010921])"
            ]
          },
          "execution_count": 13,
          "metadata": {},
          "output_type": "execute_result"
        }
      ],
      "source": [
        "search.predict(x_test)"
      ]
    },
    {
      "cell_type": "code",
      "execution_count": 14,
      "metadata": {},
      "outputs": [
        {
          "name": "stderr",
          "output_type": "stream",
          "text": [
            "/var/folders/cw/4tmbrj3d1pzd4rhyrm8vnwyc0000gn/T/ipykernel_16534/2225001569.py:3: SettingWithCopyWarning: \n",
            "A value is trying to be set on a copy of a slice from a DataFrame.\n",
            "Try using .loc[row_indexer,col_indexer] = value instead\n",
            "\n",
            "See the caveats in the documentation: https://pandas.pydata.org/pandas-docs/stable/user_guide/indexing.html#returning-a-view-versus-a-copy\n",
            "  y_test[\"predicted_val2\"] = y_pred2\n",
            "/var/folders/cw/4tmbrj3d1pzd4rhyrm8vnwyc0000gn/T/ipykernel_16534/2225001569.py:4: SettingWithCopyWarning: \n",
            "A value is trying to be set on a copy of a slice from a DataFrame.\n",
            "Try using .loc[row_indexer,col_indexer] = value instead\n",
            "\n",
            "See the caveats in the documentation: https://pandas.pydata.org/pandas-docs/stable/user_guide/indexing.html#returning-a-view-versus-a-copy\n",
            "  y_test[\"diff2\"] = y_test[\"video_duration\"]-y_pred2\n"
          ]
        },
        {
          "data": {
            "text/html": [
              "<div>\n",
              "<style scoped>\n",
              "    .dataframe tbody tr th:only-of-type {\n",
              "        vertical-align: middle;\n",
              "    }\n",
              "\n",
              "    .dataframe tbody tr th {\n",
              "        vertical-align: top;\n",
              "    }\n",
              "\n",
              "    .dataframe thead th {\n",
              "        text-align: right;\n",
              "    }\n",
              "</style>\n",
              "<table border=\"1\" class=\"dataframe\">\n",
              "  <thead>\n",
              "    <tr style=\"text-align: right;\">\n",
              "      <th></th>\n",
              "      <th>actual_val</th>\n",
              "      <th>predicted_val</th>\n",
              "      <th>diff</th>\n",
              "      <th>predicted_val2</th>\n",
              "      <th>diff2</th>\n",
              "    </tr>\n",
              "  </thead>\n",
              "  <tbody>\n",
              "    <tr>\n",
              "      <th>2085</th>\n",
              "      <td>8.0</td>\n",
              "      <td>8.004528</td>\n",
              "      <td>-0.004528</td>\n",
              "      <td>8.000151</td>\n",
              "      <td>-0.000151</td>\n",
              "    </tr>\n",
              "    <tr>\n",
              "      <th>7107</th>\n",
              "      <td>15.0</td>\n",
              "      <td>15.001990</td>\n",
              "      <td>-0.001990</td>\n",
              "      <td>15.000066</td>\n",
              "      <td>-0.000066</td>\n",
              "    </tr>\n",
              "    <tr>\n",
              "      <th>4305</th>\n",
              "      <td>76.0</td>\n",
              "      <td>75.995160</td>\n",
              "      <td>0.004840</td>\n",
              "      <td>75.999839</td>\n",
              "      <td>0.000161</td>\n",
              "    </tr>\n",
              "    <tr>\n",
              "      <th>3670</th>\n",
              "      <td>0.0</td>\n",
              "      <td>0.003958</td>\n",
              "      <td>-0.003958</td>\n",
              "      <td>0.000132</td>\n",
              "      <td>-0.000132</td>\n",
              "    </tr>\n",
              "    <tr>\n",
              "      <th>5527</th>\n",
              "      <td>5.0</td>\n",
              "      <td>5.003283</td>\n",
              "      <td>-0.003283</td>\n",
              "      <td>5.000109</td>\n",
              "      <td>-0.000109</td>\n",
              "    </tr>\n",
              "    <tr>\n",
              "      <th>...</th>\n",
              "      <td>...</td>\n",
              "      <td>...</td>\n",
              "      <td>...</td>\n",
              "      <td>...</td>\n",
              "      <td>...</td>\n",
              "    </tr>\n",
              "    <tr>\n",
              "      <th>3455</th>\n",
              "      <td>10.0</td>\n",
              "      <td>10.002687</td>\n",
              "      <td>-0.002687</td>\n",
              "      <td>10.000090</td>\n",
              "      <td>-0.000090</td>\n",
              "    </tr>\n",
              "    <tr>\n",
              "      <th>1882</th>\n",
              "      <td>7.0</td>\n",
              "      <td>7.003031</td>\n",
              "      <td>-0.003031</td>\n",
              "      <td>7.000101</td>\n",
              "      <td>-0.000101</td>\n",
              "    </tr>\n",
              "    <tr>\n",
              "      <th>3500</th>\n",
              "      <td>18.0</td>\n",
              "      <td>18.001649</td>\n",
              "      <td>-0.001649</td>\n",
              "      <td>18.000055</td>\n",
              "      <td>-0.000055</td>\n",
              "    </tr>\n",
              "    <tr>\n",
              "      <th>6524</th>\n",
              "      <td>6.0</td>\n",
              "      <td>6.003241</td>\n",
              "      <td>-0.003241</td>\n",
              "      <td>6.000108</td>\n",
              "      <td>-0.000108</td>\n",
              "    </tr>\n",
              "    <tr>\n",
              "      <th>5168</th>\n",
              "      <td>5.0</td>\n",
              "      <td>5.003276</td>\n",
              "      <td>-0.003276</td>\n",
              "      <td>5.000109</td>\n",
              "      <td>-0.000109</td>\n",
              "    </tr>\n",
              "  </tbody>\n",
              "</table>\n",
              "<p>2296 rows × 5 columns</p>\n",
              "</div>"
            ],
            "text/plain": [
              "      actual_val  predicted_val      diff  predicted_val2     diff2\n",
              "2085         8.0       8.004528 -0.004528        8.000151 -0.000151\n",
              "7107        15.0      15.001990 -0.001990       15.000066 -0.000066\n",
              "4305        76.0      75.995160  0.004840       75.999839  0.000161\n",
              "3670         0.0       0.003958 -0.003958        0.000132 -0.000132\n",
              "5527         5.0       5.003283 -0.003283        5.000109 -0.000109\n",
              "...          ...            ...       ...             ...       ...\n",
              "3455        10.0      10.002687 -0.002687       10.000090 -0.000090\n",
              "1882         7.0       7.003031 -0.003031        7.000101 -0.000101\n",
              "3500        18.0      18.001649 -0.001649       18.000055 -0.000055\n",
              "6524         6.0       6.003241 -0.003241        6.000108 -0.000108\n",
              "5168         5.0       5.003276 -0.003276        5.000109 -0.000109\n",
              "\n",
              "[2296 rows x 5 columns]"
            ]
          },
          "execution_count": 14,
          "metadata": {},
          "output_type": "execute_result"
        }
      ],
      "source": [
        "y_pred2 = search.predict(x_test)\n",
        "\n",
        "y_test[\"predicted_val2\"] = y_pred2\n",
        "y_test[\"diff2\"] = y_test[\"video_duration\"]-y_pred2\n",
        "y_test.rename(columns={\"video_duration\": \"actual_val\"})"
      ]
    },
    {
      "cell_type": "code",
      "execution_count": 15,
      "metadata": {},
      "outputs": [
        {
          "data": {
            "text/plain": [
              "count    2296.000000\n",
              "mean        0.000007\n",
              "std         0.000221\n",
              "min        -0.000450\n",
              "25%        -0.000099\n",
              "50%        -0.000066\n",
              "75%         0.000033\n",
              "max         0.002474\n",
              "Name: diff2, dtype: float64"
            ]
          },
          "execution_count": 15,
          "metadata": {},
          "output_type": "execute_result"
        }
      ],
      "source": [
        "y_test['diff2'].describe()"
      ]
    },
    {
      "cell_type": "code",
      "execution_count": 16,
      "metadata": {},
      "outputs": [
        {
          "data": {
            "image/png": "[encoded data removed]",
            "text/plain": [
              "<Figure size 640x480 with 1 Axes>"
            ]
          },
          "metadata": {},
          "output_type": "display_data"
        }
      ],
      "source": [
        "plt.scatter(y_test.index, y_test[\"diff2\"]) # Our predictions are pretty good on the training set\n",
        "plt.show()"
      ]
    },
    {
      "cell_type": "code",
      "execution_count": 17,
      "metadata": {},
      "outputs": [
        {
          "data": {
            "text/plain": [
              "{'alpha': 0.01}"
            ]
          },
          "execution_count": 17,
          "metadata": {},
          "output_type": "execute_result"
        }
      ],
      "source": [
        "search.best_estimator_\n",
        "#search.best_score_\n",
        "search.best_params_"
      ]
    },
    {
      "cell_type": "markdown",
      "metadata": {},
      "source": [
        "The best hyperparameter is value $\\lambda=0.01$ after tuning."
      ]
    },
    {
      "cell_type": "markdown",
      "metadata": {},
      "source": [
        "### Refit Lasso Regression model (with optimal lambda)"
      ]
    },
    {
      "cell_type": "code",
      "execution_count": 18,
      "metadata": {},
      "outputs": [
        {
          "name": "stdout",
          "output_type": "stream",
          "text": [
            "                               0\n",
            "video_duration      9.999957e-01\n",
            "video_sharecount    3.652921e-10\n",
            "video_commentcount  3.727192e-10\n",
            "video_is_ad        -0.000000e+00\n",
            "author_verified     0.000000e+00\n",
            "intercept           1.306080e-04\n"
          ]
        }
      ],
      "source": [
        "lassoreg_opt = Lasso(alpha=0.01)\n",
        "lassoreg_opt.fit(x_train, y_train)\n",
        "\n",
        "# regression coefficients for optimal model\n",
        "coefs_opt = pd.DataFrame(index=columns[1:], data=lassoreg_opt.coef_)\n",
        "coefs_opt.loc[\"intercept\"] = lassoreg_opt.intercept_[0]\n",
        "print(coefs_opt)"
      ]
    }
  ],
  "metadata": {
    "colab": {
      "provenance": []
    },
    "kernelspec": {
      "display_name": "base",
      "language": "python",
      "name": "python3"
    },
    "language_info": {
      "codemirror_mode": {
        "name": "ipython",
        "version": 3
      },
      "file_extension": ".py",
      "mimetype": "text/x-python",
      "name": "python",
      "nbconvert_exporter": "python",
      "pygments_lexer": "ipython3",
      "version": "3.11.5"
    }
  },
  "nbformat": 4,
  "nbformat_minor": 0
}
